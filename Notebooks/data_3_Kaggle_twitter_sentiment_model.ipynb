{
 "cells": [
  {
   "cell_type": "markdown",
   "metadata": {},
   "source": [
    "# Purpose of the notebook\n",
    "* recreate twitter sentimental analysis model\n",
    "* use the model to scored medical related reddit comments"
   ]
  },
  {
   "cell_type": "code",
   "execution_count": 103,
   "metadata": {},
   "outputs": [],
   "source": [
    "# !pip install gensim --upgrade\n",
    "# !pip install keras --upgrade\n",
    "# !pip install tensorflow --upgrade"
   ]
  },
  {
   "cell_type": "code",
   "execution_count": 2,
   "metadata": {},
   "outputs": [],
   "source": [
    "# DataFrame\n",
    "import pandas as pd\n",
    "\n",
    "# Matplot\n",
    "import matplotlib.pyplot as plt\n",
    "%matplotlib inline\n",
    "\n",
    "# Scikit-learn\n",
    "from sklearn.model_selection import train_test_split\n",
    "from sklearn.preprocessing import LabelEncoder\n",
    "from sklearn.metrics import confusion_matrix, classification_report, accuracy_score\n",
    "from sklearn.manifold import TSNE\n",
    "from sklearn.feature_extraction.text import TfidfVectorizer\n",
    "\n",
    "# Keras\n",
    "from keras.preprocessing.text import Tokenizer\n",
    "from keras.preprocessing.sequence import pad_sequences\n",
    "from keras.models import Sequential\n",
    "from keras.layers import Activation, Dense, Dropout, Embedding, Flatten, Conv1D, MaxPooling1D, LSTM\n",
    "from keras import utils\n",
    "from keras.callbacks import ReduceLROnPlateau, EarlyStopping\n",
    "\n",
    "# nltk\n",
    "import nltk\n",
    "from nltk.corpus import stopwords\n",
    "from  nltk.stem import SnowballStemmer\n",
    "\n",
    "# Word2vec\n",
    "import gensim\n",
    "\n",
    "# Utility\n",
    "import re\n",
    "import numpy as np\n",
    "import os\n",
    "from collections import Counter\n",
    "import logging\n",
    "import time\n",
    "import pickle\n",
    "import itertools\n",
    "\n",
    "# Set log\n",
    "logging.basicConfig(format='%(asctime)s : %(levelname)s : %(message)s', level=logging.INFO)"
   ]
  },
  {
   "cell_type": "code",
   "execution_count": 2,
   "metadata": {},
   "outputs": [
    {
     "name": "stderr",
     "output_type": "stream",
     "text": [
      "[nltk_data] Downloading package stopwords to\n",
      "[nltk_data]     /Users/richardwang/nltk_data...\n",
      "[nltk_data]   Package stopwords is already up-to-date!\n"
     ]
    },
    {
     "data": {
      "text/plain": [
       "True"
      ]
     },
     "execution_count": 2,
     "metadata": {},
     "output_type": "execute_result"
    }
   ],
   "source": [
    "nltk.download('stopwords')"
   ]
  },
  {
   "cell_type": "markdown",
   "metadata": {},
   "source": [
    "# load in the tweeter sentimental data and retrain the model"
   ]
  },
  {
   "cell_type": "code",
   "execution_count": 3,
   "metadata": {},
   "outputs": [],
   "source": [
    "# DATASET\n",
    "DATASET_COLUMNS = [\"target\", \"ids\", \"date\", \"flag\", \"user\", \"text\"]\n",
    "DATASET_ENCODING = \"ISO-8859-1\"\n",
    "TRAIN_SIZE = 0.8\n",
    "\n",
    "# TEXT CLENAING\n",
    "TEXT_CLEANING_RE = \"@\\S+|https?:\\S+|http?:\\S|[^A-Za-z0-9]+\"\n",
    "\n",
    "# WORD2VEC \n",
    "W2V_SIZE = 300\n",
    "W2V_WINDOW = 7\n",
    "W2V_EPOCH = 32\n",
    "W2V_MIN_COUNT = 10\n",
    "\n",
    "# KERAS\n",
    "SEQUENCE_LENGTH = 300\n",
    "EPOCHS = 8\n",
    "BATCH_SIZE = 1024\n",
    "\n",
    "# SENTIMENT\n",
    "POSITIVE = \"POSITIVE\"\n",
    "NEGATIVE = \"NEGATIVE\"\n",
    "NEUTRAL = \"NEUTRAL\"\n",
    "SENTIMENT_THRESHOLDS = (0.4, 0.7)\n",
    "\n",
    "# EXPORT\n",
    "KERAS_MODEL = \"model.h5\"\n",
    "WORD2VEC_MODEL = \"model.w2v\"\n",
    "TOKENIZER_MODEL = \"tokenizer.pkl\"\n",
    "ENCODER_MODEL = \"encoder.pkl\""
   ]
  },
  {
   "cell_type": "code",
   "execution_count": 5,
   "metadata": {},
   "outputs": [],
   "source": [
    "# dataset_filename = os.listdir(\"../input\")[0]\n",
    "# dataset_path = os.path.join(\"..\",\"input\",dataset_filename)\n",
    "# print(\"Open file:\", dataset_path)\n",
    "df = pd.read_csv('Project/new_data/kaggle/training.1600000.processed.noemoticon.csv', encoding =DATASET_ENCODING , names=DATASET_COLUMNS)"
   ]
  },
  {
   "cell_type": "code",
   "execution_count": 6,
   "metadata": {},
   "outputs": [],
   "source": [
    "decode_map = {0: \"NEGATIVE\", 2: \"NEUTRAL\", 4: \"POSITIVE\"}\n",
    "def decode_sentiment(label):\n",
    "    return decode_map[int(label)]"
   ]
  },
  {
   "cell_type": "code",
   "execution_count": 7,
   "metadata": {},
   "outputs": [
    {
     "name": "stdout",
     "output_type": "stream",
     "text": [
      "CPU times: user 434 ms, sys: 8.25 ms, total: 442 ms\n",
      "Wall time: 446 ms\n"
     ]
    }
   ],
   "source": [
    "%%time\n",
    "df.target = df.target.apply(lambda x: decode_sentiment(x))"
   ]
  },
  {
   "cell_type": "code",
   "execution_count": 8,
   "metadata": {},
   "outputs": [
    {
     "data": {
      "text/plain": [
       "Text(0.5, 1.0, 'Dataset labels distribuition')"
      ]
     },
     "execution_count": 8,
     "metadata": {},
     "output_type": "execute_result"
    },
    {
     "data": {
      "image/png": "[encoded data removed]",
      "text/plain": [
       "<Figure size 1152x576 with 1 Axes>"
      ]
     },
     "metadata": {
      "needs_background": "light"
     },
     "output_type": "display_data"
    }
   ],
   "source": [
    "target_cnt = Counter(df.target)\n",
    "\n",
    "plt.figure(figsize=(16,8))\n",
    "plt.bar(target_cnt.keys(), target_cnt.values())\n",
    "plt.title(\"Dataset labels distribuition\")"
   ]
  },
  {
   "cell_type": "code",
   "execution_count": 9,
   "metadata": {},
   "outputs": [],
   "source": [
    "stop_words = stopwords.words(\"english\")\n",
    "stemmer = SnowballStemmer(\"english\")"
   ]
  },
  {
   "cell_type": "code",
   "execution_count": 10,
   "metadata": {},
   "outputs": [],
   "source": [
    "def preprocess(text, stem=False):\n",
    "    # Remove link,user and special characters\n",
    "    text = re.sub(TEXT_CLEANING_RE, ' ', str(text).lower()).strip()\n",
    "    tokens = []\n",
    "    for token in text.split():\n",
    "        if token not in stop_words:\n",
    "            if stem:\n",
    "                tokens.append(stemmer.stem(token))\n",
    "            else:\n",
    "                tokens.append(token)\n",
    "    return \" \".join(tokens)"
   ]
  },
  {
   "cell_type": "code",
   "execution_count": 11,
   "metadata": {},
   "outputs": [
    {
     "name": "stdout",
     "output_type": "stream",
     "text": [
      "TRAIN size: 1280000\n",
      "TEST size: 320000\n"
     ]
    }
   ],
   "source": [
    "df_train, df_test = train_test_split(df, test_size=1-TRAIN_SIZE, random_state=42)\n",
    "print(\"TRAIN size:\", len(df_train))\n",
    "print(\"TEST size:\", len(df_test))"
   ]
  },
  {
   "cell_type": "code",
   "execution_count": 12,
   "metadata": {},
   "outputs": [
    {
     "name": "stdout",
     "output_type": "stream",
     "text": [
      "CPU times: user 3.63 s, sys: 385 ms, total: 4.02 s\n",
      "Wall time: 4.03 s\n"
     ]
    }
   ],
   "source": [
    "%%time\n",
    "documents = [_text.split() for _text in df_train.text] "
   ]
  },
  {
   "cell_type": "code",
   "execution_count": 13,
   "metadata": {},
   "outputs": [],
   "source": [
    "w2v_model = gensim.models.word2vec.Word2Vec(size=W2V_SIZE, \n",
    "                                            window=W2V_WINDOW, \n",
    "                                            min_count=W2V_MIN_COUNT, \n",
    "                                            workers=8)"
   ]
  },
  {
   "cell_type": "code",
   "execution_count": 14,
   "metadata": {
    "collapsed": true,
    "jupyter": {
     "outputs_hidden": true
    }
   },
   "outputs": [
    {
     "name": "stderr",
     "output_type": "stream",
     "text": [
      "2020-11-18 16:19:59,031 : INFO : collecting all words and their counts\n",
      "2020-11-18 16:19:59,032 : INFO : PROGRESS: at sentence #0, processed 0 words, keeping 0 word types\n",
      "2020-11-18 16:19:59,063 : INFO : PROGRESS: at sentence #10000, processed 132112 words, keeping 29901 word types\n",
      "2020-11-18 16:19:59,098 : INFO : PROGRESS: at sentence #20000, processed 263673 words, keeping 51026 word types\n",
      "2020-11-18 16:19:59,139 : INFO : PROGRESS: at sentence #30000, processed 393870 words, keeping 69231 word types\n",
      "2020-11-18 16:19:59,180 : INFO : PROGRESS: at sentence #40000, processed 526649 words, keeping 86122 word types\n",
      "2020-11-18 16:19:59,225 : INFO : PROGRESS: at sentence #50000, processed 657596 words, keeping 102097 word types\n",
      "2020-11-18 16:19:59,264 : INFO : PROGRESS: at sentence #60000, processed 788578 words, keeping 117455 word types\n",
      "2020-11-18 16:19:59,300 : INFO : PROGRESS: at sentence #70000, processed 919604 words, keeping 131952 word types\n",
      "2020-11-18 16:19:59,342 : INFO : PROGRESS: at sentence #80000, processed 1052441 words, keeping 146076 word types\n",
      "2020-11-18 16:19:59,381 : INFO : PROGRESS: at sentence #90000, processed 1183131 words, keeping 159472 word types\n",
      "2020-11-18 16:19:59,419 : INFO : PROGRESS: at sentence #100000, processed 1314331 words, keeping 172821 word types\n",
      "2020-11-18 16:19:59,471 : INFO : PROGRESS: at sentence #110000, processed 1446370 words, keeping 185592 word types\n",
      "2020-11-18 16:19:59,511 : INFO : PROGRESS: at sentence #120000, processed 1578606 words, keeping 198255 word types\n",
      "2020-11-18 16:19:59,548 : INFO : PROGRESS: at sentence #130000, processed 1709858 words, keeping 210744 word types\n",
      "2020-11-18 16:19:59,590 : INFO : PROGRESS: at sentence #140000, processed 1841169 words, keeping 223024 word types\n",
      "2020-11-18 16:19:59,631 : INFO : PROGRESS: at sentence #150000, processed 1972482 words, keeping 234975 word types\n",
      "2020-11-18 16:19:59,670 : INFO : PROGRESS: at sentence #160000, processed 2103031 words, keeping 246687 word types\n",
      "2020-11-18 16:19:59,713 : INFO : PROGRESS: at sentence #170000, processed 2234925 words, keeping 258414 word types\n",
      "2020-11-18 16:19:59,752 : INFO : PROGRESS: at sentence #180000, processed 2367283 words, keeping 270002 word types\n",
      "2020-11-18 16:19:59,797 : INFO : PROGRESS: at sentence #190000, processed 2500479 words, keeping 281222 word types\n",
      "2020-11-18 16:19:59,838 : INFO : PROGRESS: at sentence #200000, processed 2631829 words, keeping 292152 word types\n",
      "2020-11-18 16:19:59,880 : INFO : PROGRESS: at sentence #210000, processed 2764003 words, keeping 302876 word types\n",
      "2020-11-18 16:19:59,919 : INFO : PROGRESS: at sentence #220000, processed 2896342 words, keeping 313767 word types\n",
      "2020-11-18 16:19:59,959 : INFO : PROGRESS: at sentence #230000, processed 3027698 words, keeping 324625 word types\n",
      "2020-11-18 16:20:00,002 : INFO : PROGRESS: at sentence #240000, processed 3159606 words, keeping 335133 word types\n",
      "2020-11-18 16:20:00,048 : INFO : PROGRESS: at sentence #250000, processed 3291844 words, keeping 345554 word types\n",
      "2020-11-18 16:20:00,109 : INFO : PROGRESS: at sentence #260000, processed 3423575 words, keeping 355777 word types\n",
      "2020-11-18 16:20:00,162 : INFO : PROGRESS: at sentence #270000, processed 3555391 words, keeping 365775 word types\n",
      "2020-11-18 16:20:00,208 : INFO : PROGRESS: at sentence #280000, processed 3687145 words, keeping 375852 word types\n",
      "2020-11-18 16:20:00,258 : INFO : PROGRESS: at sentence #290000, processed 3819167 words, keeping 385823 word types\n",
      "2020-11-18 16:20:00,315 : INFO : PROGRESS: at sentence #300000, processed 3950470 words, keeping 395779 word types\n",
      "2020-11-18 16:20:00,372 : INFO : PROGRESS: at sentence #310000, processed 4082219 words, keeping 405465 word types\n",
      "2020-11-18 16:20:00,423 : INFO : PROGRESS: at sentence #320000, processed 4214570 words, keeping 415238 word types\n",
      "2020-11-18 16:20:00,470 : INFO : PROGRESS: at sentence #330000, processed 4346260 words, keeping 424936 word types\n",
      "2020-11-18 16:20:00,507 : INFO : PROGRESS: at sentence #340000, processed 4478336 words, keeping 434483 word types\n",
      "2020-11-18 16:20:00,546 : INFO : PROGRESS: at sentence #350000, processed 4610279 words, keeping 444003 word types\n",
      "2020-11-18 16:20:00,589 : INFO : PROGRESS: at sentence #360000, processed 4742174 words, keeping 453263 word types\n",
      "2020-11-18 16:20:00,632 : INFO : PROGRESS: at sentence #370000, processed 4874277 words, keeping 462411 word types\n",
      "2020-11-18 16:20:00,675 : INFO : PROGRESS: at sentence #380000, processed 5006193 words, keeping 471619 word types\n",
      "2020-11-18 16:20:00,719 : INFO : PROGRESS: at sentence #390000, processed 5137916 words, keeping 480860 word types\n",
      "2020-11-18 16:20:00,762 : INFO : PROGRESS: at sentence #400000, processed 5270143 words, keeping 490039 word types\n",
      "2020-11-18 16:20:00,810 : INFO : PROGRESS: at sentence #410000, processed 5401423 words, keeping 499030 word types\n",
      "2020-11-18 16:20:00,854 : INFO : PROGRESS: at sentence #420000, processed 5533490 words, keeping 508095 word types\n",
      "2020-11-18 16:20:00,892 : INFO : PROGRESS: at sentence #430000, processed 5665439 words, keeping 517180 word types\n",
      "2020-11-18 16:20:00,932 : INFO : PROGRESS: at sentence #440000, processed 5797147 words, keeping 525979 word types\n",
      "2020-11-18 16:20:00,976 : INFO : PROGRESS: at sentence #450000, processed 5929754 words, keeping 534793 word types\n",
      "2020-11-18 16:20:01,021 : INFO : PROGRESS: at sentence #460000, processed 6061583 words, keeping 543588 word types\n",
      "2020-11-18 16:20:01,064 : INFO : PROGRESS: at sentence #470000, processed 6194998 words, keeping 552409 word types\n",
      "2020-11-18 16:20:01,113 : INFO : PROGRESS: at sentence #480000, processed 6326545 words, keeping 561068 word types\n",
      "2020-11-18 16:20:01,166 : INFO : PROGRESS: at sentence #490000, processed 6457645 words, keeping 569793 word types\n",
      "2020-11-18 16:20:01,208 : INFO : PROGRESS: at sentence #500000, processed 6589376 words, keeping 578338 word types\n",
      "2020-11-18 16:20:01,250 : INFO : PROGRESS: at sentence #510000, processed 6721389 words, keeping 587028 word types\n",
      "2020-11-18 16:20:01,295 : INFO : PROGRESS: at sentence #520000, processed 6853716 words, keeping 595546 word types\n",
      "2020-11-18 16:20:01,345 : INFO : PROGRESS: at sentence #530000, processed 6986012 words, keeping 604020 word types\n",
      "2020-11-18 16:20:01,396 : INFO : PROGRESS: at sentence #540000, processed 7117624 words, keeping 612410 word types\n",
      "2020-11-18 16:20:01,440 : INFO : PROGRESS: at sentence #550000, processed 7248608 words, keeping 620607 word types\n",
      "2020-11-18 16:20:01,482 : INFO : PROGRESS: at sentence #560000, processed 7380993 words, keeping 628903 word types\n",
      "2020-11-18 16:20:01,527 : INFO : PROGRESS: at sentence #570000, processed 7512366 words, keeping 637115 word types\n",
      "2020-11-18 16:20:01,574 : INFO : PROGRESS: at sentence #580000, processed 7644627 words, keeping 645277 word types\n",
      "2020-11-18 16:20:01,619 : INFO : PROGRESS: at sentence #590000, processed 7776602 words, keeping 653425 word types\n",
      "2020-11-18 16:20:01,664 : INFO : PROGRESS: at sentence #600000, processed 7908650 words, keeping 661474 word types\n",
      "2020-11-18 16:20:01,714 : INFO : PROGRESS: at sentence #610000, processed 8040684 words, keeping 669594 word types\n",
      "2020-11-18 16:20:01,765 : INFO : PROGRESS: at sentence #620000, processed 8172915 words, keeping 677643 word types\n",
      "2020-11-18 16:20:01,811 : INFO : PROGRESS: at sentence #630000, processed 8304198 words, keeping 685671 word types\n",
      "2020-11-18 16:20:01,857 : INFO : PROGRESS: at sentence #640000, processed 8436376 words, keeping 693631 word types\n",
      "2020-11-18 16:20:01,935 : INFO : PROGRESS: at sentence #650000, processed 8569167 words, keeping 701810 word types\n",
      "2020-11-18 16:20:01,979 : INFO : PROGRESS: at sentence #660000, processed 8700871 words, keeping 709691 word types\n",
      "2020-11-18 16:20:02,027 : INFO : PROGRESS: at sentence #670000, processed 8833102 words, keeping 717450 word types\n",
      "2020-11-18 16:20:02,071 : INFO : PROGRESS: at sentence #680000, processed 8963806 words, keeping 725395 word types\n",
      "2020-11-18 16:20:02,109 : INFO : PROGRESS: at sentence #690000, processed 9096715 words, keeping 733113 word types\n",
      "2020-11-18 16:20:02,150 : INFO : PROGRESS: at sentence #700000, processed 9229687 words, keeping 740895 word types\n",
      "2020-11-18 16:20:02,194 : INFO : PROGRESS: at sentence #710000, processed 9362031 words, keeping 748596 word types\n",
      "2020-11-18 16:20:02,243 : INFO : PROGRESS: at sentence #720000, processed 9493652 words, keeping 756276 word types\n",
      "2020-11-18 16:20:02,287 : INFO : PROGRESS: at sentence #730000, processed 9625180 words, keeping 763908 word types\n",
      "2020-11-18 16:20:02,325 : INFO : PROGRESS: at sentence #740000, processed 9756522 words, keeping 771468 word types\n",
      "2020-11-18 16:20:02,365 : INFO : PROGRESS: at sentence #750000, processed 9888277 words, keeping 778999 word types\n",
      "2020-11-18 16:20:02,410 : INFO : PROGRESS: at sentence #760000, processed 10019806 words, keeping 786637 word types\n",
      "2020-11-18 16:20:02,454 : INFO : PROGRESS: at sentence #770000, processed 10151991 words, keeping 794339 word types\n",
      "2020-11-18 16:20:02,498 : INFO : PROGRESS: at sentence #780000, processed 10281847 words, keeping 801817 word types\n",
      "2020-11-18 16:20:02,546 : INFO : PROGRESS: at sentence #790000, processed 10414770 words, keeping 809398 word types\n",
      "2020-11-18 16:20:02,602 : INFO : PROGRESS: at sentence #800000, processed 10547202 words, keeping 816913 word types\n",
      "2020-11-18 16:20:02,668 : INFO : PROGRESS: at sentence #810000, processed 10679525 words, keeping 824233 word types\n",
      "2020-11-18 16:20:02,737 : INFO : PROGRESS: at sentence #820000, processed 10811168 words, keeping 831644 word types\n",
      "2020-11-18 16:20:02,808 : INFO : PROGRESS: at sentence #830000, processed 10942199 words, keeping 839091 word types\n",
      "2020-11-18 16:20:02,872 : INFO : PROGRESS: at sentence #840000, processed 11073211 words, keeping 846294 word types\n",
      "2020-11-18 16:20:02,926 : INFO : PROGRESS: at sentence #850000, processed 11205021 words, keeping 853756 word types\n",
      "2020-11-18 16:20:02,975 : INFO : PROGRESS: at sentence #860000, processed 11336392 words, keeping 861009 word types\n",
      "2020-11-18 16:20:03,022 : INFO : PROGRESS: at sentence #870000, processed 11468206 words, keeping 868404 word types\n",
      "2020-11-18 16:20:03,069 : INFO : PROGRESS: at sentence #880000, processed 11600711 words, keeping 875559 word types\n",
      "2020-11-18 16:20:03,111 : INFO : PROGRESS: at sentence #890000, processed 11732260 words, keeping 882778 word types\n",
      "2020-11-18 16:20:03,156 : INFO : PROGRESS: at sentence #900000, processed 11863340 words, keeping 890141 word types\n",
      "2020-11-18 16:20:03,204 : INFO : PROGRESS: at sentence #910000, processed 11995324 words, keeping 897298 word types\n",
      "2020-11-18 16:20:03,243 : INFO : PROGRESS: at sentence #920000, processed 12127550 words, keeping 904400 word types\n",
      "2020-11-18 16:20:03,288 : INFO : PROGRESS: at sentence #930000, processed 12260176 words, keeping 911645 word types\n",
      "2020-11-18 16:20:03,339 : INFO : PROGRESS: at sentence #940000, processed 12390859 words, keeping 918772 word types\n",
      "2020-11-18 16:20:03,388 : INFO : PROGRESS: at sentence #950000, processed 12523163 words, keeping 925878 word types\n",
      "2020-11-18 16:20:03,438 : INFO : PROGRESS: at sentence #960000, processed 12654160 words, keeping 932883 word types\n",
      "2020-11-18 16:20:03,484 : INFO : PROGRESS: at sentence #970000, processed 12785997 words, keeping 939873 word types\n",
      "2020-11-18 16:20:03,539 : INFO : PROGRESS: at sentence #980000, processed 12916094 words, keeping 947099 word types\n",
      "2020-11-18 16:20:03,592 : INFO : PROGRESS: at sentence #990000, processed 13047116 words, keeping 954021 word types\n",
      "2020-11-18 16:20:03,652 : INFO : PROGRESS: at sentence #1000000, processed 13178081 words, keeping 960924 word types\n",
      "2020-11-18 16:20:03,706 : INFO : PROGRESS: at sentence #1010000, processed 13309043 words, keeping 967937 word types\n",
      "2020-11-18 16:20:03,768 : INFO : PROGRESS: at sentence #1020000, processed 13440734 words, keeping 974925 word types\n",
      "2020-11-18 16:20:03,822 : INFO : PROGRESS: at sentence #1030000, processed 13571431 words, keeping 981832 word types\n",
      "2020-11-18 16:20:03,878 : INFO : PROGRESS: at sentence #1040000, processed 13702771 words, keeping 988756 word types\n",
      "2020-11-18 16:20:03,927 : INFO : PROGRESS: at sentence #1050000, processed 13833848 words, keeping 995726 word types\n",
      "2020-11-18 16:20:03,972 : INFO : PROGRESS: at sentence #1060000, processed 13966925 words, keeping 1002699 word types\n",
      "2020-11-18 16:20:04,011 : INFO : PROGRESS: at sentence #1070000, processed 14097492 words, keeping 1009387 word types\n",
      "2020-11-18 16:20:04,055 : INFO : PROGRESS: at sentence #1080000, processed 14229888 words, keeping 1016337 word types\n",
      "2020-11-18 16:20:04,103 : INFO : PROGRESS: at sentence #1090000, processed 14361225 words, keeping 1023358 word types\n",
      "2020-11-18 16:20:04,154 : INFO : PROGRESS: at sentence #1100000, processed 14494023 words, keeping 1030367 word types\n",
      "2020-11-18 16:20:04,195 : INFO : PROGRESS: at sentence #1110000, processed 14625945 words, keeping 1037202 word types\n",
      "2020-11-18 16:20:04,237 : INFO : PROGRESS: at sentence #1120000, processed 14756501 words, keeping 1043929 word types\n",
      "2020-11-18 16:20:04,286 : INFO : PROGRESS: at sentence #1130000, processed 14888369 words, keeping 1050831 word types\n",
      "2020-11-18 16:20:04,340 : INFO : PROGRESS: at sentence #1140000, processed 15020485 words, keeping 1057565 word types\n",
      "2020-11-18 16:20:04,400 : INFO : PROGRESS: at sentence #1150000, processed 15152218 words, keeping 1064245 word types\n",
      "2020-11-18 16:20:04,462 : INFO : PROGRESS: at sentence #1160000, processed 15283002 words, keeping 1070966 word types\n",
      "2020-11-18 16:20:04,528 : INFO : PROGRESS: at sentence #1170000, processed 15414166 words, keeping 1077624 word types\n",
      "2020-11-18 16:20:04,581 : INFO : PROGRESS: at sentence #1180000, processed 15546699 words, keeping 1084250 word types\n",
      "2020-11-18 16:20:04,630 : INFO : PROGRESS: at sentence #1190000, processed 15677140 words, keeping 1090855 word types\n",
      "2020-11-18 16:20:04,683 : INFO : PROGRESS: at sentence #1200000, processed 15807923 words, keeping 1097408 word types\n",
      "2020-11-18 16:20:04,728 : INFO : PROGRESS: at sentence #1210000, processed 15938951 words, keeping 1103915 word types\n",
      "2020-11-18 16:20:04,772 : INFO : PROGRESS: at sentence #1220000, processed 16070274 words, keeping 1110618 word types\n",
      "2020-11-18 16:20:04,816 : INFO : PROGRESS: at sentence #1230000, processed 16201694 words, keeping 1117329 word types\n",
      "2020-11-18 16:20:04,864 : INFO : PROGRESS: at sentence #1240000, processed 16333912 words, keeping 1123906 word types\n",
      "2020-11-18 16:20:04,912 : INFO : PROGRESS: at sentence #1250000, processed 16466665 words, keeping 1130498 word types\n",
      "2020-11-18 16:20:04,956 : INFO : PROGRESS: at sentence #1260000, processed 16599276 words, keeping 1137095 word types\n",
      "2020-11-18 16:20:04,997 : INFO : PROGRESS: at sentence #1270000, processed 16731828 words, keeping 1143483 word types\n",
      "2020-11-18 16:20:05,043 : INFO : collected 1149907 word types from a corpus of 16862887 raw words and 1280000 sentences\n",
      "2020-11-18 16:20:05,043 : INFO : Loading a fresh vocabulary\n",
      "2020-11-18 16:20:06,059 : INFO : effective_min_count=10 retains 59839 unique words (5% of original 1149907, drops 1090068)\n",
      "2020-11-18 16:20:06,059 : INFO : effective_min_count=10 leaves 15165611 word corpus (89% of original 16862887, drops 1697276)\n",
      "2020-11-18 16:20:06,212 : INFO : deleting the raw counts dictionary of 1149907 items\n",
      "2020-11-18 16:20:06,233 : INFO : sample=0.001 downsamples 45 most-common words\n",
      "2020-11-18 16:20:06,233 : INFO : downsampling leaves estimated 12378603 word corpus (81.6% of prior 15165611)\n",
      "2020-11-18 16:20:06,430 : INFO : estimated required memory for 59839 words and 300 dimensions: 173533100 bytes\n",
      "2020-11-18 16:20:06,431 : INFO : resetting layer weights\n"
     ]
    }
   ],
   "source": [
    "w2v_model.build_vocab(documents)"
   ]
  },
  {
   "cell_type": "code",
   "execution_count": 15,
   "metadata": {},
   "outputs": [
    {
     "name": "stdout",
     "output_type": "stream",
     "text": [
      "Vocab size 59839\n"
     ]
    }
   ],
   "source": [
    "words = w2v_model.wv.vocab.keys()\n",
    "vocab_size = len(words)\n",
    "print(\"Vocab size\", vocab_size)"
   ]
  },
  {
   "cell_type": "code",
   "execution_count": 16,
   "metadata": {
    "collapsed": true,
    "jupyter": {
     "outputs_hidden": true
    }
   },
   "outputs": [
    {
     "name": "stderr",
     "output_type": "stream",
     "text": [
      "2020-11-18 16:20:33,002 : INFO : training model with 8 workers on 59839 vocabulary and 300 features, using sg=0 hs=0 sample=0.001 negative=5 window=7\n",
      "2020-11-18 16:20:34,027 : INFO : EPOCH 1 - PROGRESS: at 9.49% examples, 1158587 words/s, in_qsize 14, out_qsize 1\n",
      "2020-11-18 16:20:35,047 : INFO : EPOCH 1 - PROGRESS: at 19.45% examples, 1183019 words/s, in_qsize 15, out_qsize 0\n",
      "2020-11-18 16:20:36,049 : INFO : EPOCH 1 - PROGRESS: at 29.33% examples, 1196034 words/s, in_qsize 13, out_qsize 2\n",
      "2020-11-18 16:20:37,057 : INFO : EPOCH 1 - PROGRESS: at 39.27% examples, 1202767 words/s, in_qsize 15, out_qsize 0\n",
      "2020-11-18 16:20:38,064 : INFO : EPOCH 1 - PROGRESS: at 48.56% examples, 1190867 words/s, in_qsize 15, out_qsize 1\n",
      "2020-11-18 16:20:39,076 : INFO : EPOCH 1 - PROGRESS: at 57.01% examples, 1165179 words/s, in_qsize 14, out_qsize 1\n",
      "2020-11-18 16:20:40,083 : INFO : EPOCH 1 - PROGRESS: at 65.31% examples, 1144369 words/s, in_qsize 14, out_qsize 1\n",
      "2020-11-18 16:20:41,085 : INFO : EPOCH 1 - PROGRESS: at 73.01% examples, 1120531 words/s, in_qsize 15, out_qsize 0\n",
      "2020-11-18 16:20:42,111 : INFO : EPOCH 1 - PROGRESS: at 80.63% examples, 1097432 words/s, in_qsize 15, out_qsize 0\n",
      "2020-11-18 16:20:43,116 : INFO : EPOCH 1 - PROGRESS: at 88.58% examples, 1085485 words/s, in_qsize 13, out_qsize 2\n",
      "2020-11-18 16:20:44,116 : INFO : EPOCH 1 - PROGRESS: at 96.66% examples, 1077504 words/s, in_qsize 16, out_qsize 1\n",
      "2020-11-18 16:20:44,481 : INFO : worker thread finished; awaiting finish of 7 more threads\n",
      "2020-11-18 16:20:44,489 : INFO : worker thread finished; awaiting finish of 6 more threads\n",
      "2020-11-18 16:20:44,492 : INFO : worker thread finished; awaiting finish of 5 more threads\n",
      "2020-11-18 16:20:44,511 : INFO : worker thread finished; awaiting finish of 4 more threads\n",
      "2020-11-18 16:20:44,512 : INFO : worker thread finished; awaiting finish of 3 more threads\n",
      "2020-11-18 16:20:44,514 : INFO : worker thread finished; awaiting finish of 2 more threads\n",
      "2020-11-18 16:20:44,518 : INFO : worker thread finished; awaiting finish of 1 more threads\n",
      "2020-11-18 16:20:44,565 : INFO : worker thread finished; awaiting finish of 0 more threads\n",
      "2020-11-18 16:20:44,566 : INFO : EPOCH - 1 : training on 16862887 raw words (12378753 effective words) took 11.6s, 1071532 effective words/s\n",
      "2020-11-18 16:20:45,594 : INFO : EPOCH 2 - PROGRESS: at 4.45% examples, 549326 words/s, in_qsize 15, out_qsize 0\n",
      "2020-11-18 16:20:46,606 : INFO : EPOCH 2 - PROGRESS: at 9.20% examples, 564786 words/s, in_qsize 14, out_qsize 1\n",
      "2020-11-18 16:20:47,620 : INFO : EPOCH 2 - PROGRESS: at 14.47% examples, 590886 words/s, in_qsize 15, out_qsize 0\n",
      "2020-11-18 16:20:48,631 : INFO : EPOCH 2 - PROGRESS: at 21.28% examples, 651777 words/s, in_qsize 15, out_qsize 0\n",
      "2020-11-18 16:20:49,665 : INFO : EPOCH 2 - PROGRESS: at 26.96% examples, 657738 words/s, in_qsize 14, out_qsize 1\n",
      "2020-11-18 16:20:50,674 : INFO : EPOCH 2 - PROGRESS: at 33.42% examples, 680202 words/s, in_qsize 16, out_qsize 2\n",
      "2020-11-18 16:20:51,677 : INFO : EPOCH 2 - PROGRESS: at 43.06% examples, 752692 words/s, in_qsize 13, out_qsize 2\n",
      "2020-11-18 16:20:52,692 : INFO : EPOCH 2 - PROGRESS: at 52.58% examples, 804334 words/s, in_qsize 13, out_qsize 2\n",
      "2020-11-18 16:20:53,702 : INFO : EPOCH 2 - PROGRESS: at 62.23% examples, 846485 words/s, in_qsize 14, out_qsize 1\n",
      "2020-11-18 16:20:54,709 : INFO : EPOCH 2 - PROGRESS: at 71.54% examples, 876068 words/s, in_qsize 15, out_qsize 0\n",
      "2020-11-18 16:20:55,729 : INFO : EPOCH 2 - PROGRESS: at 79.62% examples, 885411 words/s, in_qsize 15, out_qsize 1\n",
      "2020-11-18 16:20:56,741 : INFO : EPOCH 2 - PROGRESS: at 89.16% examples, 908759 words/s, in_qsize 15, out_qsize 0\n",
      "2020-11-18 16:20:57,749 : INFO : EPOCH 2 - PROGRESS: at 97.54% examples, 917782 words/s, in_qsize 16, out_qsize 0\n",
      "2020-11-18 16:20:57,984 : INFO : worker thread finished; awaiting finish of 7 more threads\n",
      "2020-11-18 16:20:57,986 : INFO : worker thread finished; awaiting finish of 6 more threads\n",
      "2020-11-18 16:20:57,998 : INFO : worker thread finished; awaiting finish of 5 more threads\n",
      "2020-11-18 16:20:57,999 : INFO : worker thread finished; awaiting finish of 4 more threads\n",
      "2020-11-18 16:20:58,000 : INFO : worker thread finished; awaiting finish of 3 more threads\n",
      "2020-11-18 16:20:58,001 : INFO : worker thread finished; awaiting finish of 2 more threads\n",
      "2020-11-18 16:20:58,003 : INFO : worker thread finished; awaiting finish of 1 more threads\n",
      "2020-11-18 16:20:58,012 : INFO : worker thread finished; awaiting finish of 0 more threads\n",
      "2020-11-18 16:20:58,013 : INFO : EPOCH - 2 : training on 16862887 raw words (12379291 effective words) took 13.4s, 922483 effective words/s\n",
      "2020-11-18 16:20:59,037 : INFO : EPOCH 3 - PROGRESS: at 8.96% examples, 1093995 words/s, in_qsize 15, out_qsize 0\n",
      "2020-11-18 16:21:00,040 : INFO : EPOCH 3 - PROGRESS: at 18.68% examples, 1146135 words/s, in_qsize 15, out_qsize 0\n",
      "2020-11-18 16:21:01,054 : INFO : EPOCH 3 - PROGRESS: at 28.38% examples, 1159885 words/s, in_qsize 16, out_qsize 1\n",
      "2020-11-18 16:21:02,095 : INFO : EPOCH 3 - PROGRESS: at 37.43% examples, 1139094 words/s, in_qsize 15, out_qsize 0\n",
      "2020-11-18 16:21:03,111 : INFO : EPOCH 3 - PROGRESS: at 43.65% examples, 1062932 words/s, in_qsize 13, out_qsize 2\n",
      "2020-11-18 16:21:04,112 : INFO : EPOCH 3 - PROGRESS: at 52.40% examples, 1066484 words/s, in_qsize 15, out_qsize 0\n",
      "2020-11-18 16:21:05,118 : INFO : EPOCH 3 - PROGRESS: at 61.17% examples, 1068272 words/s, in_qsize 16, out_qsize 2\n",
      "2020-11-18 16:21:06,136 : INFO : EPOCH 3 - PROGRESS: at 70.59% examples, 1078055 words/s, in_qsize 15, out_qsize 0\n",
      "2020-11-18 16:21:07,136 : INFO : EPOCH 3 - PROGRESS: at 79.03% examples, 1074049 words/s, in_qsize 13, out_qsize 2\n",
      "2020-11-18 16:21:08,144 : INFO : EPOCH 3 - PROGRESS: at 88.34% examples, 1080874 words/s, in_qsize 16, out_qsize 0\n",
      "2020-11-18 16:21:09,160 : INFO : EPOCH 3 - PROGRESS: at 96.95% examples, 1077743 words/s, in_qsize 16, out_qsize 1\n",
      "2020-11-18 16:21:09,463 : INFO : worker thread finished; awaiting finish of 7 more threads\n",
      "2020-11-18 16:21:09,465 : INFO : worker thread finished; awaiting finish of 6 more threads\n",
      "2020-11-18 16:21:09,466 : INFO : worker thread finished; awaiting finish of 5 more threads\n",
      "2020-11-18 16:21:09,472 : INFO : worker thread finished; awaiting finish of 4 more threads\n",
      "2020-11-18 16:21:09,473 : INFO : worker thread finished; awaiting finish of 3 more threads\n",
      "2020-11-18 16:21:09,480 : INFO : worker thread finished; awaiting finish of 2 more threads\n",
      "2020-11-18 16:21:09,486 : INFO : worker thread finished; awaiting finish of 1 more threads\n",
      "2020-11-18 16:21:09,486 : INFO : worker thread finished; awaiting finish of 0 more threads\n",
      "2020-11-18 16:21:09,487 : INFO : EPOCH - 3 : training on 16862887 raw words (12379990 effective words) took 11.5s, 1080068 effective words/s\n",
      "2020-11-18 16:21:10,516 : INFO : EPOCH 4 - PROGRESS: at 9.61% examples, 1168014 words/s, in_qsize 13, out_qsize 2\n",
      "2020-11-18 16:21:11,517 : INFO : EPOCH 4 - PROGRESS: at 19.03% examples, 1166433 words/s, in_qsize 13, out_qsize 2\n",
      "2020-11-18 16:21:12,525 : INFO : EPOCH 4 - PROGRESS: at 27.79% examples, 1136538 words/s, in_qsize 14, out_qsize 1\n",
      "2020-11-18 16:21:13,532 : INFO : EPOCH 4 - PROGRESS: at 36.37% examples, 1116505 words/s, in_qsize 15, out_qsize 1\n",
      "2020-11-18 16:21:14,541 : INFO : EPOCH 4 - PROGRESS: at 45.55% examples, 1118858 words/s, in_qsize 14, out_qsize 1\n",
      "2020-11-18 16:21:15,546 : INFO : EPOCH 4 - PROGRESS: at 55.29% examples, 1132928 words/s, in_qsize 15, out_qsize 0\n",
      "2020-11-18 16:21:16,563 : INFO : EPOCH 4 - PROGRESS: at 65.19% examples, 1143271 words/s, in_qsize 14, out_qsize 1\n",
      "2020-11-18 16:21:17,565 : INFO : EPOCH 4 - PROGRESS: at 74.68% examples, 1146761 words/s, in_qsize 13, out_qsize 2\n",
      "2020-11-18 16:21:18,577 : INFO : EPOCH 4 - PROGRESS: at 84.31% examples, 1149751 words/s, in_qsize 13, out_qsize 2\n",
      "2020-11-18 16:21:19,581 : INFO : EPOCH 4 - PROGRESS: at 94.34% examples, 1158199 words/s, in_qsize 13, out_qsize 2\n",
      "2020-11-18 16:21:20,095 : INFO : worker thread finished; awaiting finish of 7 more threads\n",
      "2020-11-18 16:21:20,106 : INFO : worker thread finished; awaiting finish of 6 more threads\n",
      "2020-11-18 16:21:20,109 : INFO : worker thread finished; awaiting finish of 5 more threads\n",
      "2020-11-18 16:21:20,110 : INFO : worker thread finished; awaiting finish of 4 more threads\n",
      "2020-11-18 16:21:20,119 : INFO : worker thread finished; awaiting finish of 3 more threads\n",
      "2020-11-18 16:21:20,121 : INFO : worker thread finished; awaiting finish of 2 more threads\n",
      "2020-11-18 16:21:20,122 : INFO : worker thread finished; awaiting finish of 1 more threads\n",
      "2020-11-18 16:21:20,129 : INFO : worker thread finished; awaiting finish of 0 more threads\n",
      "2020-11-18 16:21:20,129 : INFO : EPOCH - 4 : training on 16862887 raw words (12378725 effective words) took 10.6s, 1164413 effective words/s\n",
      "2020-11-18 16:21:21,142 : INFO : EPOCH 5 - PROGRESS: at 9.97% examples, 1230823 words/s, in_qsize 15, out_qsize 1\n",
      "2020-11-18 16:21:22,157 : INFO : EPOCH 5 - PROGRESS: at 20.16% examples, 1237240 words/s, in_qsize 15, out_qsize 0\n",
      "2020-11-18 16:21:23,158 : INFO : EPOCH 5 - PROGRESS: at 30.16% examples, 1237724 words/s, in_qsize 13, out_qsize 2\n",
      "2020-11-18 16:21:24,169 : INFO : EPOCH 5 - PROGRESS: at 40.22% examples, 1236879 words/s, in_qsize 13, out_qsize 2\n",
      "2020-11-18 16:21:25,178 : INFO : EPOCH 5 - PROGRESS: at 49.98% examples, 1229395 words/s, in_qsize 13, out_qsize 2\n",
      "2020-11-18 16:21:26,195 : INFO : EPOCH 5 - PROGRESS: at 60.09% examples, 1230085 words/s, in_qsize 14, out_qsize 1\n",
      "2020-11-18 16:21:27,203 : INFO : EPOCH 5 - PROGRESS: at 70.18% examples, 1230911 words/s, in_qsize 14, out_qsize 1\n",
      "2020-11-18 16:21:28,215 : INFO : EPOCH 5 - PROGRESS: at 80.21% examples, 1230319 words/s, in_qsize 15, out_qsize 1\n",
      "2020-11-18 16:21:29,218 : INFO : EPOCH 5 - PROGRESS: at 90.24% examples, 1230812 words/s, in_qsize 16, out_qsize 1\n",
      "2020-11-18 16:21:30,133 : INFO : worker thread finished; awaiting finish of 7 more threads\n",
      "2020-11-18 16:21:30,135 : INFO : worker thread finished; awaiting finish of 6 more threads\n",
      "2020-11-18 16:21:30,141 : INFO : worker thread finished; awaiting finish of 5 more threads\n",
      "2020-11-18 16:21:30,142 : INFO : worker thread finished; awaiting finish of 4 more threads\n",
      "2020-11-18 16:21:30,154 : INFO : worker thread finished; awaiting finish of 3 more threads\n",
      "2020-11-18 16:21:30,155 : INFO : worker thread finished; awaiting finish of 2 more threads\n",
      "2020-11-18 16:21:30,157 : INFO : worker thread finished; awaiting finish of 1 more threads\n",
      "2020-11-18 16:21:30,158 : INFO : worker thread finished; awaiting finish of 0 more threads\n",
      "2020-11-18 16:21:30,158 : INFO : EPOCH - 5 : training on 16862887 raw words (12379744 effective words) took 10.0s, 1235851 effective words/s\n",
      "2020-11-18 16:21:31,182 : INFO : EPOCH 6 - PROGRESS: at 10.15% examples, 1239256 words/s, in_qsize 14, out_qsize 1\n",
      "2020-11-18 16:21:32,198 : INFO : EPOCH 6 - PROGRESS: at 20.39% examples, 1243705 words/s, in_qsize 16, out_qsize 1\n",
      "2020-11-18 16:21:33,198 : INFO : EPOCH 6 - PROGRESS: at 30.28% examples, 1237228 words/s, in_qsize 13, out_qsize 2\n",
      "2020-11-18 16:21:34,203 : INFO : EPOCH 6 - PROGRESS: at 40.10% examples, 1230964 words/s, in_qsize 13, out_qsize 2\n",
      "2020-11-18 16:21:35,212 : INFO : EPOCH 6 - PROGRESS: at 50.04% examples, 1229071 words/s, in_qsize 14, out_qsize 1\n",
      "2020-11-18 16:21:36,221 : INFO : EPOCH 6 - PROGRESS: at 60.16% examples, 1231399 words/s, in_qsize 13, out_qsize 2\n",
      "2020-11-18 16:21:37,231 : INFO : EPOCH 6 - PROGRESS: at 70.12% examples, 1229758 words/s, in_qsize 14, out_qsize 1\n",
      "2020-11-18 16:21:38,242 : INFO : EPOCH 6 - PROGRESS: at 80.22% examples, 1230262 words/s, in_qsize 14, out_qsize 1\n",
      "2020-11-18 16:21:39,253 : INFO : EPOCH 6 - PROGRESS: at 90.36% examples, 1231336 words/s, in_qsize 16, out_qsize 0\n",
      "2020-11-18 16:21:40,172 : INFO : worker thread finished; awaiting finish of 7 more threads\n",
      "2020-11-18 16:21:40,174 : INFO : worker thread finished; awaiting finish of 6 more threads\n",
      "2020-11-18 16:21:40,180 : INFO : worker thread finished; awaiting finish of 5 more threads\n",
      "2020-11-18 16:21:40,181 : INFO : worker thread finished; awaiting finish of 4 more threads\n",
      "2020-11-18 16:21:40,194 : INFO : worker thread finished; awaiting finish of 3 more threads\n",
      "2020-11-18 16:21:40,195 : INFO : worker thread finished; awaiting finish of 2 more threads\n",
      "2020-11-18 16:21:40,197 : INFO : worker thread finished; awaiting finish of 1 more threads\n",
      "2020-11-18 16:21:40,198 : INFO : worker thread finished; awaiting finish of 0 more threads\n",
      "2020-11-18 16:21:40,198 : INFO : EPOCH - 6 : training on 16862887 raw words (12377979 effective words) took 10.0s, 1234191 effective words/s\n",
      "2020-11-18 16:21:41,232 : INFO : EPOCH 7 - PROGRESS: at 9.73% examples, 1184913 words/s, in_qsize 15, out_qsize 1\n",
      "2020-11-18 16:21:42,235 : INFO : EPOCH 7 - PROGRESS: at 19.69% examples, 1206848 words/s, in_qsize 13, out_qsize 2\n",
      "2020-11-18 16:21:43,238 : INFO : EPOCH 7 - PROGRESS: at 29.69% examples, 1216325 words/s, in_qsize 14, out_qsize 1\n",
      "2020-11-18 16:21:44,243 : INFO : EPOCH 7 - PROGRESS: at 39.68% examples, 1220886 words/s, in_qsize 15, out_qsize 0\n",
      "2020-11-18 16:21:45,252 : INFO : EPOCH 7 - PROGRESS: at 49.57% examples, 1219412 words/s, in_qsize 13, out_qsize 2\n",
      "2020-11-18 16:21:46,263 : INFO : EPOCH 7 - PROGRESS: at 59.63% examples, 1221754 words/s, in_qsize 13, out_qsize 2\n",
      "2020-11-18 16:21:47,268 : INFO : EPOCH 7 - PROGRESS: at 69.64% examples, 1223428 words/s, in_qsize 14, out_qsize 1\n",
      "2020-11-18 16:21:48,277 : INFO : EPOCH 7 - PROGRESS: at 79.74% examples, 1225044 words/s, in_qsize 16, out_qsize 0\n",
      "2020-11-18 16:21:49,278 : INFO : EPOCH 7 - PROGRESS: at 89.70% examples, 1225638 words/s, in_qsize 14, out_qsize 1\n",
      "2020-11-18 16:21:50,267 : INFO : worker thread finished; awaiting finish of 7 more threads\n",
      "2020-11-18 16:21:50,269 : INFO : worker thread finished; awaiting finish of 6 more threads\n",
      "2020-11-18 16:21:50,271 : INFO : worker thread finished; awaiting finish of 5 more threads\n",
      "2020-11-18 16:21:50,273 : INFO : worker thread finished; awaiting finish of 4 more threads\n",
      "2020-11-18 16:21:50,286 : INFO : EPOCH 7 - PROGRESS: at 99.82% examples, 1227197 words/s, in_qsize 3, out_qsize 1\n",
      "2020-11-18 16:21:50,287 : INFO : worker thread finished; awaiting finish of 3 more threads\n",
      "2020-11-18 16:21:50,291 : INFO : worker thread finished; awaiting finish of 2 more threads\n",
      "2020-11-18 16:21:50,292 : INFO : worker thread finished; awaiting finish of 1 more threads\n",
      "2020-11-18 16:21:50,293 : INFO : worker thread finished; awaiting finish of 0 more threads\n",
      "2020-11-18 16:21:50,293 : INFO : EPOCH - 7 : training on 16862887 raw words (12379063 effective words) took 10.1s, 1228537 effective words/s\n",
      "2020-11-18 16:21:51,321 : INFO : EPOCH 8 - PROGRESS: at 9.97% examples, 1219535 words/s, in_qsize 16, out_qsize 0\n",
      "2020-11-18 16:21:52,323 : INFO : EPOCH 8 - PROGRESS: at 19.74% examples, 1213366 words/s, in_qsize 13, out_qsize 2\n",
      "2020-11-18 16:21:53,323 : INFO : EPOCH 8 - PROGRESS: at 29.74% examples, 1221711 words/s, in_qsize 13, out_qsize 2\n",
      "2020-11-18 16:21:54,333 : INFO : EPOCH 8 - PROGRESS: at 39.80% examples, 1225203 words/s, in_qsize 13, out_qsize 2\n",
      "2020-11-18 16:21:55,334 : INFO : EPOCH 8 - PROGRESS: at 49.45% examples, 1219122 words/s, in_qsize 13, out_qsize 2\n",
      "2020-11-18 16:21:56,339 : INFO : EPOCH 8 - PROGRESS: at 59.45% examples, 1221551 words/s, in_qsize 16, out_qsize 0\n",
      "2020-11-18 16:21:57,351 : INFO : EPOCH 8 - PROGRESS: at 69.58% examples, 1224054 words/s, in_qsize 14, out_qsize 1\n",
      "2020-11-18 16:21:58,364 : INFO : EPOCH 8 - PROGRESS: at 79.74% examples, 1225914 words/s, in_qsize 15, out_qsize 0\n",
      "2020-11-18 16:21:59,372 : INFO : EPOCH 8 - PROGRESS: at 89.82% examples, 1227088 words/s, in_qsize 14, out_qsize 1\n",
      "2020-11-18 16:22:00,345 : INFO : worker thread finished; awaiting finish of 7 more threads\n",
      "2020-11-18 16:22:00,351 : INFO : worker thread finished; awaiting finish of 6 more threads\n",
      "2020-11-18 16:22:00,354 : INFO : worker thread finished; awaiting finish of 5 more threads\n",
      "2020-11-18 16:22:00,356 : INFO : worker thread finished; awaiting finish of 4 more threads\n",
      "2020-11-18 16:22:00,358 : INFO : worker thread finished; awaiting finish of 3 more threads\n",
      "2020-11-18 16:22:00,366 : INFO : worker thread finished; awaiting finish of 2 more threads\n",
      "2020-11-18 16:22:00,369 : INFO : worker thread finished; awaiting finish of 1 more threads\n",
      "2020-11-18 16:22:00,369 : INFO : worker thread finished; awaiting finish of 0 more threads\n",
      "2020-11-18 16:22:00,370 : INFO : EPOCH - 8 : training on 16862887 raw words (12378405 effective words) took 10.1s, 1230510 effective words/s\n",
      "2020-11-18 16:22:01,401 : INFO : EPOCH 9 - PROGRESS: at 10.03% examples, 1224721 words/s, in_qsize 14, out_qsize 1\n",
      "2020-11-18 16:22:02,407 : INFO : EPOCH 9 - PROGRESS: at 20.04% examples, 1227906 words/s, in_qsize 14, out_qsize 1\n",
      "2020-11-18 16:22:03,408 : INFO : EPOCH 9 - PROGRESS: at 29.86% examples, 1223906 words/s, in_qsize 12, out_qsize 3\n",
      "2020-11-18 16:22:04,421 : INFO : EPOCH 9 - PROGRESS: at 39.45% examples, 1211438 words/s, in_qsize 14, out_qsize 1\n",
      "2020-11-18 16:22:05,433 : INFO : EPOCH 9 - PROGRESS: at 49.45% examples, 1214150 words/s, in_qsize 16, out_qsize 2\n",
      "2020-11-18 16:22:06,436 : INFO : EPOCH 9 - PROGRESS: at 59.39% examples, 1216569 words/s, in_qsize 13, out_qsize 2\n",
      "2020-11-18 16:22:07,444 : INFO : EPOCH 9 - PROGRESS: at 69.46% examples, 1219572 words/s, in_qsize 13, out_qsize 2\n",
      "2020-11-18 16:22:08,449 : INFO : EPOCH 9 - PROGRESS: at 79.50% examples, 1221390 words/s, in_qsize 13, out_qsize 2\n",
      "2020-11-18 16:22:09,450 : INFO : EPOCH 9 - PROGRESS: at 89.40% examples, 1221542 words/s, in_qsize 14, out_qsize 1\n",
      "2020-11-18 16:22:10,457 : INFO : EPOCH 9 - PROGRESS: at 99.48% examples, 1223163 words/s, in_qsize 7, out_qsize 3\n",
      "2020-11-18 16:22:10,464 : INFO : worker thread finished; awaiting finish of 7 more threads\n",
      "2020-11-18 16:22:10,469 : INFO : worker thread finished; awaiting finish of 6 more threads\n",
      "2020-11-18 16:22:10,470 : INFO : worker thread finished; awaiting finish of 5 more threads\n",
      "2020-11-18 16:22:10,472 : INFO : worker thread finished; awaiting finish of 4 more threads\n",
      "2020-11-18 16:22:10,481 : INFO : worker thread finished; awaiting finish of 3 more threads\n",
      "2020-11-18 16:22:10,482 : INFO : worker thread finished; awaiting finish of 2 more threads\n",
      "2020-11-18 16:22:10,484 : INFO : worker thread finished; awaiting finish of 1 more threads\n",
      "2020-11-18 16:22:10,490 : INFO : worker thread finished; awaiting finish of 0 more threads\n",
      "2020-11-18 16:22:10,491 : INFO : EPOCH - 9 : training on 16862887 raw words (12378703 effective words) took 10.1s, 1225346 effective words/s\n",
      "2020-11-18 16:22:11,510 : INFO : EPOCH 10 - PROGRESS: at 10.03% examples, 1229304 words/s, in_qsize 13, out_qsize 2\n",
      "2020-11-18 16:22:12,521 : INFO : EPOCH 10 - PROGRESS: at 19.80% examples, 1212877 words/s, in_qsize 14, out_qsize 1\n",
      "2020-11-18 16:22:13,532 : INFO : EPOCH 10 - PROGRESS: at 29.74% examples, 1214910 words/s, in_qsize 13, out_qsize 2\n",
      "2020-11-18 16:22:14,552 : INFO : EPOCH 10 - PROGRESS: at 39.68% examples, 1213603 words/s, in_qsize 14, out_qsize 1\n",
      "2020-11-18 16:22:15,556 : INFO : EPOCH 10 - PROGRESS: at 49.51% examples, 1213424 words/s, in_qsize 15, out_qsize 0\n",
      "2020-11-18 16:22:16,556 : INFO : EPOCH 10 - PROGRESS: at 59.63% examples, 1220073 words/s, in_qsize 15, out_qsize 0\n",
      "2020-11-18 16:22:17,559 : INFO : EPOCH 10 - PROGRESS: at 69.40% examples, 1218136 words/s, in_qsize 14, out_qsize 1\n",
      "2020-11-18 16:22:18,569 : INFO : EPOCH 10 - PROGRESS: at 79.44% examples, 1219388 words/s, in_qsize 13, out_qsize 2\n",
      "2020-11-18 16:22:19,581 : INFO : EPOCH 10 - PROGRESS: at 89.58% examples, 1221474 words/s, in_qsize 14, out_qsize 1\n",
      "2020-11-18 16:22:20,567 : INFO : worker thread finished; awaiting finish of 7 more threads\n",
      "2020-11-18 16:22:20,577 : INFO : worker thread finished; awaiting finish of 6 more threads\n",
      "2020-11-18 16:22:20,579 : INFO : worker thread finished; awaiting finish of 5 more threads\n",
      "2020-11-18 16:22:20,589 : INFO : EPOCH 10 - PROGRESS: at 99.78% examples, 1224451 words/s, in_qsize 4, out_qsize 1\n",
      "2020-11-18 16:22:20,590 : INFO : worker thread finished; awaiting finish of 4 more threads\n",
      "2020-11-18 16:22:20,591 : INFO : worker thread finished; awaiting finish of 3 more threads\n",
      "2020-11-18 16:22:20,592 : INFO : worker thread finished; awaiting finish of 2 more threads\n",
      "2020-11-18 16:22:20,594 : INFO : worker thread finished; awaiting finish of 1 more threads\n",
      "2020-11-18 16:22:20,600 : INFO : worker thread finished; awaiting finish of 0 more threads\n",
      "2020-11-18 16:22:20,600 : INFO : EPOCH - 10 : training on 16862887 raw words (12379032 effective words) took 10.1s, 1225793 effective words/s\n",
      "2020-11-18 16:22:21,621 : INFO : EPOCH 11 - PROGRESS: at 9.79% examples, 1198871 words/s, in_qsize 13, out_qsize 2\n",
      "2020-11-18 16:22:22,623 : INFO : EPOCH 11 - PROGRESS: at 19.15% examples, 1177177 words/s, in_qsize 14, out_qsize 1\n",
      "2020-11-18 16:22:23,625 : INFO : EPOCH 11 - PROGRESS: at 28.98% examples, 1189730 words/s, in_qsize 15, out_qsize 0\n",
      "2020-11-18 16:22:24,632 : INFO : EPOCH 11 - PROGRESS: at 38.92% examples, 1198454 words/s, in_qsize 14, out_qsize 1\n",
      "2020-11-18 16:22:25,637 : INFO : EPOCH 11 - PROGRESS: at 48.86% examples, 1204030 words/s, in_qsize 14, out_qsize 1\n",
      "2020-11-18 16:22:26,640 : INFO : EPOCH 11 - PROGRESS: at 58.85% examples, 1209285 words/s, in_qsize 15, out_qsize 0\n",
      "2020-11-18 16:22:27,656 : INFO : EPOCH 11 - PROGRESS: at 68.99% examples, 1212847 words/s, in_qsize 14, out_qsize 1\n",
      "2020-11-18 16:22:28,667 : INFO : EPOCH 11 - PROGRESS: at 79.09% examples, 1215590 words/s, in_qsize 13, out_qsize 2\n",
      "2020-11-18 16:22:29,681 : INFO : EPOCH 11 - PROGRESS: at 89.16% examples, 1217044 words/s, in_qsize 14, out_qsize 1\n",
      "2020-11-18 16:22:30,688 : INFO : EPOCH 11 - PROGRESS: at 99.36% examples, 1220673 words/s, in_qsize 11, out_qsize 0\n",
      "2020-11-18 16:22:30,713 : INFO : worker thread finished; awaiting finish of 7 more threads\n",
      "2020-11-18 16:22:30,716 : INFO : worker thread finished; awaiting finish of 6 more threads\n",
      "2020-11-18 16:22:30,721 : INFO : worker thread finished; awaiting finish of 5 more threads\n",
      "2020-11-18 16:22:30,721 : INFO : worker thread finished; awaiting finish of 4 more threads\n",
      "2020-11-18 16:22:30,734 : INFO : worker thread finished; awaiting finish of 3 more threads\n",
      "2020-11-18 16:22:30,736 : INFO : worker thread finished; awaiting finish of 2 more threads\n",
      "2020-11-18 16:22:30,736 : INFO : worker thread finished; awaiting finish of 1 more threads\n",
      "2020-11-18 16:22:30,737 : INFO : worker thread finished; awaiting finish of 0 more threads\n",
      "2020-11-18 16:22:30,738 : INFO : EPOCH - 11 : training on 16862887 raw words (12378867 effective words) took 10.1s, 1222354 effective words/s\n",
      "2020-11-18 16:22:31,753 : INFO : EPOCH 12 - PROGRESS: at 9.73% examples, 1196183 words/s, in_qsize 13, out_qsize 2\n",
      "2020-11-18 16:22:32,763 : INFO : EPOCH 12 - PROGRESS: at 19.80% examples, 1215192 words/s, in_qsize 16, out_qsize 1\n",
      "2020-11-18 16:22:33,763 : INFO : EPOCH 12 - PROGRESS: at 29.69% examples, 1218287 words/s, in_qsize 16, out_qsize 1\n",
      "2020-11-18 16:22:34,763 : INFO : EPOCH 12 - PROGRESS: at 39.74% examples, 1225436 words/s, in_qsize 15, out_qsize 0\n",
      "2020-11-18 16:22:35,766 : INFO : EPOCH 12 - PROGRESS: at 49.39% examples, 1218718 words/s, in_qsize 15, out_qsize 0\n",
      "2020-11-18 16:22:36,768 : INFO : EPOCH 12 - PROGRESS: at 59.39% examples, 1221936 words/s, in_qsize 15, out_qsize 0\n",
      "2020-11-18 16:22:37,772 : INFO : EPOCH 12 - PROGRESS: at 69.34% examples, 1222635 words/s, in_qsize 15, out_qsize 1\n",
      "2020-11-18 16:22:38,777 : INFO : EPOCH 12 - PROGRESS: at 79.38% examples, 1224134 words/s, in_qsize 13, out_qsize 2\n",
      "2020-11-18 16:22:39,792 : INFO : EPOCH 12 - PROGRESS: at 89.16% examples, 1220493 words/s, in_qsize 15, out_qsize 2\n",
      "2020-11-18 16:22:40,802 : INFO : EPOCH 12 - PROGRESS: at 99.19% examples, 1221035 words/s, in_qsize 12, out_qsize 2\n",
      "2020-11-18 16:22:40,831 : INFO : worker thread finished; awaiting finish of 7 more threads\n",
      "2020-11-18 16:22:40,841 : INFO : worker thread finished; awaiting finish of 6 more threads\n",
      "2020-11-18 16:22:40,843 : INFO : worker thread finished; awaiting finish of 5 more threads\n",
      "2020-11-18 16:22:40,844 : INFO : worker thread finished; awaiting finish of 4 more threads\n",
      "2020-11-18 16:22:40,855 : INFO : worker thread finished; awaiting finish of 3 more threads\n",
      "2020-11-18 16:22:40,863 : INFO : worker thread finished; awaiting finish of 2 more threads\n",
      "2020-11-18 16:22:40,864 : INFO : worker thread finished; awaiting finish of 1 more threads\n",
      "2020-11-18 16:22:40,865 : INFO : worker thread finished; awaiting finish of 0 more threads\n",
      "2020-11-18 16:22:40,865 : INFO : EPOCH - 12 : training on 16862887 raw words (12377949 effective words) took 10.1s, 1223329 effective words/s\n",
      "2020-11-18 16:22:41,879 : INFO : EPOCH 13 - PROGRESS: at 9.91% examples, 1221310 words/s, in_qsize 13, out_qsize 2\n",
      "2020-11-18 16:22:42,881 : INFO : EPOCH 13 - PROGRESS: at 19.86% examples, 1225168 words/s, in_qsize 13, out_qsize 2\n",
      "2020-11-18 16:22:43,890 : INFO : EPOCH 13 - PROGRESS: at 29.80% examples, 1223573 words/s, in_qsize 15, out_qsize 0\n",
      "2020-11-18 16:22:44,906 : INFO : EPOCH 13 - PROGRESS: at 39.74% examples, 1221214 words/s, in_qsize 15, out_qsize 1\n",
      "2020-11-18 16:22:45,906 : INFO : EPOCH 13 - PROGRESS: at 49.80% examples, 1226242 words/s, in_qsize 15, out_qsize 0\n",
      "2020-11-18 16:22:46,909 : INFO : EPOCH 13 - PROGRESS: at 59.63% examples, 1224186 words/s, in_qsize 13, out_qsize 2\n",
      "2020-11-18 16:22:47,918 : INFO : EPOCH 13 - PROGRESS: at 69.64% examples, 1224820 words/s, in_qsize 13, out_qsize 2\n",
      "2020-11-18 16:22:48,931 : INFO : EPOCH 13 - PROGRESS: at 79.74% examples, 1225677 words/s, in_qsize 15, out_qsize 1\n",
      "2020-11-18 16:22:49,941 : INFO : EPOCH 13 - PROGRESS: at 89.82% examples, 1226624 words/s, in_qsize 13, out_qsize 2\n",
      "2020-11-18 16:22:50,910 : INFO : worker thread finished; awaiting finish of 7 more threads\n",
      "2020-11-18 16:22:50,922 : INFO : worker thread finished; awaiting finish of 6 more threads\n",
      "2020-11-18 16:22:50,924 : INFO : worker thread finished; awaiting finish of 5 more threads\n",
      "2020-11-18 16:22:50,925 : INFO : worker thread finished; awaiting finish of 4 more threads\n",
      "2020-11-18 16:22:50,934 : INFO : worker thread finished; awaiting finish of 3 more threads\n",
      "2020-11-18 16:22:50,936 : INFO : worker thread finished; awaiting finish of 2 more threads\n",
      "2020-11-18 16:22:50,938 : INFO : worker thread finished; awaiting finish of 1 more threads\n",
      "2020-11-18 16:22:50,944 : INFO : EPOCH 13 - PROGRESS: at 100.00% examples, 1229511 words/s, in_qsize 0, out_qsize 1\n",
      "2020-11-18 16:22:50,944 : INFO : worker thread finished; awaiting finish of 0 more threads\n",
      "2020-11-18 16:22:50,945 : INFO : EPOCH - 13 : training on 16862887 raw words (12378175 effective words) took 10.1s, 1229362 effective words/s\n",
      "2020-11-18 16:22:51,965 : INFO : EPOCH 14 - PROGRESS: at 9.91% examples, 1211764 words/s, in_qsize 16, out_qsize 0\n",
      "2020-11-18 16:22:52,978 : INFO : EPOCH 14 - PROGRESS: at 20.04% examples, 1224558 words/s, in_qsize 13, out_qsize 2\n",
      "2020-11-18 16:22:53,980 : INFO : EPOCH 14 - PROGRESS: at 29.80% examples, 1218493 words/s, in_qsize 14, out_qsize 1\n",
      "2020-11-18 16:22:54,995 : INFO : EPOCH 14 - PROGRESS: at 39.15% examples, 1199444 words/s, in_qsize 14, out_qsize 1\n",
      "2020-11-18 16:22:55,998 : INFO : EPOCH 14 - PROGRESS: at 49.15% examples, 1206689 words/s, in_qsize 14, out_qsize 1\n",
      "2020-11-18 16:22:57,004 : INFO : EPOCH 14 - PROGRESS: at 56.84% examples, 1163665 words/s, in_qsize 13, out_qsize 2\n",
      "2020-11-18 16:22:58,007 : INFO : EPOCH 14 - PROGRESS: at 65.37% examples, 1148069 words/s, in_qsize 15, out_qsize 0\n",
      "2020-11-18 16:22:59,010 : INFO : EPOCH 14 - PROGRESS: at 75.27% examples, 1157299 words/s, in_qsize 13, out_qsize 2\n",
      "2020-11-18 16:23:00,025 : INFO : EPOCH 14 - PROGRESS: at 84.31% examples, 1150618 words/s, in_qsize 13, out_qsize 2\n",
      "2020-11-18 16:23:01,037 : INFO : EPOCH 14 - PROGRESS: at 93.20% examples, 1144137 words/s, in_qsize 15, out_qsize 1\n",
      "2020-11-18 16:23:01,667 : INFO : worker thread finished; awaiting finish of 7 more threads\n",
      "2020-11-18 16:23:01,672 : INFO : worker thread finished; awaiting finish of 6 more threads\n",
      "2020-11-18 16:23:01,681 : INFO : worker thread finished; awaiting finish of 5 more threads\n",
      "2020-11-18 16:23:01,682 : INFO : worker thread finished; awaiting finish of 4 more threads\n",
      "2020-11-18 16:23:01,683 : INFO : worker thread finished; awaiting finish of 3 more threads\n",
      "2020-11-18 16:23:01,689 : INFO : worker thread finished; awaiting finish of 2 more threads\n",
      "2020-11-18 16:23:01,692 : INFO : worker thread finished; awaiting finish of 1 more threads\n",
      "2020-11-18 16:23:01,696 : INFO : worker thread finished; awaiting finish of 0 more threads\n",
      "2020-11-18 16:23:01,696 : INFO : EPOCH - 14 : training on 16862887 raw words (12376999 effective words) took 10.7s, 1152144 effective words/s\n",
      "2020-11-18 16:23:02,719 : INFO : EPOCH 15 - PROGRESS: at 7.78% examples, 951000 words/s, in_qsize 13, out_qsize 2\n",
      "2020-11-18 16:23:03,723 : INFO : EPOCH 15 - PROGRESS: at 17.38% examples, 1066246 words/s, in_qsize 14, out_qsize 1\n",
      "2020-11-18 16:23:04,724 : INFO : EPOCH 15 - PROGRESS: at 26.19% examples, 1074526 words/s, in_qsize 13, out_qsize 2\n",
      "2020-11-18 16:23:05,732 : INFO : EPOCH 15 - PROGRESS: at 35.66% examples, 1097358 words/s, in_qsize 15, out_qsize 0\n",
      "2020-11-18 16:23:06,745 : INFO : EPOCH 15 - PROGRESS: at 45.49% examples, 1118317 words/s, in_qsize 13, out_qsize 2\n",
      "2020-11-18 16:23:07,751 : INFO : EPOCH 15 - PROGRESS: at 54.82% examples, 1123868 words/s, in_qsize 15, out_qsize 0\n",
      "2020-11-18 16:23:08,752 : INFO : EPOCH 15 - PROGRESS: at 64.12% examples, 1127876 words/s, in_qsize 14, out_qsize 1\n",
      "2020-11-18 16:23:09,762 : INFO : EPOCH 15 - PROGRESS: at 73.61% examples, 1132016 words/s, in_qsize 14, out_qsize 1\n",
      "2020-11-18 16:23:10,778 : INFO : EPOCH 15 - PROGRESS: at 83.18% examples, 1135411 words/s, in_qsize 15, out_qsize 0\n",
      "2020-11-18 16:23:11,779 : INFO : EPOCH 15 - PROGRESS: at 91.66% examples, 1126520 words/s, in_qsize 15, out_qsize 0\n",
      "2020-11-18 16:23:12,602 : INFO : worker thread finished; awaiting finish of 7 more threads\n",
      "2020-11-18 16:23:12,612 : INFO : worker thread finished; awaiting finish of 6 more threads\n",
      "2020-11-18 16:23:12,616 : INFO : worker thread finished; awaiting finish of 5 more threads\n",
      "2020-11-18 16:23:12,623 : INFO : worker thread finished; awaiting finish of 4 more threads\n",
      "2020-11-18 16:23:12,624 : INFO : worker thread finished; awaiting finish of 3 more threads\n",
      "2020-11-18 16:23:12,625 : INFO : worker thread finished; awaiting finish of 2 more threads\n",
      "2020-11-18 16:23:12,628 : INFO : worker thread finished; awaiting finish of 1 more threads\n",
      "2020-11-18 16:23:12,635 : INFO : worker thread finished; awaiting finish of 0 more threads\n",
      "2020-11-18 16:23:12,636 : INFO : EPOCH - 15 : training on 16862887 raw words (12377573 effective words) took 10.9s, 1132656 effective words/s\n",
      "2020-11-18 16:23:13,648 : INFO : EPOCH 16 - PROGRESS: at 9.61% examples, 1188416 words/s, in_qsize 13, out_qsize 2\n",
      "2020-11-18 16:23:14,658 : INFO : EPOCH 16 - PROGRESS: at 19.09% examples, 1175070 words/s, in_qsize 16, out_qsize 2\n",
      "2020-11-18 16:23:15,661 : INFO : EPOCH 16 - PROGRESS: at 29.10% examples, 1195059 words/s, in_qsize 14, out_qsize 1\n",
      "2020-11-18 16:23:16,670 : INFO : EPOCH 16 - PROGRESS: at 38.15% examples, 1174351 words/s, in_qsize 13, out_qsize 2\n",
      "2020-11-18 16:23:17,682 : INFO : EPOCH 16 - PROGRESS: at 48.09% examples, 1183232 words/s, in_qsize 13, out_qsize 2\n",
      "2020-11-18 16:23:18,682 : INFO : EPOCH 16 - PROGRESS: at 58.09% examples, 1192608 words/s, in_qsize 14, out_qsize 1\n",
      "2020-11-18 16:23:19,687 : INFO : EPOCH 16 - PROGRESS: at 67.81% examples, 1193256 words/s, in_qsize 14, out_qsize 1\n",
      "2020-11-18 16:23:20,706 : INFO : EPOCH 16 - PROGRESS: at 77.18% examples, 1186205 words/s, in_qsize 15, out_qsize 0\n",
      "2020-11-18 16:23:21,721 : INFO : EPOCH 16 - PROGRESS: at 86.79% examples, 1184524 words/s, in_qsize 13, out_qsize 2\n",
      "2020-11-18 16:23:22,731 : INFO : EPOCH 16 - PROGRESS: at 96.84% examples, 1188799 words/s, in_qsize 13, out_qsize 2\n",
      "2020-11-18 16:23:22,987 : INFO : worker thread finished; awaiting finish of 7 more threads\n",
      "2020-11-18 16:23:23,002 : INFO : worker thread finished; awaiting finish of 6 more threads\n",
      "2020-11-18 16:23:23,005 : INFO : worker thread finished; awaiting finish of 5 more threads\n",
      "2020-11-18 16:23:23,014 : INFO : worker thread finished; awaiting finish of 4 more threads\n",
      "2020-11-18 16:23:23,016 : INFO : worker thread finished; awaiting finish of 3 more threads\n",
      "2020-11-18 16:23:23,023 : INFO : worker thread finished; awaiting finish of 2 more threads\n",
      "2020-11-18 16:23:23,029 : INFO : worker thread finished; awaiting finish of 1 more threads\n",
      "2020-11-18 16:23:23,030 : INFO : worker thread finished; awaiting finish of 0 more threads\n",
      "2020-11-18 16:23:23,031 : INFO : EPOCH - 16 : training on 16862887 raw words (12379770 effective words) took 10.4s, 1192319 effective words/s\n",
      "2020-11-18 16:23:24,043 : INFO : EPOCH 17 - PROGRESS: at 9.44% examples, 1165331 words/s, in_qsize 15, out_qsize 0\n",
      "2020-11-18 16:23:25,051 : INFO : EPOCH 17 - PROGRESS: at 19.33% examples, 1189718 words/s, in_qsize 13, out_qsize 2\n",
      "2020-11-18 16:23:26,067 : INFO : EPOCH 17 - PROGRESS: at 29.33% examples, 1200024 words/s, in_qsize 16, out_qsize 0\n",
      "2020-11-18 16:23:27,082 : INFO : EPOCH 17 - PROGRESS: at 39.45% examples, 1208901 words/s, in_qsize 13, out_qsize 2\n",
      "2020-11-18 16:23:28,100 : INFO : EPOCH 17 - PROGRESS: at 49.63% examples, 1215239 words/s, in_qsize 16, out_qsize 1\n",
      "2020-11-18 16:23:29,109 : INFO : EPOCH 17 - PROGRESS: at 59.68% examples, 1218691 words/s, in_qsize 13, out_qsize 2\n",
      "2020-11-18 16:23:30,121 : INFO : EPOCH 17 - PROGRESS: at 69.82% examples, 1221561 words/s, in_qsize 14, out_qsize 1\n",
      "2020-11-18 16:23:31,133 : INFO : EPOCH 17 - PROGRESS: at 79.97% examples, 1223784 words/s, in_qsize 14, out_qsize 1\n",
      "2020-11-18 16:23:32,135 : INFO : EPOCH 17 - PROGRESS: at 89.94% examples, 1224390 words/s, in_qsize 13, out_qsize 2\n",
      "2020-11-18 16:23:33,088 : INFO : worker thread finished; awaiting finish of 7 more threads\n",
      "2020-11-18 16:23:33,092 : INFO : worker thread finished; awaiting finish of 6 more threads\n",
      "2020-11-18 16:23:33,102 : INFO : worker thread finished; awaiting finish of 5 more threads\n",
      "2020-11-18 16:23:33,112 : INFO : worker thread finished; awaiting finish of 4 more threads\n",
      "2020-11-18 16:23:33,113 : INFO : worker thread finished; awaiting finish of 3 more threads\n",
      "2020-11-18 16:23:33,114 : INFO : worker thread finished; awaiting finish of 2 more threads\n",
      "2020-11-18 16:23:33,115 : INFO : worker thread finished; awaiting finish of 1 more threads\n",
      "2020-11-18 16:23:33,116 : INFO : worker thread finished; awaiting finish of 0 more threads\n",
      "2020-11-18 16:23:33,116 : INFO : EPOCH - 17 : training on 16862887 raw words (12378281 effective words) took 10.1s, 1228671 effective words/s\n",
      "2020-11-18 16:23:34,142 : INFO : EPOCH 18 - PROGRESS: at 10.09% examples, 1225063 words/s, in_qsize 16, out_qsize 2\n",
      "2020-11-18 16:23:35,155 : INFO : EPOCH 18 - PROGRESS: at 20.16% examples, 1228372 words/s, in_qsize 14, out_qsize 1\n",
      "2020-11-18 16:23:36,159 : INFO : EPOCH 18 - PROGRESS: at 30.22% examples, 1232521 words/s, in_qsize 14, out_qsize 1\n",
      "2020-11-18 16:23:37,172 : INFO : EPOCH 18 - PROGRESS: at 40.22% examples, 1230493 words/s, in_qsize 13, out_qsize 2\n",
      "2020-11-18 16:23:38,175 : INFO : EPOCH 18 - PROGRESS: at 50.22% examples, 1231548 words/s, in_qsize 15, out_qsize 0\n",
      "2020-11-18 16:23:39,181 : INFO : EPOCH 18 - PROGRESS: at 60.16% examples, 1230596 words/s, in_qsize 15, out_qsize 0\n",
      "2020-11-18 16:23:40,205 : INFO : EPOCH 18 - PROGRESS: at 69.58% examples, 1217494 words/s, in_qsize 13, out_qsize 2\n",
      "2020-11-18 16:23:41,214 : INFO : EPOCH 18 - PROGRESS: at 79.68% examples, 1219633 words/s, in_qsize 14, out_qsize 1\n",
      "2020-11-18 16:23:42,219 : INFO : EPOCH 18 - PROGRESS: at 89.64% examples, 1220312 words/s, in_qsize 12, out_qsize 3\n",
      "2020-11-18 16:23:43,200 : INFO : worker thread finished; awaiting finish of 7 more threads\n",
      "2020-11-18 16:23:43,207 : INFO : worker thread finished; awaiting finish of 6 more threads\n",
      "2020-11-18 16:23:43,208 : INFO : worker thread finished; awaiting finish of 5 more threads\n",
      "2020-11-18 16:23:43,209 : INFO : worker thread finished; awaiting finish of 4 more threads\n",
      "2020-11-18 16:23:43,222 : INFO : EPOCH 18 - PROGRESS: at 99.82% examples, 1223802 words/s, in_qsize 3, out_qsize 1\n",
      "2020-11-18 16:23:43,222 : INFO : worker thread finished; awaiting finish of 3 more threads\n",
      "2020-11-18 16:23:43,224 : INFO : worker thread finished; awaiting finish of 2 more threads\n",
      "2020-11-18 16:23:43,225 : INFO : worker thread finished; awaiting finish of 1 more threads\n",
      "2020-11-18 16:23:43,226 : INFO : worker thread finished; awaiting finish of 0 more threads\n",
      "2020-11-18 16:23:43,226 : INFO : EPOCH - 18 : training on 16862887 raw words (12378671 effective words) took 10.1s, 1225415 effective words/s\n",
      "2020-11-18 16:23:44,248 : INFO : EPOCH 19 - PROGRESS: at 9.97% examples, 1216852 words/s, in_qsize 13, out_qsize 2\n",
      "2020-11-18 16:23:45,251 : INFO : EPOCH 19 - PROGRESS: at 19.51% examples, 1196217 words/s, in_qsize 14, out_qsize 1\n",
      "2020-11-18 16:23:46,252 : INFO : EPOCH 19 - PROGRESS: at 29.51% examples, 1210448 words/s, in_qsize 15, out_qsize 1\n",
      "2020-11-18 16:23:47,254 : INFO : EPOCH 19 - PROGRESS: at 39.45% examples, 1215143 words/s, in_qsize 13, out_qsize 2\n",
      "2020-11-18 16:23:48,267 : INFO : EPOCH 19 - PROGRESS: at 49.15% examples, 1209487 words/s, in_qsize 14, out_qsize 1\n",
      "2020-11-18 16:23:49,271 : INFO : EPOCH 19 - PROGRESS: at 59.09% examples, 1212601 words/s, in_qsize 15, out_qsize 1\n",
      "2020-11-18 16:23:50,273 : INFO : EPOCH 19 - PROGRESS: at 69.17% examples, 1217276 words/s, in_qsize 16, out_qsize 0\n",
      "2020-11-18 16:23:51,273 : INFO : EPOCH 19 - PROGRESS: at 79.15% examples, 1219083 words/s, in_qsize 15, out_qsize 0\n",
      "2020-11-18 16:23:52,274 : INFO : EPOCH 19 - PROGRESS: at 88.93% examples, 1217827 words/s, in_qsize 15, out_qsize 1\n",
      "2020-11-18 16:23:53,287 : INFO : EPOCH 19 - PROGRESS: at 99.01% examples, 1219170 words/s, in_qsize 13, out_qsize 2\n",
      "2020-11-18 16:23:53,332 : INFO : worker thread finished; awaiting finish of 7 more threads\n",
      "2020-11-18 16:23:53,339 : INFO : worker thread finished; awaiting finish of 6 more threads\n",
      "2020-11-18 16:23:53,346 : INFO : worker thread finished; awaiting finish of 5 more threads\n",
      "2020-11-18 16:23:53,347 : INFO : worker thread finished; awaiting finish of 4 more threads\n",
      "2020-11-18 16:23:53,354 : INFO : worker thread finished; awaiting finish of 3 more threads\n",
      "2020-11-18 16:23:53,355 : INFO : worker thread finished; awaiting finish of 2 more threads\n",
      "2020-11-18 16:23:53,357 : INFO : worker thread finished; awaiting finish of 1 more threads\n",
      "2020-11-18 16:23:53,362 : INFO : worker thread finished; awaiting finish of 0 more threads\n",
      "2020-11-18 16:23:53,363 : INFO : EPOCH - 19 : training on 16862887 raw words (12376818 effective words) took 10.1s, 1222067 effective words/s\n",
      "2020-11-18 16:23:54,384 : INFO : EPOCH 20 - PROGRESS: at 9.91% examples, 1213648 words/s, in_qsize 16, out_qsize 0\n",
      "2020-11-18 16:23:55,390 : INFO : EPOCH 20 - PROGRESS: at 19.98% examples, 1226076 words/s, in_qsize 15, out_qsize 0\n",
      "2020-11-18 16:23:56,403 : INFO : EPOCH 20 - PROGRESS: at 30.10% examples, 1229888 words/s, in_qsize 14, out_qsize 1\n",
      "2020-11-18 16:23:57,408 : INFO : EPOCH 20 - PROGRESS: at 40.10% examples, 1230985 words/s, in_qsize 14, out_qsize 1\n",
      "2020-11-18 16:23:58,418 : INFO : EPOCH 20 - PROGRESS: at 50.22% examples, 1233189 words/s, in_qsize 14, out_qsize 1\n",
      "2020-11-18 16:23:59,425 : INFO : EPOCH 20 - PROGRESS: at 60.22% examples, 1232834 words/s, in_qsize 12, out_qsize 3\n",
      "2020-11-18 16:24:00,443 : INFO : EPOCH 20 - PROGRESS: at 70.41% examples, 1233706 words/s, in_qsize 15, out_qsize 0\n",
      "2020-11-18 16:24:01,453 : INFO : EPOCH 20 - PROGRESS: at 80.51% examples, 1234025 words/s, in_qsize 13, out_qsize 2\n",
      "2020-11-18 16:24:02,454 : INFO : EPOCH 20 - PROGRESS: at 90.53% examples, 1234385 words/s, in_qsize 14, out_qsize 1\n",
      "2020-11-18 16:24:03,356 : INFO : worker thread finished; awaiting finish of 7 more threads\n",
      "2020-11-18 16:24:03,358 : INFO : worker thread finished; awaiting finish of 6 more threads\n",
      "2020-11-18 16:24:03,367 : INFO : worker thread finished; awaiting finish of 5 more threads\n",
      "2020-11-18 16:24:03,368 : INFO : worker thread finished; awaiting finish of 4 more threads\n",
      "2020-11-18 16:24:03,369 : INFO : worker thread finished; awaiting finish of 3 more threads\n",
      "2020-11-18 16:24:03,376 : INFO : worker thread finished; awaiting finish of 2 more threads\n",
      "2020-11-18 16:24:03,380 : INFO : worker thread finished; awaiting finish of 1 more threads\n",
      "2020-11-18 16:24:03,382 : INFO : worker thread finished; awaiting finish of 0 more threads\n",
      "2020-11-18 16:24:03,382 : INFO : EPOCH - 20 : training on 16862887 raw words (12379074 effective words) took 10.0s, 1236925 effective words/s\n",
      "2020-11-18 16:24:04,418 : INFO : EPOCH 21 - PROGRESS: at 9.97% examples, 1202314 words/s, in_qsize 14, out_qsize 1\n",
      "2020-11-18 16:24:05,434 : INFO : EPOCH 21 - PROGRESS: at 19.92% examples, 1206957 words/s, in_qsize 14, out_qsize 1\n",
      "2020-11-18 16:24:06,446 : INFO : EPOCH 21 - PROGRESS: at 29.98% examples, 1215459 words/s, in_qsize 14, out_qsize 1\n",
      "2020-11-18 16:24:07,451 : INFO : EPOCH 21 - PROGRESS: at 39.86% examples, 1216197 words/s, in_qsize 14, out_qsize 1\n",
      "2020-11-18 16:24:08,461 : INFO : EPOCH 21 - PROGRESS: at 49.80% examples, 1217087 words/s, in_qsize 15, out_qsize 0\n",
      "2020-11-18 16:24:09,471 : INFO : EPOCH 21 - PROGRESS: at 59.80% examples, 1218818 words/s, in_qsize 14, out_qsize 1\n",
      "2020-11-18 16:24:10,478 : INFO : EPOCH 21 - PROGRESS: at 69.17% examples, 1209236 words/s, in_qsize 13, out_qsize 2\n",
      "2020-11-18 16:24:11,482 : INFO : EPOCH 21 - PROGRESS: at 77.77% examples, 1190626 words/s, in_qsize 15, out_qsize 1\n",
      "2020-11-18 16:24:12,484 : INFO : EPOCH 21 - PROGRESS: at 87.86% examples, 1196454 words/s, in_qsize 15, out_qsize 1\n",
      "2020-11-18 16:24:13,488 : INFO : EPOCH 21 - PROGRESS: at 97.95% examples, 1200940 words/s, in_qsize 15, out_qsize 0\n",
      "2020-11-18 16:24:13,639 : INFO : worker thread finished; awaiting finish of 7 more threads\n",
      "2020-11-18 16:24:13,642 : INFO : worker thread finished; awaiting finish of 6 more threads\n",
      "2020-11-18 16:24:13,648 : INFO : worker thread finished; awaiting finish of 5 more threads\n",
      "2020-11-18 16:24:13,649 : INFO : worker thread finished; awaiting finish of 4 more threads\n",
      "2020-11-18 16:24:13,662 : INFO : worker thread finished; awaiting finish of 3 more threads\n",
      "2020-11-18 16:24:13,663 : INFO : worker thread finished; awaiting finish of 2 more threads\n",
      "2020-11-18 16:24:13,664 : INFO : worker thread finished; awaiting finish of 1 more threads\n",
      "2020-11-18 16:24:13,665 : INFO : worker thread finished; awaiting finish of 0 more threads\n",
      "2020-11-18 16:24:13,665 : INFO : EPOCH - 21 : training on 16862887 raw words (12377917 effective words) took 10.3s, 1204971 effective words/s\n",
      "2020-11-18 16:24:14,680 : INFO : EPOCH 22 - PROGRESS: at 10.09% examples, 1243769 words/s, in_qsize 14, out_qsize 1\n",
      "2020-11-18 16:24:15,681 : INFO : EPOCH 22 - PROGRESS: at 20.22% examples, 1248482 words/s, in_qsize 15, out_qsize 0\n",
      "2020-11-18 16:24:16,685 : INFO : EPOCH 22 - PROGRESS: at 30.16% examples, 1241385 words/s, in_qsize 13, out_qsize 2\n",
      "2020-11-18 16:24:17,695 : INFO : EPOCH 22 - PROGRESS: at 40.33% examples, 1243349 words/s, in_qsize 15, out_qsize 0\n",
      "2020-11-18 16:24:18,697 : INFO : EPOCH 22 - PROGRESS: at 50.45% examples, 1245258 words/s, in_qsize 14, out_qsize 1\n",
      "2020-11-18 16:24:19,697 : INFO : EPOCH 22 - PROGRESS: at 60.58% examples, 1246643 words/s, in_qsize 13, out_qsize 2\n",
      "2020-11-18 16:24:20,702 : INFO : EPOCH 22 - PROGRESS: at 70.65% examples, 1245879 words/s, in_qsize 13, out_qsize 2\n",
      "2020-11-18 16:24:21,708 : INFO : EPOCH 22 - PROGRESS: at 80.75% examples, 1245096 words/s, in_qsize 13, out_qsize 2\n",
      "2020-11-18 16:24:22,724 : INFO : EPOCH 22 - PROGRESS: at 91.07% examples, 1246110 words/s, in_qsize 16, out_qsize 1\n",
      "2020-11-18 16:24:23,558 : INFO : worker thread finished; awaiting finish of 7 more threads\n",
      "2020-11-18 16:24:23,560 : INFO : worker thread finished; awaiting finish of 6 more threads\n",
      "2020-11-18 16:24:23,561 : INFO : worker thread finished; awaiting finish of 5 more threads\n",
      "2020-11-18 16:24:23,568 : INFO : worker thread finished; awaiting finish of 4 more threads\n",
      "2020-11-18 16:24:23,572 : INFO : worker thread finished; awaiting finish of 3 more threads\n",
      "2020-11-18 16:24:23,573 : INFO : worker thread finished; awaiting finish of 2 more threads\n",
      "2020-11-18 16:24:23,575 : INFO : worker thread finished; awaiting finish of 1 more threads\n",
      "2020-11-18 16:24:23,581 : INFO : worker thread finished; awaiting finish of 0 more threads\n",
      "2020-11-18 16:24:23,582 : INFO : EPOCH - 22 : training on 16862887 raw words (12378367 effective words) took 9.9s, 1249800 effective words/s\n",
      "2020-11-18 16:24:24,600 : INFO : EPOCH 23 - PROGRESS: at 10.09% examples, 1238154 words/s, in_qsize 16, out_qsize 0\n",
      "2020-11-18 16:24:25,612 : INFO : EPOCH 23 - PROGRESS: at 20.22% examples, 1238760 words/s, in_qsize 13, out_qsize 2\n",
      "2020-11-18 16:24:26,618 : INFO : EPOCH 23 - PROGRESS: at 29.51% examples, 1207601 words/s, in_qsize 15, out_qsize 0\n",
      "2020-11-18 16:24:27,627 : INFO : EPOCH 23 - PROGRESS: at 39.57% examples, 1214944 words/s, in_qsize 13, out_qsize 2\n",
      "2020-11-18 16:24:28,637 : INFO : EPOCH 23 - PROGRESS: at 49.69% examples, 1220220 words/s, in_qsize 13, out_qsize 2\n",
      "2020-11-18 16:24:29,643 : INFO : EPOCH 23 - PROGRESS: at 59.86% examples, 1225971 words/s, in_qsize 15, out_qsize 0\n",
      "2020-11-18 16:24:30,655 : INFO : EPOCH 23 - PROGRESS: at 70.00% examples, 1228032 words/s, in_qsize 13, out_qsize 2\n",
      "2020-11-18 16:24:31,661 : INFO : EPOCH 23 - PROGRESS: at 80.16% examples, 1230482 words/s, in_qsize 14, out_qsize 1\n",
      "2020-11-18 16:24:32,676 : INFO : EPOCH 23 - PROGRESS: at 90.30% examples, 1231004 words/s, in_qsize 15, out_qsize 0\n",
      "2020-11-18 16:24:33,599 : INFO : worker thread finished; awaiting finish of 7 more threads\n",
      "2020-11-18 16:24:33,601 : INFO : worker thread finished; awaiting finish of 6 more threads\n",
      "2020-11-18 16:24:33,602 : INFO : worker thread finished; awaiting finish of 5 more threads\n",
      "2020-11-18 16:24:33,613 : INFO : worker thread finished; awaiting finish of 4 more threads\n",
      "2020-11-18 16:24:33,614 : INFO : worker thread finished; awaiting finish of 3 more threads\n",
      "2020-11-18 16:24:33,615 : INFO : worker thread finished; awaiting finish of 2 more threads\n",
      "2020-11-18 16:24:33,617 : INFO : worker thread finished; awaiting finish of 1 more threads\n",
      "2020-11-18 16:24:33,622 : INFO : worker thread finished; awaiting finish of 0 more threads\n",
      "2020-11-18 16:24:33,623 : INFO : EPOCH - 23 : training on 16862887 raw words (12380286 effective words) took 10.0s, 1234372 effective words/s\n",
      "2020-11-18 16:24:34,642 : INFO : EPOCH 24 - PROGRESS: at 10.09% examples, 1234366 words/s, in_qsize 15, out_qsize 0\n",
      "2020-11-18 16:24:35,655 : INFO : EPOCH 24 - PROGRESS: at 20.39% examples, 1246857 words/s, in_qsize 16, out_qsize 0\n",
      "2020-11-18 16:24:36,655 : INFO : EPOCH 24 - PROGRESS: at 30.51% examples, 1248929 words/s, in_qsize 13, out_qsize 2\n",
      "2020-11-18 16:24:37,665 : INFO : EPOCH 24 - PROGRESS: at 40.57% examples, 1245627 words/s, in_qsize 16, out_qsize 1\n",
      "2020-11-18 16:24:38,673 : INFO : EPOCH 24 - PROGRESS: at 50.69% examples, 1245315 words/s, in_qsize 16, out_qsize 1\n",
      "2020-11-18 16:24:39,682 : INFO : EPOCH 24 - PROGRESS: at 60.45% examples, 1237823 words/s, in_qsize 14, out_qsize 1\n",
      "2020-11-18 16:24:40,685 : INFO : EPOCH 24 - PROGRESS: at 70.29% examples, 1234493 words/s, in_qsize 13, out_qsize 2\n",
      "2020-11-18 16:24:41,694 : INFO : EPOCH 24 - PROGRESS: at 80.45% examples, 1235613 words/s, in_qsize 13, out_qsize 2\n",
      "2020-11-18 16:24:42,696 : INFO : EPOCH 24 - PROGRESS: at 90.53% examples, 1236530 words/s, in_qsize 14, out_qsize 1\n",
      "2020-11-18 16:24:43,588 : INFO : worker thread finished; awaiting finish of 7 more threads\n",
      "2020-11-18 16:24:43,594 : INFO : worker thread finished; awaiting finish of 6 more threads\n",
      "2020-11-18 16:24:43,600 : INFO : worker thread finished; awaiting finish of 5 more threads\n",
      "2020-11-18 16:24:43,601 : INFO : worker thread finished; awaiting finish of 4 more threads\n",
      "2020-11-18 16:24:43,602 : INFO : worker thread finished; awaiting finish of 3 more threads\n",
      "2020-11-18 16:24:43,609 : INFO : worker thread finished; awaiting finish of 2 more threads\n",
      "2020-11-18 16:24:43,612 : INFO : worker thread finished; awaiting finish of 1 more threads\n",
      "2020-11-18 16:24:43,613 : INFO : worker thread finished; awaiting finish of 0 more threads\n",
      "2020-11-18 16:24:43,613 : INFO : EPOCH - 24 : training on 16862887 raw words (12378875 effective words) took 10.0s, 1240178 effective words/s\n",
      "2020-11-18 16:24:44,635 : INFO : EPOCH 25 - PROGRESS: at 10.15% examples, 1242253 words/s, in_qsize 16, out_qsize 1\n",
      "2020-11-18 16:24:45,643 : INFO : EPOCH 25 - PROGRESS: at 20.39% examples, 1250327 words/s, in_qsize 15, out_qsize 0\n",
      "2020-11-18 16:24:46,655 : INFO : EPOCH 25 - PROGRESS: at 30.57% examples, 1249144 words/s, in_qsize 15, out_qsize 1\n",
      "2020-11-18 16:24:47,660 : INFO : EPOCH 25 - PROGRESS: at 40.57% examples, 1245447 words/s, in_qsize 15, out_qsize 0\n",
      "2020-11-18 16:24:48,671 : INFO : EPOCH 25 - PROGRESS: at 50.75% examples, 1245754 words/s, in_qsize 15, out_qsize 1\n",
      "2020-11-18 16:24:49,675 : INFO : EPOCH 25 - PROGRESS: at 60.82% examples, 1245230 words/s, in_qsize 16, out_qsize 1\n",
      "2020-11-18 16:24:50,689 : INFO : EPOCH 25 - PROGRESS: at 71.01% examples, 1245254 words/s, in_qsize 15, out_qsize 1\n",
      "2020-11-18 16:24:51,699 : INFO : EPOCH 25 - PROGRESS: at 81.11% examples, 1243944 words/s, in_qsize 15, out_qsize 0\n",
      "2020-11-18 16:24:52,705 : INFO : EPOCH 25 - PROGRESS: at 91.25% examples, 1244134 words/s, in_qsize 14, out_qsize 1\n",
      "2020-11-18 16:24:53,527 : INFO : worker thread finished; awaiting finish of 7 more threads\n",
      "2020-11-18 16:24:53,544 : INFO : worker thread finished; awaiting finish of 6 more threads\n",
      "2020-11-18 16:24:53,546 : INFO : worker thread finished; awaiting finish of 5 more threads\n",
      "2020-11-18 16:24:53,547 : INFO : worker thread finished; awaiting finish of 4 more threads\n",
      "2020-11-18 16:24:53,549 : INFO : worker thread finished; awaiting finish of 3 more threads\n",
      "2020-11-18 16:24:53,556 : INFO : worker thread finished; awaiting finish of 2 more threads\n",
      "2020-11-18 16:24:53,557 : INFO : worker thread finished; awaiting finish of 1 more threads\n",
      "2020-11-18 16:24:53,564 : INFO : worker thread finished; awaiting finish of 0 more threads\n",
      "2020-11-18 16:24:53,564 : INFO : EPOCH - 25 : training on 16862887 raw words (12379759 effective words) took 9.9s, 1245530 effective words/s\n",
      "2020-11-18 16:24:54,584 : INFO : EPOCH 26 - PROGRESS: at 10.09% examples, 1242873 words/s, in_qsize 13, out_qsize 2\n",
      "2020-11-18 16:24:55,595 : INFO : EPOCH 26 - PROGRESS: at 20.28% examples, 1245318 words/s, in_qsize 13, out_qsize 2\n",
      "2020-11-18 16:24:56,609 : INFO : EPOCH 26 - PROGRESS: at 30.46% examples, 1244962 words/s, in_qsize 13, out_qsize 2\n",
      "2020-11-18 16:24:57,611 : INFO : EPOCH 26 - PROGRESS: at 40.57% examples, 1246884 words/s, in_qsize 13, out_qsize 2\n",
      "2020-11-18 16:24:58,618 : INFO : EPOCH 26 - PROGRESS: at 50.69% examples, 1246461 words/s, in_qsize 14, out_qsize 1\n",
      "2020-11-18 16:24:59,630 : INFO : EPOCH 26 - PROGRESS: at 60.76% examples, 1244125 words/s, in_qsize 14, out_qsize 1\n",
      "2020-11-18 16:25:00,632 : INFO : EPOCH 26 - PROGRESS: at 70.77% examples, 1243238 words/s, in_qsize 14, out_qsize 1\n",
      "2020-11-18 16:25:01,638 : INFO : EPOCH 26 - PROGRESS: at 80.99% examples, 1244539 words/s, in_qsize 13, out_qsize 2\n",
      "2020-11-18 16:25:02,651 : INFO : EPOCH 26 - PROGRESS: at 91.13% examples, 1243668 words/s, in_qsize 13, out_qsize 2\n",
      "2020-11-18 16:25:03,486 : INFO : worker thread finished; awaiting finish of 7 more threads\n",
      "2020-11-18 16:25:03,492 : INFO : worker thread finished; awaiting finish of 6 more threads\n",
      "2020-11-18 16:25:03,493 : INFO : worker thread finished; awaiting finish of 5 more threads\n",
      "2020-11-18 16:25:03,501 : INFO : worker thread finished; awaiting finish of 4 more threads\n",
      "2020-11-18 16:25:03,502 : INFO : worker thread finished; awaiting finish of 3 more threads\n",
      "2020-11-18 16:25:03,508 : INFO : worker thread finished; awaiting finish of 2 more threads\n",
      "2020-11-18 16:25:03,510 : INFO : worker thread finished; awaiting finish of 1 more threads\n",
      "2020-11-18 16:25:03,511 : INFO : worker thread finished; awaiting finish of 0 more threads\n",
      "2020-11-18 16:25:03,512 : INFO : EPOCH - 26 : training on 16862887 raw words (12378196 effective words) took 9.9s, 1246382 effective words/s\n",
      "2020-11-18 16:25:04,532 : INFO : EPOCH 27 - PROGRESS: at 10.15% examples, 1242880 words/s, in_qsize 15, out_qsize 0\n",
      "2020-11-18 16:25:05,533 : INFO : EPOCH 27 - PROGRESS: at 20.10% examples, 1237376 words/s, in_qsize 14, out_qsize 1\n",
      "2020-11-18 16:25:06,545 : INFO : EPOCH 27 - PROGRESS: at 30.22% examples, 1238157 words/s, in_qsize 13, out_qsize 2\n",
      "2020-11-18 16:25:07,553 : INFO : EPOCH 27 - PROGRESS: at 40.27% examples, 1238007 words/s, in_qsize 13, out_qsize 2\n",
      "2020-11-18 16:25:08,570 : INFO : EPOCH 27 - PROGRESS: at 50.46% examples, 1238477 words/s, in_qsize 16, out_qsize 1\n",
      "2020-11-18 16:25:09,587 : INFO : EPOCH 27 - PROGRESS: at 60.58% examples, 1237775 words/s, in_qsize 15, out_qsize 1\n",
      "2020-11-18 16:25:10,588 : INFO : EPOCH 27 - PROGRESS: at 70.59% examples, 1237673 words/s, in_qsize 14, out_qsize 1\n",
      "2020-11-18 16:25:11,590 : INFO : EPOCH 27 - PROGRESS: at 80.75% examples, 1239404 words/s, in_qsize 16, out_qsize 0\n",
      "2020-11-18 16:25:12,591 : INFO : EPOCH 27 - PROGRESS: at 90.83% examples, 1240113 words/s, in_qsize 14, out_qsize 1\n",
      "2020-11-18 16:25:13,452 : INFO : worker thread finished; awaiting finish of 7 more threads\n",
      "2020-11-18 16:25:13,460 : INFO : worker thread finished; awaiting finish of 6 more threads\n",
      "2020-11-18 16:25:13,463 : INFO : worker thread finished; awaiting finish of 5 more threads\n",
      "2020-11-18 16:25:13,464 : INFO : worker thread finished; awaiting finish of 4 more threads\n",
      "2020-11-18 16:25:13,472 : INFO : worker thread finished; awaiting finish of 3 more threads\n",
      "2020-11-18 16:25:13,474 : INFO : worker thread finished; awaiting finish of 2 more threads\n",
      "2020-11-18 16:25:13,477 : INFO : worker thread finished; awaiting finish of 1 more threads\n",
      "2020-11-18 16:25:13,483 : INFO : worker thread finished; awaiting finish of 0 more threads\n",
      "2020-11-18 16:25:13,483 : INFO : EPOCH - 27 : training on 16862887 raw words (12378385 effective words) took 10.0s, 1242818 effective words/s\n",
      "2020-11-18 16:25:14,505 : INFO : EPOCH 28 - PROGRESS: at 10.09% examples, 1234026 words/s, in_qsize 15, out_qsize 0\n",
      "2020-11-18 16:25:15,509 : INFO : EPOCH 28 - PROGRESS: at 20.16% examples, 1238561 words/s, in_qsize 14, out_qsize 1\n",
      "2020-11-18 16:25:16,512 : INFO : EPOCH 28 - PROGRESS: at 30.22% examples, 1239833 words/s, in_qsize 13, out_qsize 2\n",
      "2020-11-18 16:25:17,513 : INFO : EPOCH 28 - PROGRESS: at 40.33% examples, 1243438 words/s, in_qsize 14, out_qsize 1\n",
      "2020-11-18 16:25:18,524 : INFO : EPOCH 28 - PROGRESS: at 50.34% examples, 1239865 words/s, in_qsize 14, out_qsize 1\n",
      "2020-11-18 16:25:19,536 : INFO : EPOCH 28 - PROGRESS: at 60.45% examples, 1239827 words/s, in_qsize 13, out_qsize 2\n",
      "2020-11-18 16:25:20,538 : INFO : EPOCH 28 - PROGRESS: at 70.00% examples, 1231191 words/s, in_qsize 14, out_qsize 1\n",
      "2020-11-18 16:25:21,544 : INFO : EPOCH 28 - PROGRESS: at 79.98% examples, 1230567 words/s, in_qsize 15, out_qsize 0\n",
      "2020-11-18 16:25:22,547 : INFO : EPOCH 28 - PROGRESS: at 90.00% examples, 1230979 words/s, in_qsize 13, out_qsize 2\n",
      "2020-11-18 16:25:23,486 : INFO : worker thread finished; awaiting finish of 7 more threads\n",
      "2020-11-18 16:25:23,494 : INFO : worker thread finished; awaiting finish of 6 more threads\n",
      "2020-11-18 16:25:23,496 : INFO : worker thread finished; awaiting finish of 5 more threads\n",
      "2020-11-18 16:25:23,496 : INFO : worker thread finished; awaiting finish of 4 more threads\n",
      "2020-11-18 16:25:23,509 : INFO : worker thread finished; awaiting finish of 3 more threads\n",
      "2020-11-18 16:25:23,510 : INFO : worker thread finished; awaiting finish of 2 more threads\n",
      "2020-11-18 16:25:23,511 : INFO : worker thread finished; awaiting finish of 1 more threads\n",
      "2020-11-18 16:25:23,512 : INFO : worker thread finished; awaiting finish of 0 more threads\n",
      "2020-11-18 16:25:23,512 : INFO : EPOCH - 28 : training on 16862887 raw words (12379723 effective words) took 10.0s, 1235793 effective words/s\n",
      "2020-11-18 16:25:24,531 : INFO : EPOCH 29 - PROGRESS: at 10.03% examples, 1231038 words/s, in_qsize 14, out_qsize 1\n",
      "2020-11-18 16:25:25,535 : INFO : EPOCH 29 - PROGRESS: at 20.04% examples, 1232514 words/s, in_qsize 14, out_qsize 1\n",
      "2020-11-18 16:25:26,540 : INFO : EPOCH 29 - PROGRESS: at 30.16% examples, 1237774 words/s, in_qsize 16, out_qsize 0\n",
      "2020-11-18 16:25:27,551 : INFO : EPOCH 29 - PROGRESS: at 40.22% examples, 1236772 words/s, in_qsize 16, out_qsize 2\n",
      "2020-11-18 16:25:28,558 : INFO : EPOCH 29 - PROGRESS: at 50.28% examples, 1237094 words/s, in_qsize 14, out_qsize 1\n",
      "2020-11-18 16:25:29,569 : INFO : EPOCH 29 - PROGRESS: at 60.34% examples, 1236432 words/s, in_qsize 16, out_qsize 2\n",
      "2020-11-18 16:25:30,579 : INFO : EPOCH 29 - PROGRESS: at 70.53% examples, 1238287 words/s, in_qsize 15, out_qsize 0\n",
      "2020-11-18 16:25:31,595 : INFO : EPOCH 29 - PROGRESS: at 80.33% examples, 1232504 words/s, in_qsize 12, out_qsize 3\n",
      "2020-11-18 16:25:32,601 : INFO : EPOCH 29 - PROGRESS: at 90.12% examples, 1229151 words/s, in_qsize 14, out_qsize 1\n",
      "2020-11-18 16:25:33,537 : INFO : worker thread finished; awaiting finish of 7 more threads\n",
      "2020-11-18 16:25:33,545 : INFO : worker thread finished; awaiting finish of 6 more threads\n",
      "2020-11-18 16:25:33,546 : INFO : worker thread finished; awaiting finish of 5 more threads\n",
      "2020-11-18 16:25:33,547 : INFO : worker thread finished; awaiting finish of 4 more threads\n",
      "2020-11-18 16:25:33,559 : INFO : worker thread finished; awaiting finish of 3 more threads\n",
      "2020-11-18 16:25:33,560 : INFO : worker thread finished; awaiting finish of 2 more threads\n",
      "2020-11-18 16:25:33,561 : INFO : worker thread finished; awaiting finish of 1 more threads\n",
      "2020-11-18 16:25:33,562 : INFO : worker thread finished; awaiting finish of 0 more threads\n",
      "2020-11-18 16:25:33,562 : INFO : EPOCH - 29 : training on 16862887 raw words (12379140 effective words) took 10.0s, 1233181 effective words/s\n",
      "2020-11-18 16:25:34,586 : INFO : EPOCH 30 - PROGRESS: at 10.03% examples, 1236854 words/s, in_qsize 14, out_qsize 1\n",
      "2020-11-18 16:25:35,593 : INFO : EPOCH 30 - PROGRESS: at 20.16% examples, 1240861 words/s, in_qsize 13, out_qsize 2\n",
      "2020-11-18 16:25:36,604 : INFO : EPOCH 30 - PROGRESS: at 30.34% examples, 1243326 words/s, in_qsize 14, out_qsize 1\n",
      "2020-11-18 16:25:37,610 : INFO : EPOCH 30 - PROGRESS: at 40.33% examples, 1240338 words/s, in_qsize 13, out_qsize 2\n",
      "2020-11-18 16:25:38,612 : INFO : EPOCH 30 - PROGRESS: at 50.34% examples, 1239780 words/s, in_qsize 13, out_qsize 2\n",
      "2020-11-18 16:25:39,617 : INFO : EPOCH 30 - PROGRESS: at 60.33% examples, 1238799 words/s, in_qsize 13, out_qsize 2\n",
      "2020-11-18 16:25:40,628 : INFO : EPOCH 30 - PROGRESS: at 69.64% examples, 1224519 words/s, in_qsize 14, out_qsize 1\n",
      "2020-11-18 16:25:41,640 : INFO : EPOCH 30 - PROGRESS: at 79.44% examples, 1220889 words/s, in_qsize 15, out_qsize 1\n",
      "2020-11-18 16:25:42,651 : INFO : EPOCH 30 - PROGRESS: at 89.52% examples, 1222251 words/s, in_qsize 13, out_qsize 2\n",
      "2020-11-18 16:25:43,639 : INFO : worker thread finished; awaiting finish of 7 more threads\n",
      "2020-11-18 16:25:43,642 : INFO : worker thread finished; awaiting finish of 6 more threads\n",
      "2020-11-18 16:25:43,648 : INFO : worker thread finished; awaiting finish of 5 more threads\n",
      "2020-11-18 16:25:43,662 : INFO : EPOCH 30 - PROGRESS: at 99.76% examples, 1225359 words/s, in_qsize 4, out_qsize 1\n",
      "2020-11-18 16:25:43,663 : INFO : worker thread finished; awaiting finish of 4 more threads\n",
      "2020-11-18 16:25:43,663 : INFO : worker thread finished; awaiting finish of 3 more threads\n",
      "2020-11-18 16:25:43,665 : INFO : worker thread finished; awaiting finish of 2 more threads\n",
      "2020-11-18 16:25:43,666 : INFO : worker thread finished; awaiting finish of 1 more threads\n",
      "2020-11-18 16:25:43,666 : INFO : worker thread finished; awaiting finish of 0 more threads\n",
      "2020-11-18 16:25:43,667 : INFO : EPOCH - 30 : training on 16862887 raw words (12378423 effective words) took 10.1s, 1227621 effective words/s\n",
      "2020-11-18 16:25:44,688 : INFO : EPOCH 31 - PROGRESS: at 9.85% examples, 1203291 words/s, in_qsize 15, out_qsize 0\n",
      "2020-11-18 16:25:45,701 : INFO : EPOCH 31 - PROGRESS: at 19.86% examples, 1212909 words/s, in_qsize 14, out_qsize 1\n",
      "2020-11-18 16:25:46,713 : INFO : EPOCH 31 - PROGRESS: at 29.98% examples, 1221803 words/s, in_qsize 13, out_qsize 2\n",
      "2020-11-18 16:25:47,721 : INFO : EPOCH 31 - PROGRESS: at 40.04% examples, 1225768 words/s, in_qsize 13, out_qsize 2\n",
      "2020-11-18 16:25:48,722 : INFO : EPOCH 31 - PROGRESS: at 50.04% examples, 1227991 words/s, in_qsize 16, out_qsize 1\n",
      "2020-11-18 16:25:49,738 : INFO : EPOCH 31 - PROGRESS: at 60.21% examples, 1230358 words/s, in_qsize 16, out_qsize 0\n",
      "2020-11-18 16:25:50,738 : INFO : EPOCH 31 - PROGRESS: at 70.24% examples, 1231614 words/s, in_qsize 14, out_qsize 1\n",
      "2020-11-18 16:25:51,752 : INFO : EPOCH 31 - PROGRESS: at 80.15% examples, 1228722 words/s, in_qsize 15, out_qsize 0\n",
      "2020-11-18 16:25:52,764 : INFO : EPOCH 31 - PROGRESS: at 90.30% examples, 1229783 words/s, in_qsize 14, out_qsize 1\n",
      "2020-11-18 16:25:53,679 : INFO : worker thread finished; awaiting finish of 7 more threads\n",
      "2020-11-18 16:25:53,691 : INFO : worker thread finished; awaiting finish of 6 more threads\n",
      "2020-11-18 16:25:53,692 : INFO : worker thread finished; awaiting finish of 5 more threads\n",
      "2020-11-18 16:25:53,692 : INFO : worker thread finished; awaiting finish of 4 more threads\n",
      "2020-11-18 16:25:53,704 : INFO : worker thread finished; awaiting finish of 3 more threads\n",
      "2020-11-18 16:25:53,706 : INFO : worker thread finished; awaiting finish of 2 more threads\n",
      "2020-11-18 16:25:53,707 : INFO : worker thread finished; awaiting finish of 1 more threads\n",
      "2020-11-18 16:25:53,713 : INFO : worker thread finished; awaiting finish of 0 more threads\n",
      "2020-11-18 16:25:53,714 : INFO : EPOCH - 31 : training on 16862887 raw words (12376367 effective words) took 10.0s, 1232949 effective words/s\n",
      "2020-11-18 16:25:54,735 : INFO : EPOCH 32 - PROGRESS: at 10.09% examples, 1234445 words/s, in_qsize 13, out_qsize 2\n",
      "2020-11-18 16:25:55,746 : INFO : EPOCH 32 - PROGRESS: at 20.28% examples, 1241462 words/s, in_qsize 14, out_qsize 1\n",
      "2020-11-18 16:25:56,752 : INFO : EPOCH 32 - PROGRESS: at 30.34% examples, 1240589 words/s, in_qsize 14, out_qsize 1\n",
      "2020-11-18 16:25:57,753 : INFO : EPOCH 32 - PROGRESS: at 40.45% examples, 1243996 words/s, in_qsize 15, out_qsize 0\n",
      "2020-11-18 16:25:58,755 : INFO : EPOCH 32 - PROGRESS: at 50.39% examples, 1241180 words/s, in_qsize 14, out_qsize 1\n",
      "2020-11-18 16:25:59,763 : INFO : EPOCH 32 - PROGRESS: at 60.52% examples, 1241763 words/s, in_qsize 13, out_qsize 2\n",
      "2020-11-18 16:26:00,769 : INFO : EPOCH 32 - PROGRESS: at 70.59% examples, 1241412 words/s, in_qsize 15, out_qsize 1\n",
      "2020-11-18 16:26:01,773 : INFO : EPOCH 32 - PROGRESS: at 80.63% examples, 1240579 words/s, in_qsize 14, out_qsize 1\n",
      "2020-11-18 16:26:02,778 : INFO : EPOCH 32 - PROGRESS: at 90.71% examples, 1240480 words/s, in_qsize 13, out_qsize 2\n",
      "2020-11-18 16:26:03,658 : INFO : worker thread finished; awaiting finish of 7 more threads\n",
      "2020-11-18 16:26:03,660 : INFO : worker thread finished; awaiting finish of 6 more threads\n",
      "2020-11-18 16:26:03,667 : INFO : worker thread finished; awaiting finish of 5 more threads\n",
      "2020-11-18 16:26:03,671 : INFO : worker thread finished; awaiting finish of 4 more threads\n",
      "2020-11-18 16:26:03,673 : INFO : worker thread finished; awaiting finish of 3 more threads\n",
      "2020-11-18 16:26:03,681 : INFO : worker thread finished; awaiting finish of 2 more threads\n",
      "2020-11-18 16:26:03,683 : INFO : worker thread finished; awaiting finish of 1 more threads\n",
      "2020-11-18 16:26:03,684 : INFO : worker thread finished; awaiting finish of 0 more threads\n",
      "2020-11-18 16:26:03,684 : INFO : EPOCH - 32 : training on 16862887 raw words (12378500 effective words) took 10.0s, 1242916 effective words/s\n",
      "2020-11-18 16:26:03,685 : INFO : training on a 539612384 raw words (396115800 effective words) took 330.7s, 1197882 effective words/s\n"
     ]
    },
    {
     "name": "stdout",
     "output_type": "stream",
     "text": [
      "CPU times: user 25min 19s, sys: 9.94 s, total: 25min 29s\n",
      "Wall time: 5min 30s\n"
     ]
    },
    {
     "data": {
      "text/plain": [
       "(396115800, 539612384)"
      ]
     },
     "execution_count": 16,
     "metadata": {},
     "output_type": "execute_result"
    }
   ],
   "source": [
    "%%time\n",
    "w2v_model.train(documents, total_examples=len(documents), epochs=W2V_EPOCH)"
   ]
  },
  {
   "cell_type": "code",
   "execution_count": 17,
   "metadata": {},
   "outputs": [
    {
     "name": "stderr",
     "output_type": "stream",
     "text": [
      "/Users/richardwang/opt/anaconda3/lib/python3.7/site-packages/ipykernel_launcher.py:1: DeprecationWarning: Call to deprecated `most_similar` (Method will be removed in 4.0.0, use self.wv.most_similar() instead).\n",
      "  \"\"\"Entry point for launching an IPython kernel.\n",
      "2020-11-18 16:26:03,694 : INFO : precomputing L2-norms of word weight vectors\n"
     ]
    },
    {
     "data": {
      "text/plain": [
       "[('adore', 0.7259747982025146),\n",
       " ('LOVE', 0.6829929947853088),\n",
       " ('luv', 0.6729847192764282),\n",
       " ('loveee', 0.6664007902145386),\n",
       " ('loooove', 0.6617765426635742),\n",
       " ('looove', 0.6607675552368164),\n",
       " ('miss', 0.6160344481468201),\n",
       " ('lovee', 0.6156436800956726),\n",
       " ('loved', 0.6125247478485107),\n",
       " ('loove', 0.6046488285064697)]"
      ]
     },
     "execution_count": 17,
     "metadata": {},
     "output_type": "execute_result"
    }
   ],
   "source": [
    "w2v_model.most_similar(\"love\")"
   ]
  },
  {
   "cell_type": "code",
   "execution_count": 18,
   "metadata": {},
   "outputs": [
    {
     "name": "stdout",
     "output_type": "stream",
     "text": [
      "Total words 594849\n",
      "CPU times: user 20.9 s, sys: 188 ms, total: 21.1 s\n",
      "Wall time: 21.2 s\n"
     ]
    }
   ],
   "source": [
    "%%time\n",
    "tokenizer = Tokenizer()\n",
    "tokenizer.fit_on_texts(df_train.text)\n",
    "\n",
    "vocab_size = len(tokenizer.word_index) + 1\n",
    "print(\"Total words\", vocab_size)"
   ]
  },
  {
   "cell_type": "code",
   "execution_count": 19,
   "metadata": {},
   "outputs": [
    {
     "name": "stdout",
     "output_type": "stream",
     "text": [
      "CPU times: user 28.4 s, sys: 925 ms, total: 29.4 s\n",
      "Wall time: 29.6 s\n"
     ]
    }
   ],
   "source": [
    "%%time\n",
    "x_train = pad_sequences(tokenizer.texts_to_sequences(df_train.text), maxlen=SEQUENCE_LENGTH)\n",
    "x_test = pad_sequences(tokenizer.texts_to_sequences(df_test.text), maxlen=SEQUENCE_LENGTH)"
   ]
  },
  {
   "cell_type": "code",
   "execution_count": 20,
   "metadata": {},
   "outputs": [
    {
     "data": {
      "text/plain": [
       "['POSITIVE', 'NEGATIVE', 'NEUTRAL']"
      ]
     },
     "execution_count": 20,
     "metadata": {},
     "output_type": "execute_result"
    }
   ],
   "source": [
    "labels = df_train.target.unique().tolist()\n",
    "labels.append(NEUTRAL)\n",
    "labels"
   ]
  },
  {
   "cell_type": "code",
   "execution_count": 21,
   "metadata": {},
   "outputs": [
    {
     "name": "stdout",
     "output_type": "stream",
     "text": [
      "y_train (1280000, 1)\n",
      "y_test (320000, 1)\n"
     ]
    }
   ],
   "source": [
    "encoder = LabelEncoder()\n",
    "encoder.fit(df_train.target.tolist())\n",
    "\n",
    "y_train = encoder.transform(df_train.target.tolist())\n",
    "y_test = encoder.transform(df_test.target.tolist())\n",
    "\n",
    "y_train = y_train.reshape(-1,1)\n",
    "y_test = y_test.reshape(-1,1)\n",
    "\n",
    "print(\"y_train\",y_train.shape)\n",
    "print(\"y_test\",y_test.shape)"
   ]
  },
  {
   "cell_type": "code",
   "execution_count": 22,
   "metadata": {},
   "outputs": [
    {
     "name": "stdout",
     "output_type": "stream",
     "text": [
      "(594849, 300)\n"
     ]
    }
   ],
   "source": [
    "embedding_matrix = np.zeros((vocab_size, W2V_SIZE))\n",
    "for word, i in tokenizer.word_index.items():\n",
    "  if word in w2v_model.wv:\n",
    "    embedding_matrix[i] = w2v_model.wv[word]\n",
    "print(embedding_matrix.shape)"
   ]
  },
  {
   "cell_type": "code",
   "execution_count": 24,
   "metadata": {},
   "outputs": [],
   "source": [
    "embedding_layer = Embedding(vocab_size, W2V_SIZE, weights=[embedding_matrix], input_length=SEQUENCE_LENGTH, trainable=False)"
   ]
  },
  {
   "cell_type": "code",
   "execution_count": 25,
   "metadata": {},
   "outputs": [
    {
     "name": "stdout",
     "output_type": "stream",
     "text": [
      "Model: \"sequential_1\"\n",
      "_________________________________________________________________\n",
      "Layer (type)                 Output Shape              Param #   \n",
      "=================================================================\n",
      "embedding (Embedding)        (None, 300, 300)          178454700 \n",
      "_________________________________________________________________\n",
      "dropout (Dropout)            (None, 300, 300)          0         \n",
      "_________________________________________________________________\n",
      "lstm (LSTM)                  (None, 100)               160400    \n",
      "_________________________________________________________________\n",
      "dense (Dense)                (None, 1)                 101       \n",
      "=================================================================\n",
      "Total params: 178,615,201\n",
      "Trainable params: 160,501\n",
      "Non-trainable params: 178,454,700\n",
      "_________________________________________________________________\n"
     ]
    }
   ],
   "source": [
    "model = Sequential()\n",
    "model.add(embedding_layer)\n",
    "model.add(Dropout(0.5))\n",
    "model.add(LSTM(100, dropout=0.2, recurrent_dropout=0.2))\n",
    "model.add(Dense(1, activation='sigmoid'))\n",
    "\n",
    "model.summary()"
   ]
  },
  {
   "cell_type": "code",
   "execution_count": 26,
   "metadata": {},
   "outputs": [],
   "source": [
    "model.compile(loss='binary_crossentropy',\n",
    "              optimizer=\"adam\",\n",
    "              metrics=['accuracy'])"
   ]
  },
  {
   "cell_type": "code",
   "execution_count": 27,
   "metadata": {},
   "outputs": [],
   "source": [
    "callbacks = [ ReduceLROnPlateau(monitor='val_loss', patience=5, cooldown=0),\n",
    "              EarlyStopping(monitor='val_acc', min_delta=1e-4, patience=5)]"
   ]
  },
  {
   "cell_type": "code",
   "execution_count": 28,
   "metadata": {},
   "outputs": [
    {
     "name": "stdout",
     "output_type": "stream",
     "text": [
      "Epoch 1/8\n",
      "1125/1125 [==============================] - ETA: 0s - loss: 0.4810 - accuracy: 0.7678WARNING:tensorflow:Early stopping conditioned on metric `val_acc` which is not available. Available metrics are: loss,accuracy,val_loss,val_accuracy,lr\n"
     ]
    },
    {
     "name": "stderr",
     "output_type": "stream",
     "text": [
      "2020-11-18 19:11:02,923 : WARNING : Early stopping conditioned on metric `val_acc` which is not available. Available metrics are: loss,accuracy,val_loss,val_accuracy,lr\n"
     ]
    },
    {
     "name": "stdout",
     "output_type": "stream",
     "text": [
      "1125/1125 [==============================] - 8142s 7s/step - loss: 0.4810 - accuracy: 0.7678 - val_loss: 0.4284 - val_accuracy: 0.8028\n",
      "Epoch 2/8\n",
      "1125/1125 [==============================] - ETA: 0s - loss: 0.4428 - accuracy: 0.7920WARNING:tensorflow:Early stopping conditioned on metric `val_acc` which is not available. Available metrics are: loss,accuracy,val_loss,val_accuracy,lr\n"
     ]
    },
    {
     "name": "stderr",
     "output_type": "stream",
     "text": [
      "2020-11-18 20:30:11,117 : WARNING : Early stopping conditioned on metric `val_acc` which is not available. Available metrics are: loss,accuracy,val_loss,val_accuracy,lr\n"
     ]
    },
    {
     "name": "stdout",
     "output_type": "stream",
     "text": [
      "1125/1125 [==============================] - 4744s 4s/step - loss: 0.4428 - accuracy: 0.7920 - val_loss: 0.4120 - val_accuracy: 0.8124\n",
      "Epoch 3/8\n",
      "1125/1125 [==============================] - ETA: 0s - loss: 0.4317 - accuracy: 0.7987 WARNING:tensorflow:Early stopping conditioned on metric `val_acc` which is not available. Available metrics are: loss,accuracy,val_loss,val_accuracy,lr\n"
     ]
    },
    {
     "name": "stderr",
     "output_type": "stream",
     "text": [
      "2020-11-19 12:54:06,573 : WARNING : Early stopping conditioned on metric `val_acc` which is not available. Available metrics are: loss,accuracy,val_loss,val_accuracy,lr\n"
     ]
    },
    {
     "name": "stdout",
     "output_type": "stream",
     "text": [
      "1125/1125 [==============================] - 59031s 52s/step - loss: 0.4317 - accuracy: 0.7987 - val_loss: 0.4062 - val_accuracy: 0.8168\n",
      "Epoch 4/8\n",
      "1125/1125 [==============================] - ETA: 0s - loss: 0.4258 - accuracy: 0.8025 WARNING:tensorflow:Early stopping conditioned on metric `val_acc` which is not available. Available metrics are: loss,accuracy,val_loss,val_accuracy,lr\n"
     ]
    },
    {
     "name": "stderr",
     "output_type": "stream",
     "text": [
      "2020-11-19 16:54:18,305 : WARNING : Early stopping conditioned on metric `val_acc` which is not available. Available metrics are: loss,accuracy,val_loss,val_accuracy,lr\n"
     ]
    },
    {
     "name": "stdout",
     "output_type": "stream",
     "text": [
      "1125/1125 [==============================] - 14408s 13s/step - loss: 0.4258 - accuracy: 0.8025 - val_loss: 0.4016 - val_accuracy: 0.8189\n",
      "Epoch 5/8\n",
      "1125/1125 [==============================] - ETA: 0s - loss: 0.4219 - accuracy: 0.8046WARNING:tensorflow:Early stopping conditioned on metric `val_acc` which is not available. Available metrics are: loss,accuracy,val_loss,val_accuracy,lr\n"
     ]
    },
    {
     "name": "stderr",
     "output_type": "stream",
     "text": [
      "2020-11-19 17:57:09,616 : WARNING : Early stopping conditioned on metric `val_acc` which is not available. Available metrics are: loss,accuracy,val_loss,val_accuracy,lr\n"
     ]
    },
    {
     "name": "stdout",
     "output_type": "stream",
     "text": [
      "1125/1125 [==============================] - 3768s 3s/step - loss: 0.4219 - accuracy: 0.8046 - val_loss: 0.3985 - val_accuracy: 0.8210\n",
      "Epoch 6/8\n",
      "1125/1125 [==============================] - ETA: 0s - loss: 0.4193 - accuracy: 0.8061WARNING:tensorflow:Early stopping conditioned on metric `val_acc` which is not available. Available metrics are: loss,accuracy,val_loss,val_accuracy,lr\n"
     ]
    },
    {
     "name": "stderr",
     "output_type": "stream",
     "text": [
      "2020-11-19 19:57:46,189 : WARNING : Early stopping conditioned on metric `val_acc` which is not available. Available metrics are: loss,accuracy,val_loss,val_accuracy,lr\n"
     ]
    },
    {
     "name": "stdout",
     "output_type": "stream",
     "text": [
      "1125/1125 [==============================] - 7233s 6s/step - loss: 0.4193 - accuracy: 0.8061 - val_loss: 0.3986 - val_accuracy: 0.8220\n",
      "Epoch 7/8\n",
      "1125/1125 [==============================] - ETA: 0s - loss: 0.4170 - accuracy: 0.8074WARNING:tensorflow:Early stopping conditioned on metric `val_acc` which is not available. Available metrics are: loss,accuracy,val_loss,val_accuracy,lr\n"
     ]
    },
    {
     "name": "stderr",
     "output_type": "stream",
     "text": [
      "2020-11-19 21:01:42,895 : WARNING : Early stopping conditioned on metric `val_acc` which is not available. Available metrics are: loss,accuracy,val_loss,val_accuracy,lr\n"
     ]
    },
    {
     "name": "stdout",
     "output_type": "stream",
     "text": [
      "1125/1125 [==============================] - 3832s 3s/step - loss: 0.4170 - accuracy: 0.8074 - val_loss: 0.3952 - val_accuracy: 0.8228\n",
      "Epoch 8/8\n",
      "1125/1125 [==============================] - ETA: 0s - loss: 0.4157 - accuracy: 0.8079WARNING:tensorflow:Early stopping conditioned on metric `val_acc` which is not available. Available metrics are: loss,accuracy,val_loss,val_accuracy,lr\n"
     ]
    },
    {
     "name": "stderr",
     "output_type": "stream",
     "text": [
      "2020-11-19 22:05:23,814 : WARNING : Early stopping conditioned on metric `val_acc` which is not available. Available metrics are: loss,accuracy,val_loss,val_accuracy,lr\n"
     ]
    },
    {
     "name": "stdout",
     "output_type": "stream",
     "text": [
      "1125/1125 [==============================] - 3817s 3s/step - loss: 0.4157 - accuracy: 0.8079 - val_loss: 0.3938 - val_accuracy: 0.8236\n",
      "CPU times: user 2d 9h 22min 18s, sys: 1d 7h 56min 25s, total: 3d 17h 18min 44s\n",
      "Wall time: 1d 5h 10min 11s\n"
     ]
    }
   ],
   "source": [
    "%%time\n",
    "history = model.fit(x_train, y_train,\n",
    "                    batch_size=BATCH_SIZE,\n",
    "                    epochs=EPOCHS,\n",
    "                    validation_split=0.1,\n",
    "                    verbose=1,\n",
    "                    callbacks=callbacks)"
   ]
  },
  {
   "cell_type": "code",
   "execution_count": 73,
   "metadata": {},
   "outputs": [],
   "source": [
    "def decode_sentiment(score, include_neutral=True):\n",
    "    if include_neutral:        \n",
    "        label = NEUTRAL\n",
    "        if score <= SENTIMENT_THRESHOLDS[0]:\n",
    "            label = NEGATIVE\n",
    "        elif score >= SENTIMENT_THRESHOLDS[1]:\n",
    "            label = POSITIVE\n",
    "\n",
    "        return label\n",
    "    else:\n",
    "        return NEGATIVE if score < 0.5 else POSITIVE\n",
    "\n",
    "\n",
    "def predict(text, include_neutral=True):\n",
    "    start_at = time.time()\n",
    "    # Tokenize text\n",
    "    x_test = pad_sequences(tokenizer.texts_to_sequences([text]), maxlen=SEQUENCE_LENGTH)\n",
    "    # Predict\n",
    "    score = model.predict([x_test])[0]\n",
    "    # Decode sentiment\n",
    "    label = decode_sentiment(score, include_neutral=include_neutral)\n",
    "\n",
    "    return  float(score)"
   ]
  },
  {
   "cell_type": "code",
   "execution_count": 76,
   "metadata": {},
   "outputs": [
    {
     "data": {
      "text/plain": [
       "0.9979958534240723"
      ]
     },
     "execution_count": 76,
     "metadata": {},
     "output_type": "execute_result"
    }
   ],
   "source": [
    "predict(\"I love the music, I love the music, I love the music, I love the music, I love the music, I love the music, I love the music, I love the music, I love the music, I love the music, I love the music, I love the music, I love the music, I love the music, I love the music, I love the music, I love the music, I love the music, I love the music, I love the music, I love the music, I love the music, I love the music, I love the music, I love the music, I love the music, I love the music, I love the music, I love the music, I love the music\")"
   ]
  },
  {
   "cell_type": "markdown",
   "metadata": {},
   "source": [
    "# Read in the reddit comments data regarding medical terms\n",
    "* twitter sentiment model will be used to scored the data"
   ]
  },
  {
   "cell_type": "code",
   "execution_count": 71,
   "metadata": {},
   "outputs": [
    {
     "name": "stderr",
     "output_type": "stream",
     "text": [
      "/Users/richardwang/opt/anaconda3/lib/python3.7/site-packages/IPython/core/interactiveshell.py:3063: DtypeWarning: Columns (1,2,3) have mixed types.Specify dtype option on import or set low_memory=False.\n",
      "  interactivity=interactivity, compiler=compiler, result=result)\n"
     ]
    }
   ],
   "source": [
    "reddit_data = pd.read_csv('Project/google_cloud/bq-results-20201112-002933-ro03kqmma4h5.csv')"
   ]
  },
  {
   "cell_type": "code",
   "execution_count": 72,
   "metadata": {},
   "outputs": [],
   "source": [
    "reddit_data = reddit_data[['body']]"
   ]
  },
  {
   "cell_type": "code",
   "execution_count": 101,
   "metadata": {},
   "outputs": [],
   "source": [
    "# reddit_data['sentiment'] = reddit_data.body.apply(predict)"
   ]
  },
  {
   "cell_type": "code",
   "execution_count": 134,
   "metadata": {},
   "outputs": [
    {
     "name": "stdout",
     "output_type": "stream",
     "text": [
      "process took 685 sec\n"
     ]
    }
   ],
   "source": [
    "start = time.time()\n",
    "\n",
    "\n",
    "prediction = model.predict(pad_sequences(tokenizer.texts_to_sequences(reddit_data.body) , maxlen=SEQUENCE_LENGTH))\n",
    "print('process took {:,.0f} sec'.format(time.time() - start))"
   ]
  },
  {
   "cell_type": "code",
   "execution_count": 143,
   "metadata": {},
   "outputs": [],
   "source": [
    "reddit_data['sentiment'] = prediction"
   ]
  },
  {
   "cell_type": "code",
   "execution_count": 144,
   "metadata": {},
   "outputs": [
    {
     "data": {
      "text/html": [
       "<div>\n",
       "<style scoped>\n",
       "    .dataframe tbody tr th:only-of-type {\n",
       "        vertical-align: middle;\n",
       "    }\n",
       "\n",
       "    .dataframe tbody tr th {\n",
       "        vertical-align: top;\n",
       "    }\n",
       "\n",
       "    .dataframe thead th {\n",
       "        text-align: right;\n",
       "    }\n",
       "</style>\n",
       "<table border=\"1\" class=\"dataframe\">\n",
       "  <thead>\n",
       "    <tr style=\"text-align: right;\">\n",
       "      <th></th>\n",
       "      <th>body</th>\n",
       "      <th>sentiment</th>\n",
       "    </tr>\n",
       "  </thead>\n",
       "  <tbody>\n",
       "    <tr>\n",
       "      <th>0</th>\n",
       "      <td>People who have been *legally* declared [menta...</td>\n",
       "      <td>0.605968</td>\n",
       "    </tr>\n",
       "    <tr>\n",
       "      <th>1</th>\n",
       "      <td>&amp;gt; why only 17% of energy is nuclear\\n\\nand ...</td>\n",
       "      <td>0.699032</td>\n",
       "    </tr>\n",
       "    <tr>\n",
       "      <th>2</th>\n",
       "      <td>Fucking gabapentin. I went to pain management ...</td>\n",
       "      <td>0.061821</td>\n",
       "    </tr>\n",
       "    <tr>\n",
       "      <th>3</th>\n",
       "      <td>so that means SC men would just get it illegal...</td>\n",
       "      <td>0.785086</td>\n",
       "    </tr>\n",
       "    <tr>\n",
       "      <th>4</th>\n",
       "      <td>Tell her to take pills or morning after pills....</td>\n",
       "      <td>0.597251</td>\n",
       "    </tr>\n",
       "    <tr>\n",
       "      <th>...</th>\n",
       "      <td>...</td>\n",
       "      <td>...</td>\n",
       "    </tr>\n",
       "    <tr>\n",
       "      <th>402286</th>\n",
       "      <td>&amp;gt; Google is not a technology company? Googl...</td>\n",
       "      <td>0.750558</td>\n",
       "    </tr>\n",
       "    <tr>\n",
       "      <th>402287</th>\n",
       "      <td>&amp;gt; Albuterol is wildly safer and more effect...</td>\n",
       "      <td>0.485028</td>\n",
       "    </tr>\n",
       "    <tr>\n",
       "      <th>402288</th>\n",
       "      <td>Do you know what happens when you mix Alcohol ...</td>\n",
       "      <td>0.939480</td>\n",
       "    </tr>\n",
       "    <tr>\n",
       "      <th>402289</th>\n",
       "      <td>Arteezy also using performance enhancing drugs...</td>\n",
       "      <td>0.196580</td>\n",
       "    </tr>\n",
       "    <tr>\n",
       "      <th>402290</th>\n",
       "      <td>I realize this is going against the Reddit cir...</td>\n",
       "      <td>0.472598</td>\n",
       "    </tr>\n",
       "  </tbody>\n",
       "</table>\n",
       "<p>402291 rows × 2 columns</p>\n",
       "</div>"
      ],
      "text/plain": [
       "                                                     body  sentiment\n",
       "0       People who have been *legally* declared [menta...   0.605968\n",
       "1       &gt; why only 17% of energy is nuclear\\n\\nand ...   0.699032\n",
       "2       Fucking gabapentin. I went to pain management ...   0.061821\n",
       "3       so that means SC men would just get it illegal...   0.785086\n",
       "4       Tell her to take pills or morning after pills....   0.597251\n",
       "...                                                   ...        ...\n",
       "402286  &gt; Google is not a technology company? Googl...   0.750558\n",
       "402287  &gt; Albuterol is wildly safer and more effect...   0.485028\n",
       "402288  Do you know what happens when you mix Alcohol ...   0.939480\n",
       "402289  Arteezy also using performance enhancing drugs...   0.196580\n",
       "402290  I realize this is going against the Reddit cir...   0.472598\n",
       "\n",
       "[402291 rows x 2 columns]"
      ]
     },
     "execution_count": 144,
     "metadata": {},
     "output_type": "execute_result"
    }
   ],
   "source": [
    "reddit_data"
   ]
  },
  {
   "cell_type": "code",
   "execution_count": 174,
   "metadata": {},
   "outputs": [],
   "source": [
    "reddit_data.to_csv('Project/google_cloud/reddit_with_sentiment.csv', sep=',', line_terminator='\\r')"
   ]
  },
  {
   "cell_type": "code",
   "execution_count": 9,
   "metadata": {},
   "outputs": [],
   "source": [
    "df_check = pd.read_csv('Project/google_cloud/reddit_with_sentiment.csv', sep=',', lineterminator='\\r', index_col=0)"
   ]
  }
 ],
 "metadata": {
  "kernelspec": {
   "display_name": "Python 3",
   "language": "python",
   "name": "python3"
  },
  "language_info": {
   "codemirror_mode": {
    "name": "ipython",
    "version": 3
   },
   "file_extension": ".py",
   "mimetype": "text/x-python",
   "name": "python",
   "nbconvert_exporter": "python",
   "pygments_lexer": "ipython3",
   "version": "3.7.7"
  }
 },
 "nbformat": 4,
 "nbformat_minor": 4
}
