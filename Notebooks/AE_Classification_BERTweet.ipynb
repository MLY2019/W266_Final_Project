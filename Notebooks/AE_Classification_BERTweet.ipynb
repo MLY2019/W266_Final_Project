{
  "nbformat": 4,
  "nbformat_minor": 0,
  "metadata": {
    "colab": {
      "name": "AE_Classification_BERTweet.ipynb",
      "provenance": [],
      "collapsed_sections": [],
      "toc_visible": true
    },
    "kernelspec": {
      "name": "python3",
      "display_name": "Python 3"
    },
    "widgets": {
      "application/vnd.jupyter.widget-state+json": {
        "3b2d283608774021b1984e2315f51061": {
          "model_module": "@jupyter-widgets/controls",
          "model_name": "HBoxModel",
          "state": {
            "_view_name": "HBoxView",
            "_dom_classes": [],
            "_model_name": "HBoxModel",
            "_view_module": "@jupyter-widgets/controls",
            "_model_module_version": "1.5.0",
            "_view_count": null,
            "_view_module_version": "1.5.0",
            "box_style": "",
            "layout": "IPY_MODEL_69d5635d0ca24afd90cc4411df6b7329",
            "_model_module": "@jupyter-widgets/controls",
            "children": [
              "IPY_MODEL_d4ed518fa2f64a06af492e760a7ea8e2",
              "IPY_MODEL_53de398af0ac4ca8880c780085576705"
            ]
          }
        },
        "69d5635d0ca24afd90cc4411df6b7329": {
          "model_module": "@jupyter-widgets/base",
          "model_name": "LayoutModel",
          "state": {
            "_view_name": "LayoutView",
            "grid_template_rows": null,
            "right": null,
            "justify_content": null,
            "_view_module": "@jupyter-widgets/base",
            "overflow": null,
            "_model_module_version": "1.2.0",
            "_view_count": null,
            "flex_flow": null,
            "width": null,
            "min_width": null,
            "border": null,
            "align_items": null,
            "bottom": null,
            "_model_module": "@jupyter-widgets/base",
            "top": null,
            "grid_column": null,
            "overflow_y": null,
            "overflow_x": null,
            "grid_auto_flow": null,
            "grid_area": null,
            "grid_template_columns": null,
            "flex": null,
            "_model_name": "LayoutModel",
            "justify_items": null,
            "grid_row": null,
            "max_height": null,
            "align_content": null,
            "visibility": null,
            "align_self": null,
            "height": null,
            "min_height": null,
            "padding": null,
            "grid_auto_rows": null,
            "grid_gap": null,
            "max_width": null,
            "order": null,
            "_view_module_version": "1.2.0",
            "grid_template_areas": null,
            "object_position": null,
            "object_fit": null,
            "grid_auto_columns": null,
            "margin": null,
            "display": null,
            "left": null
          }
        },
        "d4ed518fa2f64a06af492e760a7ea8e2": {
          "model_module": "@jupyter-widgets/controls",
          "model_name": "FloatProgressModel",
          "state": {
            "_view_name": "ProgressView",
            "style": "IPY_MODEL_de10e23f2c204c4c8cbd80dc7b98a2bd",
            "_dom_classes": [],
            "description": "Downloading: 100%",
            "_model_name": "FloatProgressModel",
            "bar_style": "success",
            "max": 558,
            "_view_module": "@jupyter-widgets/controls",
            "_model_module_version": "1.5.0",
            "value": 558,
            "_view_count": null,
            "_view_module_version": "1.5.0",
            "orientation": "horizontal",
            "min": 0,
            "description_tooltip": null,
            "_model_module": "@jupyter-widgets/controls",
            "layout": "IPY_MODEL_dc9bb6cb2ed547418722699820a272e8"
          }
        },
        "53de398af0ac4ca8880c780085576705": {
          "model_module": "@jupyter-widgets/controls",
          "model_name": "HTMLModel",
          "state": {
            "_view_name": "HTMLView",
            "style": "IPY_MODEL_da39899a3400452788e5c641c12fa757",
            "_dom_classes": [],
            "description": "",
            "_model_name": "HTMLModel",
            "placeholder": "​",
            "_view_module": "@jupyter-widgets/controls",
            "_model_module_version": "1.5.0",
            "value": " 558/558 [00:16&lt;00:00, 33.0B/s]",
            "_view_count": null,
            "_view_module_version": "1.5.0",
            "description_tooltip": null,
            "_model_module": "@jupyter-widgets/controls",
            "layout": "IPY_MODEL_5919e48422fb41548b9830eacff2397d"
          }
        },
        "de10e23f2c204c4c8cbd80dc7b98a2bd": {
          "model_module": "@jupyter-widgets/controls",
          "model_name": "ProgressStyleModel",
          "state": {
            "_view_name": "StyleView",
            "_model_name": "ProgressStyleModel",
            "description_width": "initial",
            "_view_module": "@jupyter-widgets/base",
            "_model_module_version": "1.5.0",
            "_view_count": null,
            "_view_module_version": "1.2.0",
            "bar_color": null,
            "_model_module": "@jupyter-widgets/controls"
          }
        },
        "dc9bb6cb2ed547418722699820a272e8": {
          "model_module": "@jupyter-widgets/base",
          "model_name": "LayoutModel",
          "state": {
            "_view_name": "LayoutView",
            "grid_template_rows": null,
            "right": null,
            "justify_content": null,
            "_view_module": "@jupyter-widgets/base",
            "overflow": null,
            "_model_module_version": "1.2.0",
            "_view_count": null,
            "flex_flow": null,
            "width": null,
            "min_width": null,
            "border": null,
            "align_items": null,
            "bottom": null,
            "_model_module": "@jupyter-widgets/base",
            "top": null,
            "grid_column": null,
            "overflow_y": null,
            "overflow_x": null,
            "grid_auto_flow": null,
            "grid_area": null,
            "grid_template_columns": null,
            "flex": null,
            "_model_name": "LayoutModel",
            "justify_items": null,
            "grid_row": null,
            "max_height": null,
            "align_content": null,
            "visibility": null,
            "align_self": null,
            "height": null,
            "min_height": null,
            "padding": null,
            "grid_auto_rows": null,
            "grid_gap": null,
            "max_width": null,
            "order": null,
            "_view_module_version": "1.2.0",
            "grid_template_areas": null,
            "object_position": null,
            "object_fit": null,
            "grid_auto_columns": null,
            "margin": null,
            "display": null,
            "left": null
          }
        },
        "da39899a3400452788e5c641c12fa757": {
          "model_module": "@jupyter-widgets/controls",
          "model_name": "DescriptionStyleModel",
          "state": {
            "_view_name": "StyleView",
            "_model_name": "DescriptionStyleModel",
            "description_width": "",
            "_view_module": "@jupyter-widgets/base",
            "_model_module_version": "1.5.0",
            "_view_count": null,
            "_view_module_version": "1.2.0",
            "_model_module": "@jupyter-widgets/controls"
          }
        },
        "5919e48422fb41548b9830eacff2397d": {
          "model_module": "@jupyter-widgets/base",
          "model_name": "LayoutModel",
          "state": {
            "_view_name": "LayoutView",
            "grid_template_rows": null,
            "right": null,
            "justify_content": null,
            "_view_module": "@jupyter-widgets/base",
            "overflow": null,
            "_model_module_version": "1.2.0",
            "_view_count": null,
            "flex_flow": null,
            "width": null,
            "min_width": null,
            "border": null,
            "align_items": null,
            "bottom": null,
            "_model_module": "@jupyter-widgets/base",
            "top": null,
            "grid_column": null,
            "overflow_y": null,
            "overflow_x": null,
            "grid_auto_flow": null,
            "grid_area": null,
            "grid_template_columns": null,
            "flex": null,
            "_model_name": "LayoutModel",
            "justify_items": null,
            "grid_row": null,
            "max_height": null,
            "align_content": null,
            "visibility": null,
            "align_self": null,
            "height": null,
            "min_height": null,
            "padding": null,
            "grid_auto_rows": null,
            "grid_gap": null,
            "max_width": null,
            "order": null,
            "_view_module_version": "1.2.0",
            "grid_template_areas": null,
            "object_position": null,
            "object_fit": null,
            "grid_auto_columns": null,
            "margin": null,
            "display": null,
            "left": null
          }
        },
        "43503e6bea18477c8472bbfeaec54a42": {
          "model_module": "@jupyter-widgets/controls",
          "model_name": "HBoxModel",
          "state": {
            "_view_name": "HBoxView",
            "_dom_classes": [],
            "_model_name": "HBoxModel",
            "_view_module": "@jupyter-widgets/controls",
            "_model_module_version": "1.5.0",
            "_view_count": null,
            "_view_module_version": "1.5.0",
            "box_style": "",
            "layout": "IPY_MODEL_8099680817dd4d3bb5566de0db296045",
            "_model_module": "@jupyter-widgets/controls",
            "children": [
              "IPY_MODEL_3c08bc780ef245f78a5bc1046ebe222d",
              "IPY_MODEL_8392d50c33cb47959545e7292d3779b5"
            ]
          }
        },
        "8099680817dd4d3bb5566de0db296045": {
          "model_module": "@jupyter-widgets/base",
          "model_name": "LayoutModel",
          "state": {
            "_view_name": "LayoutView",
            "grid_template_rows": null,
            "right": null,
            "justify_content": null,
            "_view_module": "@jupyter-widgets/base",
            "overflow": null,
            "_model_module_version": "1.2.0",
            "_view_count": null,
            "flex_flow": null,
            "width": null,
            "min_width": null,
            "border": null,
            "align_items": null,
            "bottom": null,
            "_model_module": "@jupyter-widgets/base",
            "top": null,
            "grid_column": null,
            "overflow_y": null,
            "overflow_x": null,
            "grid_auto_flow": null,
            "grid_area": null,
            "grid_template_columns": null,
            "flex": null,
            "_model_name": "LayoutModel",
            "justify_items": null,
            "grid_row": null,
            "max_height": null,
            "align_content": null,
            "visibility": null,
            "align_self": null,
            "height": null,
            "min_height": null,
            "padding": null,
            "grid_auto_rows": null,
            "grid_gap": null,
            "max_width": null,
            "order": null,
            "_view_module_version": "1.2.0",
            "grid_template_areas": null,
            "object_position": null,
            "object_fit": null,
            "grid_auto_columns": null,
            "margin": null,
            "display": null,
            "left": null
          }
        },
        "3c08bc780ef245f78a5bc1046ebe222d": {
          "model_module": "@jupyter-widgets/controls",
          "model_name": "FloatProgressModel",
          "state": {
            "_view_name": "ProgressView",
            "style": "IPY_MODEL_f4867b729c51478b90212bba92aafc2d",
            "_dom_classes": [],
            "description": "Downloading: 100%",
            "_model_name": "FloatProgressModel",
            "bar_style": "success",
            "max": 542529064,
            "_view_module": "@jupyter-widgets/controls",
            "_model_module_version": "1.5.0",
            "value": 542529064,
            "_view_count": null,
            "_view_module_version": "1.5.0",
            "orientation": "horizontal",
            "min": 0,
            "description_tooltip": null,
            "_model_module": "@jupyter-widgets/controls",
            "layout": "IPY_MODEL_e7f383826dec40cd971c62d984b5e17f"
          }
        },
        "8392d50c33cb47959545e7292d3779b5": {
          "model_module": "@jupyter-widgets/controls",
          "model_name": "HTMLModel",
          "state": {
            "_view_name": "HTMLView",
            "style": "IPY_MODEL_0c6174c288a944829cc40c666d63740d",
            "_dom_classes": [],
            "description": "",
            "_model_name": "HTMLModel",
            "placeholder": "​",
            "_view_module": "@jupyter-widgets/controls",
            "_model_module_version": "1.5.0",
            "value": " 543M/543M [00:13&lt;00:00, 41.6MB/s]",
            "_view_count": null,
            "_view_module_version": "1.5.0",
            "description_tooltip": null,
            "_model_module": "@jupyter-widgets/controls",
            "layout": "IPY_MODEL_02068ba879f048b59c7094382d650365"
          }
        },
        "f4867b729c51478b90212bba92aafc2d": {
          "model_module": "@jupyter-widgets/controls",
          "model_name": "ProgressStyleModel",
          "state": {
            "_view_name": "StyleView",
            "_model_name": "ProgressStyleModel",
            "description_width": "initial",
            "_view_module": "@jupyter-widgets/base",
            "_model_module_version": "1.5.0",
            "_view_count": null,
            "_view_module_version": "1.2.0",
            "bar_color": null,
            "_model_module": "@jupyter-widgets/controls"
          }
        },
        "e7f383826dec40cd971c62d984b5e17f": {
          "model_module": "@jupyter-widgets/base",
          "model_name": "LayoutModel",
          "state": {
            "_view_name": "LayoutView",
            "grid_template_rows": null,
            "right": null,
            "justify_content": null,
            "_view_module": "@jupyter-widgets/base",
            "overflow": null,
            "_model_module_version": "1.2.0",
            "_view_count": null,
            "flex_flow": null,
            "width": null,
            "min_width": null,
            "border": null,
            "align_items": null,
            "bottom": null,
            "_model_module": "@jupyter-widgets/base",
            "top": null,
            "grid_column": null,
            "overflow_y": null,
            "overflow_x": null,
            "grid_auto_flow": null,
            "grid_area": null,
            "grid_template_columns": null,
            "flex": null,
            "_model_name": "LayoutModel",
            "justify_items": null,
            "grid_row": null,
            "max_height": null,
            "align_content": null,
            "visibility": null,
            "align_self": null,
            "height": null,
            "min_height": null,
            "padding": null,
            "grid_auto_rows": null,
            "grid_gap": null,
            "max_width": null,
            "order": null,
            "_view_module_version": "1.2.0",
            "grid_template_areas": null,
            "object_position": null,
            "object_fit": null,
            "grid_auto_columns": null,
            "margin": null,
            "display": null,
            "left": null
          }
        },
        "0c6174c288a944829cc40c666d63740d": {
          "model_module": "@jupyter-widgets/controls",
          "model_name": "DescriptionStyleModel",
          "state": {
            "_view_name": "StyleView",
            "_model_name": "DescriptionStyleModel",
            "description_width": "",
            "_view_module": "@jupyter-widgets/base",
            "_model_module_version": "1.5.0",
            "_view_count": null,
            "_view_module_version": "1.2.0",
            "_model_module": "@jupyter-widgets/controls"
          }
        },
        "02068ba879f048b59c7094382d650365": {
          "model_module": "@jupyter-widgets/base",
          "model_name": "LayoutModel",
          "state": {
            "_view_name": "LayoutView",
            "grid_template_rows": null,
            "right": null,
            "justify_content": null,
            "_view_module": "@jupyter-widgets/base",
            "overflow": null,
            "_model_module_version": "1.2.0",
            "_view_count": null,
            "flex_flow": null,
            "width": null,
            "min_width": null,
            "border": null,
            "align_items": null,
            "bottom": null,
            "_model_module": "@jupyter-widgets/base",
            "top": null,
            "grid_column": null,
            "overflow_y": null,
            "overflow_x": null,
            "grid_auto_flow": null,
            "grid_area": null,
            "grid_template_columns": null,
            "flex": null,
            "_model_name": "LayoutModel",
            "justify_items": null,
            "grid_row": null,
            "max_height": null,
            "align_content": null,
            "visibility": null,
            "align_self": null,
            "height": null,
            "min_height": null,
            "padding": null,
            "grid_auto_rows": null,
            "grid_gap": null,
            "max_width": null,
            "order": null,
            "_view_module_version": "1.2.0",
            "grid_template_areas": null,
            "object_position": null,
            "object_fit": null,
            "grid_auto_columns": null,
            "margin": null,
            "display": null,
            "left": null
          }
        },
        "a4ea52a598fa44b3b28406887036f45a": {
          "model_module": "@jupyter-widgets/controls",
          "model_name": "HBoxModel",
          "state": {
            "_view_name": "HBoxView",
            "_dom_classes": [],
            "_model_name": "HBoxModel",
            "_view_module": "@jupyter-widgets/controls",
            "_model_module_version": "1.5.0",
            "_view_count": null,
            "_view_module_version": "1.5.0",
            "box_style": "",
            "layout": "IPY_MODEL_959edd09989f42e89ca5817a386a331b",
            "_model_module": "@jupyter-widgets/controls",
            "children": [
              "IPY_MODEL_d216746040db4ac0a6417d3684a8eade",
              "IPY_MODEL_9e6beb3cf53c4a4db18880554fd6ef57"
            ]
          }
        },
        "959edd09989f42e89ca5817a386a331b": {
          "model_module": "@jupyter-widgets/base",
          "model_name": "LayoutModel",
          "state": {
            "_view_name": "LayoutView",
            "grid_template_rows": null,
            "right": null,
            "justify_content": null,
            "_view_module": "@jupyter-widgets/base",
            "overflow": null,
            "_model_module_version": "1.2.0",
            "_view_count": null,
            "flex_flow": null,
            "width": null,
            "min_width": null,
            "border": null,
            "align_items": null,
            "bottom": null,
            "_model_module": "@jupyter-widgets/base",
            "top": null,
            "grid_column": null,
            "overflow_y": null,
            "overflow_x": null,
            "grid_auto_flow": null,
            "grid_area": null,
            "grid_template_columns": null,
            "flex": null,
            "_model_name": "LayoutModel",
            "justify_items": null,
            "grid_row": null,
            "max_height": null,
            "align_content": null,
            "visibility": null,
            "align_self": null,
            "height": null,
            "min_height": null,
            "padding": null,
            "grid_auto_rows": null,
            "grid_gap": null,
            "max_width": null,
            "order": null,
            "_view_module_version": "1.2.0",
            "grid_template_areas": null,
            "object_position": null,
            "object_fit": null,
            "grid_auto_columns": null,
            "margin": null,
            "display": null,
            "left": null
          }
        },
        "d216746040db4ac0a6417d3684a8eade": {
          "model_module": "@jupyter-widgets/controls",
          "model_name": "FloatProgressModel",
          "state": {
            "_view_name": "ProgressView",
            "style": "IPY_MODEL_fd791953a27e4c31b15125abccc15cc5",
            "_dom_classes": [],
            "description": "Downloading: 100%",
            "_model_name": "FloatProgressModel",
            "bar_style": "success",
            "max": 843438,
            "_view_module": "@jupyter-widgets/controls",
            "_model_module_version": "1.5.0",
            "value": 843438,
            "_view_count": null,
            "_view_module_version": "1.5.0",
            "orientation": "horizontal",
            "min": 0,
            "description_tooltip": null,
            "_model_module": "@jupyter-widgets/controls",
            "layout": "IPY_MODEL_7ebefe10574545c79b0fe5076e75a71a"
          }
        },
        "9e6beb3cf53c4a4db18880554fd6ef57": {
          "model_module": "@jupyter-widgets/controls",
          "model_name": "HTMLModel",
          "state": {
            "_view_name": "HTMLView",
            "style": "IPY_MODEL_3b8efa6607d8479fbaccf4dce9237463",
            "_dom_classes": [],
            "description": "",
            "_model_name": "HTMLModel",
            "placeholder": "​",
            "_view_module": "@jupyter-widgets/controls",
            "_model_module_version": "1.5.0",
            "value": " 843k/843k [00:00&lt;00:00, 2.44MB/s]",
            "_view_count": null,
            "_view_module_version": "1.5.0",
            "description_tooltip": null,
            "_model_module": "@jupyter-widgets/controls",
            "layout": "IPY_MODEL_063e163a6527425ca9b1d69d2db67e34"
          }
        },
        "fd791953a27e4c31b15125abccc15cc5": {
          "model_module": "@jupyter-widgets/controls",
          "model_name": "ProgressStyleModel",
          "state": {
            "_view_name": "StyleView",
            "_model_name": "ProgressStyleModel",
            "description_width": "initial",
            "_view_module": "@jupyter-widgets/base",
            "_model_module_version": "1.5.0",
            "_view_count": null,
            "_view_module_version": "1.2.0",
            "bar_color": null,
            "_model_module": "@jupyter-widgets/controls"
          }
        },
        "7ebefe10574545c79b0fe5076e75a71a": {
          "model_module": "@jupyter-widgets/base",
          "model_name": "LayoutModel",
          "state": {
            "_view_name": "LayoutView",
            "grid_template_rows": null,
            "right": null,
            "justify_content": null,
            "_view_module": "@jupyter-widgets/base",
            "overflow": null,
            "_model_module_version": "1.2.0",
            "_view_count": null,
            "flex_flow": null,
            "width": null,
            "min_width": null,
            "border": null,
            "align_items": null,
            "bottom": null,
            "_model_module": "@jupyter-widgets/base",
            "top": null,
            "grid_column": null,
            "overflow_y": null,
            "overflow_x": null,
            "grid_auto_flow": null,
            "grid_area": null,
            "grid_template_columns": null,
            "flex": null,
            "_model_name": "LayoutModel",
            "justify_items": null,
            "grid_row": null,
            "max_height": null,
            "align_content": null,
            "visibility": null,
            "align_self": null,
            "height": null,
            "min_height": null,
            "padding": null,
            "grid_auto_rows": null,
            "grid_gap": null,
            "max_width": null,
            "order": null,
            "_view_module_version": "1.2.0",
            "grid_template_areas": null,
            "object_position": null,
            "object_fit": null,
            "grid_auto_columns": null,
            "margin": null,
            "display": null,
            "left": null
          }
        },
        "3b8efa6607d8479fbaccf4dce9237463": {
          "model_module": "@jupyter-widgets/controls",
          "model_name": "DescriptionStyleModel",
          "state": {
            "_view_name": "StyleView",
            "_model_name": "DescriptionStyleModel",
            "description_width": "",
            "_view_module": "@jupyter-widgets/base",
            "_model_module_version": "1.5.0",
            "_view_count": null,
            "_view_module_version": "1.2.0",
            "_model_module": "@jupyter-widgets/controls"
          }
        },
        "063e163a6527425ca9b1d69d2db67e34": {
          "model_module": "@jupyter-widgets/base",
          "model_name": "LayoutModel",
          "state": {
            "_view_name": "LayoutView",
            "grid_template_rows": null,
            "right": null,
            "justify_content": null,
            "_view_module": "@jupyter-widgets/base",
            "overflow": null,
            "_model_module_version": "1.2.0",
            "_view_count": null,
            "flex_flow": null,
            "width": null,
            "min_width": null,
            "border": null,
            "align_items": null,
            "bottom": null,
            "_model_module": "@jupyter-widgets/base",
            "top": null,
            "grid_column": null,
            "overflow_y": null,
            "overflow_x": null,
            "grid_auto_flow": null,
            "grid_area": null,
            "grid_template_columns": null,
            "flex": null,
            "_model_name": "LayoutModel",
            "justify_items": null,
            "grid_row": null,
            "max_height": null,
            "align_content": null,
            "visibility": null,
            "align_self": null,
            "height": null,
            "min_height": null,
            "padding": null,
            "grid_auto_rows": null,
            "grid_gap": null,
            "max_width": null,
            "order": null,
            "_view_module_version": "1.2.0",
            "grid_template_areas": null,
            "object_position": null,
            "object_fit": null,
            "grid_auto_columns": null,
            "margin": null,
            "display": null,
            "left": null
          }
        },
        "2489c34fbf5045c4b90c1b33bf158698": {
          "model_module": "@jupyter-widgets/controls",
          "model_name": "HBoxModel",
          "state": {
            "_view_name": "HBoxView",
            "_dom_classes": [],
            "_model_name": "HBoxModel",
            "_view_module": "@jupyter-widgets/controls",
            "_model_module_version": "1.5.0",
            "_view_count": null,
            "_view_module_version": "1.5.0",
            "box_style": "",
            "layout": "IPY_MODEL_02f450b318134f9593cc46e964e1e0d4",
            "_model_module": "@jupyter-widgets/controls",
            "children": [
              "IPY_MODEL_4bcbe13ff1eb4b2db9a7f6cc74042556",
              "IPY_MODEL_1b114b5ee74549f49bff95115cd7855f"
            ]
          }
        },
        "02f450b318134f9593cc46e964e1e0d4": {
          "model_module": "@jupyter-widgets/base",
          "model_name": "LayoutModel",
          "state": {
            "_view_name": "LayoutView",
            "grid_template_rows": null,
            "right": null,
            "justify_content": null,
            "_view_module": "@jupyter-widgets/base",
            "overflow": null,
            "_model_module_version": "1.2.0",
            "_view_count": null,
            "flex_flow": null,
            "width": null,
            "min_width": null,
            "border": null,
            "align_items": null,
            "bottom": null,
            "_model_module": "@jupyter-widgets/base",
            "top": null,
            "grid_column": null,
            "overflow_y": null,
            "overflow_x": null,
            "grid_auto_flow": null,
            "grid_area": null,
            "grid_template_columns": null,
            "flex": null,
            "_model_name": "LayoutModel",
            "justify_items": null,
            "grid_row": null,
            "max_height": null,
            "align_content": null,
            "visibility": null,
            "align_self": null,
            "height": null,
            "min_height": null,
            "padding": null,
            "grid_auto_rows": null,
            "grid_gap": null,
            "max_width": null,
            "order": null,
            "_view_module_version": "1.2.0",
            "grid_template_areas": null,
            "object_position": null,
            "object_fit": null,
            "grid_auto_columns": null,
            "margin": null,
            "display": null,
            "left": null
          }
        },
        "4bcbe13ff1eb4b2db9a7f6cc74042556": {
          "model_module": "@jupyter-widgets/controls",
          "model_name": "FloatProgressModel",
          "state": {
            "_view_name": "ProgressView",
            "style": "IPY_MODEL_d6048d9693c243f39b20ca180889e09a",
            "_dom_classes": [],
            "description": "Downloading: 100%",
            "_model_name": "FloatProgressModel",
            "bar_style": "success",
            "max": 1078931,
            "_view_module": "@jupyter-widgets/controls",
            "_model_module_version": "1.5.0",
            "value": 1078931,
            "_view_count": null,
            "_view_module_version": "1.5.0",
            "orientation": "horizontal",
            "min": 0,
            "description_tooltip": null,
            "_model_module": "@jupyter-widgets/controls",
            "layout": "IPY_MODEL_942d455b2acc4b8cb8837d7d1c4e314b"
          }
        },
        "1b114b5ee74549f49bff95115cd7855f": {
          "model_module": "@jupyter-widgets/controls",
          "model_name": "HTMLModel",
          "state": {
            "_view_name": "HTMLView",
            "style": "IPY_MODEL_1c8202b3ae0e4dc3a8bd48ba615aa1b6",
            "_dom_classes": [],
            "description": "",
            "_model_name": "HTMLModel",
            "placeholder": "​",
            "_view_module": "@jupyter-widgets/controls",
            "_model_module_version": "1.5.0",
            "value": " 1.08M/1.08M [00:00&lt;00:00, 5.36MB/s]",
            "_view_count": null,
            "_view_module_version": "1.5.0",
            "description_tooltip": null,
            "_model_module": "@jupyter-widgets/controls",
            "layout": "IPY_MODEL_c736a33827a345fba5daad6b7d4384f3"
          }
        },
        "d6048d9693c243f39b20ca180889e09a": {
          "model_module": "@jupyter-widgets/controls",
          "model_name": "ProgressStyleModel",
          "state": {
            "_view_name": "StyleView",
            "_model_name": "ProgressStyleModel",
            "description_width": "initial",
            "_view_module": "@jupyter-widgets/base",
            "_model_module_version": "1.5.0",
            "_view_count": null,
            "_view_module_version": "1.2.0",
            "bar_color": null,
            "_model_module": "@jupyter-widgets/controls"
          }
        },
        "942d455b2acc4b8cb8837d7d1c4e314b": {
          "model_module": "@jupyter-widgets/base",
          "model_name": "LayoutModel",
          "state": {
            "_view_name": "LayoutView",
            "grid_template_rows": null,
            "right": null,
            "justify_content": null,
            "_view_module": "@jupyter-widgets/base",
            "overflow": null,
            "_model_module_version": "1.2.0",
            "_view_count": null,
            "flex_flow": null,
            "width": null,
            "min_width": null,
            "border": null,
            "align_items": null,
            "bottom": null,
            "_model_module": "@jupyter-widgets/base",
            "top": null,
            "grid_column": null,
            "overflow_y": null,
            "overflow_x": null,
            "grid_auto_flow": null,
            "grid_area": null,
            "grid_template_columns": null,
            "flex": null,
            "_model_name": "LayoutModel",
            "justify_items": null,
            "grid_row": null,
            "max_height": null,
            "align_content": null,
            "visibility": null,
            "align_self": null,
            "height": null,
            "min_height": null,
            "padding": null,
            "grid_auto_rows": null,
            "grid_gap": null,
            "max_width": null,
            "order": null,
            "_view_module_version": "1.2.0",
            "grid_template_areas": null,
            "object_position": null,
            "object_fit": null,
            "grid_auto_columns": null,
            "margin": null,
            "display": null,
            "left": null
          }
        },
        "1c8202b3ae0e4dc3a8bd48ba615aa1b6": {
          "model_module": "@jupyter-widgets/controls",
          "model_name": "DescriptionStyleModel",
          "state": {
            "_view_name": "StyleView",
            "_model_name": "DescriptionStyleModel",
            "description_width": "",
            "_view_module": "@jupyter-widgets/base",
            "_model_module_version": "1.5.0",
            "_view_count": null,
            "_view_module_version": "1.2.0",
            "_model_module": "@jupyter-widgets/controls"
          }
        },
        "c736a33827a345fba5daad6b7d4384f3": {
          "model_module": "@jupyter-widgets/base",
          "model_name": "LayoutModel",
          "state": {
            "_view_name": "LayoutView",
            "grid_template_rows": null,
            "right": null,
            "justify_content": null,
            "_view_module": "@jupyter-widgets/base",
            "overflow": null,
            "_model_module_version": "1.2.0",
            "_view_count": null,
            "flex_flow": null,
            "width": null,
            "min_width": null,
            "border": null,
            "align_items": null,
            "bottom": null,
            "_model_module": "@jupyter-widgets/base",
            "top": null,
            "grid_column": null,
            "overflow_y": null,
            "overflow_x": null,
            "grid_auto_flow": null,
            "grid_area": null,
            "grid_template_columns": null,
            "flex": null,
            "_model_name": "LayoutModel",
            "justify_items": null,
            "grid_row": null,
            "max_height": null,
            "align_content": null,
            "visibility": null,
            "align_self": null,
            "height": null,
            "min_height": null,
            "padding": null,
            "grid_auto_rows": null,
            "grid_gap": null,
            "max_width": null,
            "order": null,
            "_view_module_version": "1.2.0",
            "grid_template_areas": null,
            "object_position": null,
            "object_fit": null,
            "grid_auto_columns": null,
            "margin": null,
            "display": null,
            "left": null
          }
        }
      }
    },
    "accelerator": "GPU"
  },
  "cells": [
    {
      "cell_type": "markdown",
      "metadata": {
        "id": "35c9Rrg_fWQX"
      },
      "source": [
        "#Utilize GPU"
      ]
    },
    {
      "cell_type": "code",
      "metadata": {
        "id": "dentoWx_zkgr",
        "colab": {
          "base_uri": "https://localhost:8080/"
        },
        "outputId": "78bd3f6c-f56d-457f-ff01-da268dddd1fb"
      },
      "source": [
        "!nvidia-smi"
      ],
      "execution_count": null,
      "outputs": [
        {
          "output_type": "stream",
          "text": [
            "Sat Nov 28 16:25:05 2020       \n",
            "+-----------------------------------------------------------------------------+\n",
            "| NVIDIA-SMI 455.38       Driver Version: 418.67       CUDA Version: 10.1     |\n",
            "|-------------------------------+----------------------+----------------------+\n",
            "| GPU  Name        Persistence-M| Bus-Id        Disp.A | Volatile Uncorr. ECC |\n",
            "| Fan  Temp  Perf  Pwr:Usage/Cap|         Memory-Usage | GPU-Util  Compute M. |\n",
            "|                               |                      |               MIG M. |\n",
            "|===============================+======================+======================|\n",
            "|   0  Tesla T4            Off  | 00000000:00:04.0 Off |                    0 |\n",
            "| N/A   31C    P8     9W /  70W |      0MiB / 15079MiB |      0%      Default |\n",
            "|                               |                      |                 ERR! |\n",
            "+-------------------------------+----------------------+----------------------+\n",
            "                                                                               \n",
            "+-----------------------------------------------------------------------------+\n",
            "| Processes:                                                                  |\n",
            "|  GPU   GI   CI        PID   Type   Process name                  GPU Memory |\n",
            "|        ID   ID                                                   Usage      |\n",
            "|=============================================================================|\n",
            "|  No running processes found                                                 |\n",
            "+-----------------------------------------------------------------------------+\n"
          ],
          "name": "stdout"
        }
      ]
    },
    {
      "cell_type": "markdown",
      "metadata": {
        "id": "RB0hgycjEJgN"
      },
      "source": [
        "# Install packages"
      ]
    },
    {
      "cell_type": "code",
      "metadata": {
        "id": "Kj_7Tz0-pK69"
      },
      "source": [
        "!pip install -q -U watermark"
      ],
      "execution_count": null,
      "outputs": []
    },
    {
      "cell_type": "code",
      "metadata": {
        "id": "hHajb1gMwAGe",
        "colab": {
          "base_uri": "https://localhost:8080/"
        },
        "outputId": "bc35f385-f29e-41d2-d25f-d99e29316ef6"
      },
      "source": [
        "!pip install -qq transformers"
      ],
      "execution_count": null,
      "outputs": [
        {
          "output_type": "stream",
          "text": [
            "\u001b[K     |████████████████████████████████| 1.3MB 13.8MB/s \n",
            "\u001b[K     |████████████████████████████████| 890kB 52.1MB/s \n",
            "\u001b[K     |████████████████████████████████| 1.1MB 50.2MB/s \n",
            "\u001b[K     |████████████████████████████████| 2.9MB 52.5MB/s \n",
            "\u001b[?25h  Building wheel for sacremoses (setup.py) ... \u001b[?25l\u001b[?25hdone\n"
          ],
          "name": "stdout"
        }
      ]
    },
    {
      "cell_type": "code",
      "metadata": {
        "id": "bBVznDjY1Wra",
        "colab": {
          "base_uri": "https://localhost:8080/"
        },
        "outputId": "c6a753f2-f13a-4e3a-c2ce-e4ac7913dd39"
      },
      "source": [
        "%reload_ext watermark\n",
        "%watermark -v -p numpy,pandas,torch,transformers"
      ],
      "execution_count": null,
      "outputs": [
        {
          "output_type": "stream",
          "text": [
            "CPython 3.6.9\n",
            "IPython 5.5.0\n",
            "\n",
            "numpy 1.18.5\n",
            "pandas 1.1.4\n",
            "torch 1.7.0+cu101\n",
            "transformers 3.5.1\n"
          ],
          "name": "stdout"
        }
      ]
    },
    {
      "cell_type": "code",
      "metadata": {
        "id": "H8H_QFvvFeX_",
        "colab": {
          "base_uri": "https://localhost:8080/"
        },
        "outputId": "9301eef7-68d4-4629-f8a1-91df63427ce0"
      },
      "source": [
        "!git clone https://github.com/huggingface/transformers.git"
      ],
      "execution_count": null,
      "outputs": [
        {
          "output_type": "stream",
          "text": [
            "Cloning into 'transformers'...\n",
            "remote: Enumerating objects: 53732, done.\u001b[K\n",
            "remote: Total 53732 (delta 0), reused 0 (delta 0), pack-reused 53732\u001b[K\n",
            "Receiving objects: 100% (53732/53732), 40.23 MiB | 27.43 MiB/s, done.\n",
            "Resolving deltas: 100% (37486/37486), done.\n"
          ],
          "name": "stdout"
        }
      ]
    },
    {
      "cell_type": "code",
      "metadata": {
        "id": "68HDBB8XPLTH",
        "colab": {
          "base_uri": "https://localhost:8080/"
        },
        "outputId": "21b7f3c5-91a2-4d77-f1fc-f96894b0618f"
      },
      "source": [
        "%cd transformers"
      ],
      "execution_count": null,
      "outputs": [
        {
          "output_type": "stream",
          "text": [
            "/content/transformers\n"
          ],
          "name": "stdout"
        }
      ]
    },
    {
      "cell_type": "code",
      "metadata": {
        "id": "P-sa_tI8PPLm"
      },
      "source": [
        "#!pip3 install --upgrade ."
      ],
      "execution_count": null,
      "outputs": []
    },
    {
      "cell_type": "code",
      "metadata": {
        "id": "u_qq2Y5hPcXn",
        "colab": {
          "base_uri": "https://localhost:8080/"
        },
        "outputId": "05ee4593-9e38-41e2-836c-f143463e047d"
      },
      "source": [
        "!pip3 install emoji"
      ],
      "execution_count": null,
      "outputs": [
        {
          "output_type": "stream",
          "text": [
            "Collecting emoji\n",
            "\u001b[?25l  Downloading https://files.pythonhosted.org/packages/ff/1c/1f1457fe52d0b30cbeebfd578483cedb3e3619108d2d5a21380dfecf8ffd/emoji-0.6.0.tar.gz (51kB)\n",
            "\r\u001b[K     |██████▍                         | 10kB 26.4MB/s eta 0:00:01\r\u001b[K     |████████████▉                   | 20kB 16.8MB/s eta 0:00:01\r\u001b[K     |███████████████████▎            | 30kB 14.7MB/s eta 0:00:01\r\u001b[K     |█████████████████████████▊      | 40kB 14.1MB/s eta 0:00:01\r\u001b[K     |████████████████████████████████| 51kB 5.7MB/s \n",
            "\u001b[?25hBuilding wheels for collected packages: emoji\n",
            "  Building wheel for emoji (setup.py) ... \u001b[?25l\u001b[?25hdone\n",
            "  Created wheel for emoji: filename=emoji-0.6.0-cp36-none-any.whl size=49716 sha256=152c6f25482fa6f3e8d93597d4bef4e39e8ce188a88a0b2ed5667f571e5bd34f\n",
            "  Stored in directory: /root/.cache/pip/wheels/46/2c/8b/9dcf5216ca68e14e0320e283692dce8ae321cdc01e73e17796\n",
            "Successfully built emoji\n",
            "Installing collected packages: emoji\n",
            "Successfully installed emoji-0.6.0\n"
          ],
          "name": "stdout"
        }
      ]
    },
    {
      "cell_type": "code",
      "metadata": {
        "id": "3t91QGR4eXI8",
        "colab": {
          "base_uri": "https://localhost:8080/"
        },
        "outputId": "c6fc1e55-bb32-4145-844a-7b7ca0425f1c"
      },
      "source": [
        "!pip install tweet-preprocessor"
      ],
      "execution_count": null,
      "outputs": [
        {
          "output_type": "stream",
          "text": [
            "Collecting tweet-preprocessor\n",
            "  Downloading https://files.pythonhosted.org/packages/17/9d/71bd016a9edcef8860c607e531f30bd09b13103c7951ae73dd2bf174163c/tweet_preprocessor-0.6.0-py3-none-any.whl\n",
            "Installing collected packages: tweet-preprocessor\n",
            "Successfully installed tweet-preprocessor-0.6.0\n"
          ],
          "name": "stdout"
        }
      ]
    },
    {
      "cell_type": "markdown",
      "metadata": {
        "id": "AIbvny_8EQH6"
      },
      "source": [
        "# Import libraries"
      ]
    },
    {
      "cell_type": "code",
      "metadata": {
        "id": "jYBmzjY5QE4z"
      },
      "source": [
        "import preprocessor as p\n",
        "import pandas as pd\n",
        "import numpy as np\n",
        "from datetime import datetime\n",
        "import json\n",
        "import os\n",
        "import pprint\n",
        "import random\n",
        "import string\n",
        "import sys\n",
        "import tensorflow as tf\n",
        "import torch\n",
        "from torch.utils.data import Dataset, DataLoader\n",
        "from torch import nn, optim\n",
        "from transformers import BertModel, BertTokenizer, AdamW, get_linear_schedule_with_warmup\n",
        "from collections import defaultdict"
      ],
      "execution_count": null,
      "outputs": []
    },
    {
      "cell_type": "code",
      "metadata": {
        "id": "gUuZAGC3Mgpv"
      },
      "source": [
        "import seaborn as sns\n",
        "import matplotlib.pyplot as plt\n",
        "from sklearn.metrics import confusion_matrix, precision_recall_fscore_support"
      ],
      "execution_count": null,
      "outputs": []
    },
    {
      "cell_type": "markdown",
      "metadata": {
        "id": "521zyCa1EX3j"
      },
      "source": [
        "# Read and Preprocess Golden Set"
      ]
    },
    {
      "cell_type": "code",
      "metadata": {
        "id": "YrRYlTU1QS_f"
      },
      "source": [
        "df_train = pd.read_csv(\"/content/task2_en_training.tsv\",sep='\\t')"
      ],
      "execution_count": null,
      "outputs": []
    },
    {
      "cell_type": "code",
      "metadata": {
        "id": "-uPfWghAcg41",
        "colab": {
          "base_uri": "https://localhost:8080/",
          "height": 271
        },
        "outputId": "d0bf27e4-76a2-4099-c7df-d5cb52d02e8a"
      },
      "source": [
        "clean_text = []\n",
        "for text in df_train['tweet']:\n",
        "  clean_text.append(p.clean(text))\n",
        "df_train['clean_tweet'] = clean_text\n",
        "df_train.head()"
      ],
      "execution_count": null,
      "outputs": [
        {
          "output_type": "execute_result",
          "data": {
            "text/html": [
              "<div>\n",
              "<style scoped>\n",
              "    .dataframe tbody tr th:only-of-type {\n",
              "        vertical-align: middle;\n",
              "    }\n",
              "\n",
              "    .dataframe tbody tr th {\n",
              "        vertical-align: top;\n",
              "    }\n",
              "\n",
              "    .dataframe thead th {\n",
              "        text-align: right;\n",
              "    }\n",
              "</style>\n",
              "<table border=\"1\" class=\"dataframe\">\n",
              "  <thead>\n",
              "    <tr style=\"text-align: right;\">\n",
              "      <th></th>\n",
              "      <th>tweet_id</th>\n",
              "      <th>user_id</th>\n",
              "      <th>class</th>\n",
              "      <th>tweet</th>\n",
              "      <th>clean_tweet</th>\n",
              "    </tr>\n",
              "  </thead>\n",
              "  <tbody>\n",
              "    <tr>\n",
              "      <th>0</th>\n",
              "      <td>344266386467606528</td>\n",
              "      <td>809439366</td>\n",
              "      <td>0</td>\n",
              "      <td>depression hurts, cymbalta can help</td>\n",
              "      <td>depression hurts, cymbalta can help</td>\n",
              "    </tr>\n",
              "    <tr>\n",
              "      <th>1</th>\n",
              "      <td>349220537903489025</td>\n",
              "      <td>323112996</td>\n",
              "      <td>0</td>\n",
              "      <td>@jessicama20045 right, but cipro can make thin...</td>\n",
              "      <td>right, but cipro can make things much worse......</td>\n",
              "    </tr>\n",
              "    <tr>\n",
              "      <th>2</th>\n",
              "      <td>351421773079781378</td>\n",
              "      <td>713100330</td>\n",
              "      <td>0</td>\n",
              "      <td>@fibby1123 are you on paxil .. i need help</td>\n",
              "      <td>are you on paxil .. i need help</td>\n",
              "    </tr>\n",
              "    <tr>\n",
              "      <th>3</th>\n",
              "      <td>326594278472171520</td>\n",
              "      <td>543113070</td>\n",
              "      <td>0</td>\n",
              "      <td>@redicine the lamotrigine and sjs just made ch...</td>\n",
              "      <td>the lamotrigine and sjs just made chaos more v...</td>\n",
              "    </tr>\n",
              "    <tr>\n",
              "      <th>4</th>\n",
              "      <td>345567138376994816</td>\n",
              "      <td>138795534</td>\n",
              "      <td>0</td>\n",
              "      <td>have decided to skip my #humira shot today. my...</td>\n",
              "      <td>have decided to skip my shot today. my body's ...</td>\n",
              "    </tr>\n",
              "  </tbody>\n",
              "</table>\n",
              "</div>"
            ],
            "text/plain": [
              "             tweet_id  ...                                        clean_tweet\n",
              "0  344266386467606528  ...                depression hurts, cymbalta can help\n",
              "1  349220537903489025  ...  right, but cipro can make things much worse......\n",
              "2  351421773079781378  ...                    are you on paxil .. i need help\n",
              "3  326594278472171520  ...  the lamotrigine and sjs just made chaos more v...\n",
              "4  345567138376994816  ...  have decided to skip my shot today. my body's ...\n",
              "\n",
              "[5 rows x 5 columns]"
            ]
          },
          "metadata": {
            "tags": []
          },
          "execution_count": 13
        }
      ]
    },
    {
      "cell_type": "code",
      "metadata": {
        "id": "3MpJsEmHcatd",
        "colab": {
          "base_uri": "https://localhost:8080/"
        },
        "outputId": "e9ba0938-f2a7-42e6-a37f-02dc2cfaa22f"
      },
      "source": [
        "df_train.shape"
      ],
      "execution_count": null,
      "outputs": [
        {
          "output_type": "execute_result",
          "data": {
            "text/plain": [
              "(20544, 5)"
            ]
          },
          "metadata": {
            "tags": []
          },
          "execution_count": 14
        }
      ]
    },
    {
      "cell_type": "code",
      "metadata": {
        "id": "TIqRN9YxOACB"
      },
      "source": [
        "df_test = pd.read_csv(\"/content/task2_en_test_participant.tsv\",sep='\\t')"
      ],
      "execution_count": null,
      "outputs": []
    },
    {
      "cell_type": "code",
      "metadata": {
        "id": "fivbXDYNTAt8"
      },
      "source": [
        "df_test['class'] = [0]*(df_test.shape[0])"
      ],
      "execution_count": null,
      "outputs": []
    },
    {
      "cell_type": "code",
      "metadata": {
        "id": "EVm-oLMkOHv5",
        "colab": {
          "base_uri": "https://localhost:8080/",
          "height": 289
        },
        "outputId": "850d6447-5dc4-4c7a-9966-9f04aa405ab4"
      },
      "source": [
        "clean_text = []\n",
        "for text in df_test['tweet']:\n",
        "  clean_text.append(p.clean(text))\n",
        "df_test['clean_tweet'] = clean_text\n",
        "df_test.head()"
      ],
      "execution_count": null,
      "outputs": [
        {
          "output_type": "execute_result",
          "data": {
            "text/html": [
              "<div>\n",
              "<style scoped>\n",
              "    .dataframe tbody tr th:only-of-type {\n",
              "        vertical-align: middle;\n",
              "    }\n",
              "\n",
              "    .dataframe tbody tr th {\n",
              "        vertical-align: top;\n",
              "    }\n",
              "\n",
              "    .dataframe thead th {\n",
              "        text-align: right;\n",
              "    }\n",
              "</style>\n",
              "<table border=\"1\" class=\"dataframe\">\n",
              "  <thead>\n",
              "    <tr style=\"text-align: right;\">\n",
              "      <th></th>\n",
              "      <th>tweet_id</th>\n",
              "      <th>user_id</th>\n",
              "      <th>tweet</th>\n",
              "      <th>created_at</th>\n",
              "      <th>class</th>\n",
              "      <th>clean_tweet</th>\n",
              "    </tr>\n",
              "  </thead>\n",
              "  <tbody>\n",
              "    <tr>\n",
              "      <th>0</th>\n",
              "      <td>1000015678282371073</td>\n",
              "      <td>1093421588</td>\n",
              "      <td>@humanponcho @LexG_III I've been taking citalo...</td>\n",
              "      <td>2018-05-25 14:08:11</td>\n",
              "      <td>0</td>\n",
              "      <td>I've been taking citalopram in the morning and...</td>\n",
              "    </tr>\n",
              "    <tr>\n",
              "      <th>1</th>\n",
              "      <td>1000092563037138950</td>\n",
              "      <td>276456688</td>\n",
              "      <td>TERMOTANQUE DE SALBUTAMOL!</td>\n",
              "      <td>2018-05-25 19:13:42</td>\n",
              "      <td>0</td>\n",
              "      <td>TERMOTANQUE DE SALBUTAMOL!</td>\n",
              "    </tr>\n",
              "    <tr>\n",
              "      <th>2</th>\n",
              "      <td>1000111775449219073</td>\n",
              "      <td>5967072</td>\n",
              "      <td>Similar to Morphine: The Best Natural Painkill...</td>\n",
              "      <td>2018-05-25 20:30:03</td>\n",
              "      <td>0</td>\n",
              "      <td>Similar to Morphine: The Best Natural Painkill...</td>\n",
              "    </tr>\n",
              "    <tr>\n",
              "      <th>3</th>\n",
              "      <td>1000142070399619073</td>\n",
              "      <td>1094044202</td>\n",
              "      <td>How to pronounce conjugated estrogens (#Premar...</td>\n",
              "      <td>2018-05-25 22:30:25</td>\n",
              "      <td>0</td>\n",
              "      <td>How to pronounce conjugated estrogens () (Memo...</td>\n",
              "    </tr>\n",
              "    <tr>\n",
              "      <th>4</th>\n",
              "      <td>1000286323134083073</td>\n",
              "      <td>607970123</td>\n",
              "      <td>I know of guys in my area that take over 2 sac...</td>\n",
              "      <td>2018-05-26 08:03:38</td>\n",
              "      <td>0</td>\n",
              "      <td>I know of guys in my area that take over sache...</td>\n",
              "    </tr>\n",
              "  </tbody>\n",
              "</table>\n",
              "</div>"
            ],
            "text/plain": [
              "              tweet_id  ...                                        clean_tweet\n",
              "0  1000015678282371073  ...  I've been taking citalopram in the morning and...\n",
              "1  1000092563037138950  ...                         TERMOTANQUE DE SALBUTAMOL!\n",
              "2  1000111775449219073  ...  Similar to Morphine: The Best Natural Painkill...\n",
              "3  1000142070399619073  ...  How to pronounce conjugated estrogens () (Memo...\n",
              "4  1000286323134083073  ...  I know of guys in my area that take over sache...\n",
              "\n",
              "[5 rows x 6 columns]"
            ]
          },
          "metadata": {
            "tags": []
          },
          "execution_count": 17
        }
      ]
    },
    {
      "cell_type": "code",
      "metadata": {
        "id": "ymH40sQc2Quz"
      },
      "source": [
        "from sklearn.model_selection import train_test_split\n",
        "\n",
        "train, dev = train_test_split(df_train, test_size=0.2)"
      ],
      "execution_count": null,
      "outputs": []
    },
    {
      "cell_type": "code",
      "metadata": {
        "id": "fwk1tFk8QmFj",
        "colab": {
          "base_uri": "https://localhost:8080/"
        },
        "outputId": "78ca2db6-13bb-4f1a-cd17-84fad2cca164"
      },
      "source": [
        "train.shape"
      ],
      "execution_count": null,
      "outputs": [
        {
          "output_type": "execute_result",
          "data": {
            "text/plain": [
              "(16435, 5)"
            ]
          },
          "metadata": {
            "tags": []
          },
          "execution_count": 19
        }
      ]
    },
    {
      "cell_type": "code",
      "metadata": {
        "id": "v7t3MV1wcj9Q",
        "colab": {
          "base_uri": "https://localhost:8080/"
        },
        "outputId": "8ffc6619-1427-45f8-c71c-4099b359eb6b"
      },
      "source": [
        "dev.shape"
      ],
      "execution_count": null,
      "outputs": [
        {
          "output_type": "execute_result",
          "data": {
            "text/plain": [
              "(4109, 5)"
            ]
          },
          "metadata": {
            "tags": []
          },
          "execution_count": 20
        }
      ]
    },
    {
      "cell_type": "markdown",
      "metadata": {
        "id": "6HyVDLdjEnRb"
      },
      "source": [
        "# Read and Label Silver Set"
      ]
    },
    {
      "cell_type": "code",
      "metadata": {
        "id": "rk3Q9R9M9Hfx"
      },
      "source": [
        "add_df = pd.read_csv('/content/reddit_with_sentiment.csv', sep=',', lineterminator='\\r', index_col=0)"
      ],
      "execution_count": null,
      "outputs": []
    },
    {
      "cell_type": "code",
      "metadata": {
        "colab": {
          "base_uri": "https://localhost:8080/",
          "height": 202
        },
        "id": "8H5MG5Vj9PPH",
        "outputId": "47fa4415-d94c-4d05-d4de-2cb95ea6c592"
      },
      "source": [
        "add_df.head()"
      ],
      "execution_count": null,
      "outputs": [
        {
          "output_type": "execute_result",
          "data": {
            "text/html": [
              "<div>\n",
              "<style scoped>\n",
              "    .dataframe tbody tr th:only-of-type {\n",
              "        vertical-align: middle;\n",
              "    }\n",
              "\n",
              "    .dataframe tbody tr th {\n",
              "        vertical-align: top;\n",
              "    }\n",
              "\n",
              "    .dataframe thead th {\n",
              "        text-align: right;\n",
              "    }\n",
              "</style>\n",
              "<table border=\"1\" class=\"dataframe\">\n",
              "  <thead>\n",
              "    <tr style=\"text-align: right;\">\n",
              "      <th></th>\n",
              "      <th>body</th>\n",
              "      <th>sentiment</th>\n",
              "    </tr>\n",
              "  </thead>\n",
              "  <tbody>\n",
              "    <tr>\n",
              "      <th>0</th>\n",
              "      <td>People who have been *legally* declared [menta...</td>\n",
              "      <td>0.605967</td>\n",
              "    </tr>\n",
              "    <tr>\n",
              "      <th>1</th>\n",
              "      <td>&amp;gt; why only 17% of energy is nuclear\\n\\nand ...</td>\n",
              "      <td>0.699032</td>\n",
              "    </tr>\n",
              "    <tr>\n",
              "      <th>2</th>\n",
              "      <td>Fucking gabapentin. I went to pain management ...</td>\n",
              "      <td>0.061821</td>\n",
              "    </tr>\n",
              "    <tr>\n",
              "      <th>3</th>\n",
              "      <td>so that means SC men would just get it illegal...</td>\n",
              "      <td>0.785086</td>\n",
              "    </tr>\n",
              "    <tr>\n",
              "      <th>4</th>\n",
              "      <td>Tell her to take pills or morning after pills....</td>\n",
              "      <td>0.597251</td>\n",
              "    </tr>\n",
              "  </tbody>\n",
              "</table>\n",
              "</div>"
            ],
            "text/plain": [
              "                                                body  sentiment\n",
              "0  People who have been *legally* declared [menta...   0.605967\n",
              "1  &gt; why only 17% of energy is nuclear\\n\\nand ...   0.699032\n",
              "2  Fucking gabapentin. I went to pain management ...   0.061821\n",
              "3  so that means SC men would just get it illegal...   0.785086\n",
              "4  Tell her to take pills or morning after pills....   0.597251"
            ]
          },
          "metadata": {
            "tags": []
          },
          "execution_count": 22
        }
      ]
    },
    {
      "cell_type": "code",
      "metadata": {
        "colab": {
          "base_uri": "https://localhost:8080/"
        },
        "id": "65Csp4xeQlzH",
        "outputId": "7bbaa0ce-6fe5-43fc-bed9-f9af2c872c98"
      },
      "source": [
        "add_df.shape"
      ],
      "execution_count": null,
      "outputs": [
        {
          "output_type": "execute_result",
          "data": {
            "text/plain": [
              "(402291, 2)"
            ]
          },
          "metadata": {
            "tags": []
          },
          "execution_count": 23
        }
      ]
    },
    {
      "cell_type": "code",
      "metadata": {
        "id": "mbh4t3tI4PNG"
      },
      "source": [
        "add_df['clean_tweet'] = add_df['body']"
      ],
      "execution_count": null,
      "outputs": []
    },
    {
      "cell_type": "code",
      "metadata": {
        "colab": {
          "base_uri": "https://localhost:8080/"
        },
        "id": "nPLOUzClR55i",
        "outputId": "66cb6477-6fe7-4790-bceb-41256bd9308a"
      },
      "source": [
        "add_df['sentiment'].quantile(0.1)"
      ],
      "execution_count": null,
      "outputs": [
        {
          "output_type": "execute_result",
          "data": {
            "text/plain": [
              "0.15281373"
            ]
          },
          "metadata": {
            "tags": []
          },
          "execution_count": 25
        }
      ]
    },
    {
      "cell_type": "code",
      "metadata": {
        "id": "kI5Oct5n4Ttu"
      },
      "source": [
        "label = []\n",
        "for index, row in add_df.iterrows():\n",
        "  if row['sentiment'] >= 0.5:\n",
        "    label.append(int(1))\n",
        "  else:\n",
        "    label.append(int(0))"
      ],
      "execution_count": null,
      "outputs": []
    },
    {
      "cell_type": "code",
      "metadata": {
        "id": "WZUnfwLL4krc"
      },
      "source": [
        "add_df['class'] = label"
      ],
      "execution_count": null,
      "outputs": []
    },
    {
      "cell_type": "code",
      "metadata": {
        "colab": {
          "base_uri": "https://localhost:8080/",
          "height": 202
        },
        "id": "ZISdR08W4nTK",
        "outputId": "f40129b5-779f-4469-fffe-573b3820dc84"
      },
      "source": [
        "add_df.head()"
      ],
      "execution_count": null,
      "outputs": [
        {
          "output_type": "execute_result",
          "data": {
            "text/html": [
              "<div>\n",
              "<style scoped>\n",
              "    .dataframe tbody tr th:only-of-type {\n",
              "        vertical-align: middle;\n",
              "    }\n",
              "\n",
              "    .dataframe tbody tr th {\n",
              "        vertical-align: top;\n",
              "    }\n",
              "\n",
              "    .dataframe thead th {\n",
              "        text-align: right;\n",
              "    }\n",
              "</style>\n",
              "<table border=\"1\" class=\"dataframe\">\n",
              "  <thead>\n",
              "    <tr style=\"text-align: right;\">\n",
              "      <th></th>\n",
              "      <th>body</th>\n",
              "      <th>sentiment</th>\n",
              "      <th>clean_tweet</th>\n",
              "      <th>class</th>\n",
              "    </tr>\n",
              "  </thead>\n",
              "  <tbody>\n",
              "    <tr>\n",
              "      <th>0</th>\n",
              "      <td>People who have been *legally* declared [menta...</td>\n",
              "      <td>0.605967</td>\n",
              "      <td>People who have been *legally* declared [menta...</td>\n",
              "      <td>1</td>\n",
              "    </tr>\n",
              "    <tr>\n",
              "      <th>1</th>\n",
              "      <td>&amp;gt; why only 17% of energy is nuclear\\n\\nand ...</td>\n",
              "      <td>0.699032</td>\n",
              "      <td>&amp;gt; why only 17% of energy is nuclear\\n\\nand ...</td>\n",
              "      <td>1</td>\n",
              "    </tr>\n",
              "    <tr>\n",
              "      <th>2</th>\n",
              "      <td>Fucking gabapentin. I went to pain management ...</td>\n",
              "      <td>0.061821</td>\n",
              "      <td>Fucking gabapentin. I went to pain management ...</td>\n",
              "      <td>0</td>\n",
              "    </tr>\n",
              "    <tr>\n",
              "      <th>3</th>\n",
              "      <td>so that means SC men would just get it illegal...</td>\n",
              "      <td>0.785086</td>\n",
              "      <td>so that means SC men would just get it illegal...</td>\n",
              "      <td>1</td>\n",
              "    </tr>\n",
              "    <tr>\n",
              "      <th>4</th>\n",
              "      <td>Tell her to take pills or morning after pills....</td>\n",
              "      <td>0.597251</td>\n",
              "      <td>Tell her to take pills or morning after pills....</td>\n",
              "      <td>1</td>\n",
              "    </tr>\n",
              "  </tbody>\n",
              "</table>\n",
              "</div>"
            ],
            "text/plain": [
              "                                                body  ...  class\n",
              "0  People who have been *legally* declared [menta...  ...      1\n",
              "1  &gt; why only 17% of energy is nuclear\\n\\nand ...  ...      1\n",
              "2  Fucking gabapentin. I went to pain management ...  ...      0\n",
              "3  so that means SC men would just get it illegal...  ...      1\n",
              "4  Tell her to take pills or morning after pills....  ...      1\n",
              "\n",
              "[5 rows x 4 columns]"
            ]
          },
          "metadata": {
            "tags": []
          },
          "execution_count": 28
        }
      ]
    },
    {
      "cell_type": "code",
      "metadata": {
        "colab": {
          "base_uri": "https://localhost:8080/"
        },
        "id": "p9svrwLD4pd8",
        "outputId": "d661bcf3-b2cf-48f0-f351-1a90a6a33b02"
      },
      "source": [
        "add_df.shape"
      ],
      "execution_count": null,
      "outputs": [
        {
          "output_type": "execute_result",
          "data": {
            "text/plain": [
              "(402291, 4)"
            ]
          },
          "metadata": {
            "tags": []
          },
          "execution_count": 29
        }
      ]
    },
    {
      "cell_type": "code",
      "metadata": {
        "id": "9EFRw9UM4yOE"
      },
      "source": [
        "silver_train, silver_dev = train_test_split(add_df, test_size=0.1)"
      ],
      "execution_count": null,
      "outputs": []
    },
    {
      "cell_type": "markdown",
      "metadata": {
        "id": "EdIyz8ufEwlB"
      },
      "source": [
        "# Load BERTweet and Tokenizer"
      ]
    },
    {
      "cell_type": "code",
      "metadata": {
        "id": "bw5v6Cd7Q7PQ"
      },
      "source": [
        "import torch\n",
        "from transformers import AutoModel, AutoTokenizer "
      ],
      "execution_count": null,
      "outputs": []
    },
    {
      "cell_type": "code",
      "metadata": {
        "id": "xUG9mLQWz814",
        "colab": {
          "base_uri": "https://localhost:8080/",
          "height": 116,
          "referenced_widgets": [
            "3b2d283608774021b1984e2315f51061",
            "69d5635d0ca24afd90cc4411df6b7329",
            "d4ed518fa2f64a06af492e760a7ea8e2",
            "53de398af0ac4ca8880c780085576705",
            "de10e23f2c204c4c8cbd80dc7b98a2bd",
            "dc9bb6cb2ed547418722699820a272e8",
            "da39899a3400452788e5c641c12fa757",
            "5919e48422fb41548b9830eacff2397d",
            "43503e6bea18477c8472bbfeaec54a42",
            "8099680817dd4d3bb5566de0db296045",
            "3c08bc780ef245f78a5bc1046ebe222d",
            "8392d50c33cb47959545e7292d3779b5",
            "f4867b729c51478b90212bba92aafc2d",
            "e7f383826dec40cd971c62d984b5e17f",
            "0c6174c288a944829cc40c666d63740d",
            "02068ba879f048b59c7094382d650365"
          ]
        },
        "outputId": "0ca50e92-2cad-4856-fe14-548f47bcda2b"
      },
      "source": [
        " bertweet = AutoModel.from_pretrained(\"vinai/bertweet-base\") #bertweet = BertModel.from_pretrained('bert-base-uncased') #"
      ],
      "execution_count": null,
      "outputs": [
        {
          "output_type": "display_data",
          "data": {
            "application/vnd.jupyter.widget-view+json": {
              "model_id": "3b2d283608774021b1984e2315f51061",
              "version_minor": 0,
              "version_major": 2
            },
            "text/plain": [
              "HBox(children=(FloatProgress(value=0.0, description='Downloading', max=558.0, style=ProgressStyle(description_…"
            ]
          },
          "metadata": {
            "tags": []
          }
        },
        {
          "output_type": "stream",
          "text": [
            "\n"
          ],
          "name": "stdout"
        },
        {
          "output_type": "display_data",
          "data": {
            "application/vnd.jupyter.widget-view+json": {
              "model_id": "43503e6bea18477c8472bbfeaec54a42",
              "version_minor": 0,
              "version_major": 2
            },
            "text/plain": [
              "HBox(children=(FloatProgress(value=0.0, description='Downloading', max=542529064.0, style=ProgressStyle(descri…"
            ]
          },
          "metadata": {
            "tags": []
          }
        },
        {
          "output_type": "stream",
          "text": [
            "\n"
          ],
          "name": "stdout"
        }
      ]
    },
    {
      "cell_type": "code",
      "metadata": {
        "id": "M1pP5e8vQ9W3",
        "colab": {
          "base_uri": "https://localhost:8080/",
          "height": 153,
          "referenced_widgets": [
            "a4ea52a598fa44b3b28406887036f45a",
            "959edd09989f42e89ca5817a386a331b",
            "d216746040db4ac0a6417d3684a8eade",
            "9e6beb3cf53c4a4db18880554fd6ef57",
            "fd791953a27e4c31b15125abccc15cc5",
            "7ebefe10574545c79b0fe5076e75a71a",
            "3b8efa6607d8479fbaccf4dce9237463",
            "063e163a6527425ca9b1d69d2db67e34",
            "2489c34fbf5045c4b90c1b33bf158698",
            "02f450b318134f9593cc46e964e1e0d4",
            "4bcbe13ff1eb4b2db9a7f6cc74042556",
            "1b114b5ee74549f49bff95115cd7855f",
            "d6048d9693c243f39b20ca180889e09a",
            "942d455b2acc4b8cb8837d7d1c4e314b",
            "1c8202b3ae0e4dc3a8bd48ba615aa1b6",
            "c736a33827a345fba5daad6b7d4384f3"
          ]
        },
        "outputId": "eca2882f-f1fc-49b5-94ee-c6a69d8c11c2"
      },
      "source": [
        "tokenizer = AutoTokenizer.from_pretrained(\"vinai/bertweet-base\") #tokenizer = BertTokenizer.from_pretrained('bert-base-uncased') #"
      ],
      "execution_count": null,
      "outputs": [
        {
          "output_type": "display_data",
          "data": {
            "application/vnd.jupyter.widget-view+json": {
              "model_id": "a4ea52a598fa44b3b28406887036f45a",
              "version_minor": 0,
              "version_major": 2
            },
            "text/plain": [
              "HBox(children=(FloatProgress(value=0.0, description='Downloading', max=843438.0, style=ProgressStyle(descripti…"
            ]
          },
          "metadata": {
            "tags": []
          }
        },
        {
          "output_type": "stream",
          "text": [
            "\n"
          ],
          "name": "stdout"
        },
        {
          "output_type": "display_data",
          "data": {
            "application/vnd.jupyter.widget-view+json": {
              "model_id": "2489c34fbf5045c4b90c1b33bf158698",
              "version_minor": 0,
              "version_major": 2
            },
            "text/plain": [
              "HBox(children=(FloatProgress(value=0.0, description='Downloading', max=1078931.0, style=ProgressStyle(descript…"
            ]
          },
          "metadata": {
            "tags": []
          }
        },
        {
          "output_type": "stream",
          "text": [
            "Special tokens have been added in the vocabulary, make sure the associated word embedding are fine-tuned or trained.\n"
          ],
          "name": "stderr"
        },
        {
          "output_type": "stream",
          "text": [
            "\n"
          ],
          "name": "stdout"
        }
      ]
    },
    {
      "cell_type": "markdown",
      "metadata": {
        "id": "Y1JiugSRE6xv"
      },
      "source": [
        "# Create Data Loader for Model Feeding"
      ]
    },
    {
      "cell_type": "code",
      "metadata": {
        "id": "K1hjkX1iUFFD"
      },
      "source": [
        "class ADR_dataset(Dataset):\n",
        "\n",
        "  def __init__(self, tweets, classes, tokenizer, max_len):\n",
        "    self.tweets = tweets\n",
        "    self.classes = classes\n",
        "    self.tokenizer = tokenizer\n",
        "    self.max_len = max_len\n",
        "  \n",
        "  def __len__(self):\n",
        "    return len(self.tweets)\n",
        "  \n",
        "  def __getitem__(self, item):\n",
        "    tweet = str(self.tweets[item])\n",
        "    class_ = self.classes[item]\n",
        "\n",
        "    encoding = self.tokenizer.encode_plus(\n",
        "      tweet,\n",
        "      add_special_tokens=True,\n",
        "      max_length = self.max_len,\n",
        "      truncation=True,\n",
        "      return_token_type_ids=False,\n",
        "      padding='max_length',\n",
        "      return_attention_mask=True,\n",
        "      return_tensors='pt',\n",
        "    )\n",
        "\n",
        "    return {\n",
        "      'tweets': tweet,\n",
        "      'input_ids': encoding['input_ids'].flatten(),\n",
        "      'attention_mask': encoding['attention_mask'].flatten(),\n",
        "      'classes': torch.tensor(class_, dtype=torch.long)\n",
        "    }"
      ],
      "execution_count": null,
      "outputs": []
    },
    {
      "cell_type": "code",
      "metadata": {
        "id": "c0t4ZO87YrF_"
      },
      "source": [
        "def create_data_loader(df, tokenizer, max_len, batch_size):\n",
        "  ds = ADR_dataset(\n",
        "    tweets=df['clean_tweet'].to_numpy(),\n",
        "    classes=df['class'].to_numpy(),\n",
        "    tokenizer=tokenizer,\n",
        "    max_len=max_len\n",
        "  )\n",
        "\n",
        "  return DataLoader(\n",
        "    ds,\n",
        "    batch_size=batch_size,\n",
        "    num_workers=4\n",
        "  )"
      ],
      "execution_count": null,
      "outputs": []
    },
    {
      "cell_type": "code",
      "metadata": {
        "id": "LxAXwuJEAIvi"
      },
      "source": [
        "silver_train_loader = create_data_loader(silver_train, tokenizer, 128, 32)\n",
        "silver_dev_loader = create_data_loader(silver_dev, tokenizer, 128, 32)"
      ],
      "execution_count": null,
      "outputs": []
    },
    {
      "cell_type": "code",
      "metadata": {
        "colab": {
          "base_uri": "https://localhost:8080/"
        },
        "id": "_UoyKVOSBFRr",
        "outputId": "1a9e8150-faed-4bf1-d260-2be61c7611dc"
      },
      "source": [
        "data = next(iter(silver_train_loader))\n",
        "data.keys()"
      ],
      "execution_count": null,
      "outputs": [
        {
          "output_type": "execute_result",
          "data": {
            "text/plain": [
              "dict_keys(['tweets', 'input_ids', 'attention_mask', 'classes'])"
            ]
          },
          "metadata": {
            "tags": []
          },
          "execution_count": 37
        }
      ]
    },
    {
      "cell_type": "code",
      "metadata": {
        "colab": {
          "base_uri": "https://localhost:8080/"
        },
        "id": "BxOWRXmBBPt8",
        "outputId": "5edfe985-41e5-46fa-bb7d-9f1d4c05a6d9"
      },
      "source": [
        "print(data['input_ids'].shape)\n",
        "print(data['attention_mask'].shape)\n",
        "print(data['classes'].shape)"
      ],
      "execution_count": null,
      "outputs": [
        {
          "output_type": "stream",
          "text": [
            "torch.Size([32, 128])\n",
            "torch.Size([32, 128])\n",
            "torch.Size([32])\n"
          ],
          "name": "stdout"
        }
      ]
    },
    {
      "cell_type": "code",
      "metadata": {
        "id": "NJ6MhJYYBCwu"
      },
      "source": [
        "device = torch.device(\"cuda:0\" if torch.cuda.is_available() else \"cpu\")"
      ],
      "execution_count": null,
      "outputs": []
    },
    {
      "cell_type": "markdown",
      "metadata": {
        "id": "NYOSNLe8FL9I"
      },
      "source": [
        "# Create the Binary Classification Model"
      ]
    },
    {
      "cell_type": "code",
      "metadata": {
        "id": "2DJuDcAfimfD"
      },
      "source": [
        "class ADR_Classifier(nn.Module):\n",
        "\n",
        "  def __init__(self, n_classes):\n",
        "    super(ADR_Classifier, self).__init__()\n",
        "    self.bert = bertweet\n",
        "    self.drop = nn.Dropout(p=0.3)\n",
        "    self.out = nn.Linear(self.bert.config.hidden_size, n_classes)\n",
        "  \n",
        "  def forward(self, input_ids, attention_mask):\n",
        "    _, pooled_output = self.bert(\n",
        "      input_ids=input_ids,\n",
        "      attention_mask=attention_mask\n",
        "    )\n",
        "    output = self.drop(pooled_output)\n",
        "    return self.out(output)"
      ],
      "execution_count": null,
      "outputs": []
    },
    {
      "cell_type": "code",
      "metadata": {
        "id": "fTIsej8zjkFs"
      },
      "source": [
        "model = ADR_Classifier(2)\n",
        "model = model.to(device)"
      ],
      "execution_count": null,
      "outputs": []
    },
    {
      "cell_type": "code",
      "metadata": {
        "colab": {
          "base_uri": "https://localhost:8080/"
        },
        "id": "R9rW1oElBVpK",
        "outputId": "3935370b-cdb6-4746-9eed-28bf66d78edb"
      },
      "source": [
        "input_ids = data['input_ids'].to(device)\n",
        "attention_mask = data['attention_mask'].to(device)\n",
        "\n",
        "print(input_ids.shape) # batch size x seq length\n",
        "print(attention_mask.shape) # batch size x seq length"
      ],
      "execution_count": null,
      "outputs": [
        {
          "output_type": "stream",
          "text": [
            "torch.Size([32, 128])\n",
            "torch.Size([32, 128])\n"
          ],
          "name": "stdout"
        }
      ]
    },
    {
      "cell_type": "code",
      "metadata": {
        "colab": {
          "base_uri": "https://localhost:8080/"
        },
        "id": "9muBvSeABd3K",
        "outputId": "9c9240bf-9b9e-4c90-ce30-00ae3346bb48"
      },
      "source": [
        "nn.functional.softmax(model(input_ids, attention_mask), dim=1)"
      ],
      "execution_count": null,
      "outputs": [
        {
          "output_type": "execute_result",
          "data": {
            "text/plain": [
              "tensor([[0.5265, 0.4735],\n",
              "        [0.5458, 0.4542],\n",
              "        [0.5316, 0.4684],\n",
              "        [0.5353, 0.4647],\n",
              "        [0.6046, 0.3954],\n",
              "        [0.5350, 0.4650],\n",
              "        [0.5532, 0.4468],\n",
              "        [0.5246, 0.4754],\n",
              "        [0.5120, 0.4880],\n",
              "        [0.5204, 0.4796],\n",
              "        [0.5363, 0.4637],\n",
              "        [0.5611, 0.4389],\n",
              "        [0.5380, 0.4620],\n",
              "        [0.5047, 0.4953],\n",
              "        [0.5442, 0.4558],\n",
              "        [0.5030, 0.4970],\n",
              "        [0.5222, 0.4778],\n",
              "        [0.5038, 0.4962],\n",
              "        [0.5604, 0.4396],\n",
              "        [0.5554, 0.4446],\n",
              "        [0.5616, 0.4384],\n",
              "        [0.5428, 0.4572],\n",
              "        [0.5128, 0.4872],\n",
              "        [0.4757, 0.5243],\n",
              "        [0.5418, 0.4582],\n",
              "        [0.5204, 0.4796],\n",
              "        [0.5304, 0.4696],\n",
              "        [0.5248, 0.4752],\n",
              "        [0.5190, 0.4810],\n",
              "        [0.5675, 0.4325],\n",
              "        [0.5671, 0.4329],\n",
              "        [0.5394, 0.4606]], device='cuda:0', grad_fn=<SoftmaxBackward>)"
            ]
          },
          "metadata": {
            "tags": []
          },
          "execution_count": 43
        }
      ]
    },
    {
      "cell_type": "markdown",
      "metadata": {
        "id": "-2VXaCwmFS4Y"
      },
      "source": [
        "# Fine Tune with the Silver Set"
      ]
    },
    {
      "cell_type": "code",
      "metadata": {
        "id": "TRPflZrFuI3A"
      },
      "source": [
        "EPOCHS = 2 #3 #1\n",
        "\n",
        "optimizer = AdamW(model.parameters(), lr=2e-5, correct_bias=False) \n",
        "total_steps = len(silver_train_loader) * EPOCHS\n",
        "\n",
        "scheduler = get_linear_schedule_with_warmup(\n",
        "  optimizer,\n",
        "  num_warmup_steps=0.1*total_steps,\n",
        "  num_training_steps=total_steps\n",
        ")\n",
        "\n",
        "loss_fn = nn.CrossEntropyLoss().to(device)"
      ],
      "execution_count": null,
      "outputs": []
    },
    {
      "cell_type": "code",
      "metadata": {
        "id": "DbXhxhF2lYKS"
      },
      "source": [
        "def train_epoch(\n",
        "  model, \n",
        "  data_loader, \n",
        "  loss_fn, \n",
        "  optimizer, \n",
        "  device, \n",
        "  scheduler, \n",
        "  n_examples\n",
        "):\n",
        "  model = model.train()\n",
        "\n",
        "  losses = []\n",
        "  correct_predictions = 0\n",
        "  \n",
        "  for d in data_loader:\n",
        "    input_ids = d[\"input_ids\"].to(device)\n",
        "    attention_mask = d[\"attention_mask\"].to(device)\n",
        "    classes = d[\"classes\"].to(device)\n",
        "\n",
        "    outputs = model(\n",
        "      input_ids=input_ids,\n",
        "      attention_mask=attention_mask\n",
        "    )\n",
        "\n",
        "    _, preds = torch.max(outputs, dim=1)\n",
        "    loss = loss_fn(outputs, classes)\n",
        "\n",
        "    correct_predictions += torch.sum(preds == classes)\n",
        "    losses.append(loss.item())\n",
        "\n",
        "    loss.backward()\n",
        "    nn.utils.clip_grad_norm_(model.parameters(), max_norm=1.0)\n",
        "    optimizer.step()\n",
        "    scheduler.step()\n",
        "    optimizer.zero_grad()\n",
        "\n",
        "  return correct_predictions.double() / n_examples, np.mean(losses)"
      ],
      "execution_count": null,
      "outputs": []
    },
    {
      "cell_type": "code",
      "metadata": {
        "id": "Bs5IbOQGmbJL"
      },
      "source": [
        "def eval_model(model, data_loader, loss_fn, device, n_examples):\n",
        "  model = model.eval()\n",
        "\n",
        "  losses = []\n",
        "  correct_predictions = 0\n",
        "\n",
        "  with torch.no_grad():\n",
        "    for d in data_loader:\n",
        "      input_ids = d[\"input_ids\"].to(device)\n",
        "      attention_mask = d[\"attention_mask\"].to(device)\n",
        "      classes = d[\"classes\"].to(device)\n",
        "\n",
        "      outputs = model(\n",
        "        input_ids=input_ids,\n",
        "        attention_mask=attention_mask\n",
        "      )\n",
        "      _, preds = torch.max(outputs, dim=1)\n",
        "\n",
        "      loss = loss_fn(outputs, classes)\n",
        "\n",
        "      correct_predictions += torch.sum(preds == classes)\n",
        "      losses.append(loss.item())\n",
        "\n",
        "  return correct_predictions.double() / n_examples, np.mean(losses)"
      ],
      "execution_count": null,
      "outputs": []
    },
    {
      "cell_type": "code",
      "metadata": {
        "id": "1zhHoFNsxufs",
        "colab": {
          "base_uri": "https://localhost:8080/"
        },
        "outputId": "230c1dd0-2b44-4c58-d065-2c2d402865f3"
      },
      "source": [
        "%%time\n",
        "\n",
        "history = defaultdict(list)\n",
        "best_accuracy = 0\n",
        "\n",
        "for epoch in range(EPOCHS):\n",
        "\n",
        "  print(f'Epoch {epoch + 1}/{EPOCHS}')\n",
        "  print('-' * 10)\n",
        "\n",
        "  silver_train_acc, silver_train_loss = train_epoch(\n",
        "    model,\n",
        "    silver_train_loader,    \n",
        "    loss_fn, \n",
        "    optimizer, \n",
        "    device, \n",
        "    scheduler, \n",
        "    len(silver_train)\n",
        "  )\n",
        "\n",
        "  print(f'Silver set train loss {silver_train_loss} accuracy {silver_train_acc}')\n",
        "\n",
        "  silver_val_acc, silver_val_loss = eval_model(\n",
        "    model,\n",
        "    silver_dev_loader,\n",
        "    loss_fn, \n",
        "    device, \n",
        "    len(silver_dev)\n",
        "  )\n",
        "\n",
        "  print(f'Siver set val   loss {silver_val_loss} accuracy {silver_val_acc}')\n",
        "  print()\n",
        "\n",
        "  history['silver_train_acc'].append(silver_train_acc)\n",
        "  history['silver_train_loss'].append(silver_train_loss)\n",
        "  history['silver_val_acc'].append(silver_val_acc)\n",
        "  history['silver_val_loss'].append(silver_val_loss)\n",
        "\n",
        "  if silver_val_acc > best_accuracy:\n",
        "    torch.save(model.state_dict(), 'best_model_state.bin')\n",
        "    best_accuracy = silver_val_acc"
      ],
      "execution_count": null,
      "outputs": [
        {
          "output_type": "stream",
          "text": [
            "Epoch 1/2\n",
            "----------\n",
            "Silver set train loss 0.38670221179644726 accuracy 0.8163154827501443\n",
            "Siver set val   loss 0.3500250800052252 accuracy 0.8412130251056426\n",
            "\n",
            "Epoch 2/2\n",
            "----------\n",
            "Silver set train loss 0.29347244433291547 accuracy 0.8660308622027779\n",
            "Siver set val   loss 0.3340922963578959 accuracy 0.8555306984837187\n",
            "\n",
            "CPU times: user 2h 36min 28s, sys: 1h 42min 48s, total: 4h 19min 16s\n",
            "Wall time: 4h 20min 29s\n"
          ],
          "name": "stdout"
        }
      ]
    },
    {
      "cell_type": "markdown",
      "metadata": {
        "id": "TWVyAuiaFZ7-"
      },
      "source": [
        "# Fine Tune with the Golden Set"
      ]
    },
    {
      "cell_type": "code",
      "metadata": {
        "id": "kGe8Ft6I_WQy"
      },
      "source": [
        "BATCH_SIZE = 32 #16\n",
        "MAX_LEN = 120"
      ],
      "execution_count": null,
      "outputs": []
    },
    {
      "cell_type": "code",
      "metadata": {
        "id": "Rjx4orCFafL9"
      },
      "source": [
        "train_data_loader = create_data_loader(train, tokenizer, MAX_LEN, BATCH_SIZE)\n",
        "dev_data_loader = create_data_loader(dev, tokenizer, MAX_LEN, BATCH_SIZE)"
      ],
      "execution_count": null,
      "outputs": []
    },
    {
      "cell_type": "code",
      "metadata": {
        "id": "N9ugkxs4c6zO",
        "colab": {
          "base_uri": "https://localhost:8080/"
        },
        "outputId": "f4f5e48f-eb4d-4c6d-a4d1-6c10e2ac73ca"
      },
      "source": [
        "data = next(iter(train_data_loader))\n",
        "data.keys()"
      ],
      "execution_count": null,
      "outputs": [
        {
          "output_type": "execute_result",
          "data": {
            "text/plain": [
              "dict_keys(['tweets', 'input_ids', 'attention_mask', 'classes'])"
            ]
          },
          "metadata": {
            "tags": []
          },
          "execution_count": 50
        }
      ]
    },
    {
      "cell_type": "code",
      "metadata": {
        "id": "vaNK3NPUdFVz",
        "colab": {
          "base_uri": "https://localhost:8080/"
        },
        "outputId": "b5a05c46-9ecd-4855-91c6-6377cd6500f8"
      },
      "source": [
        "print(data['input_ids'].shape)\n",
        "print(data['attention_mask'].shape)\n",
        "print(data['classes'].shape)"
      ],
      "execution_count": null,
      "outputs": [
        {
          "output_type": "stream",
          "text": [
            "torch.Size([32, 120])\n",
            "torch.Size([32, 120])\n",
            "torch.Size([32])\n"
          ],
          "name": "stdout"
        }
      ]
    },
    {
      "cell_type": "code",
      "metadata": {
        "id": "dFyoi8l8jt_S",
        "colab": {
          "base_uri": "https://localhost:8080/"
        },
        "outputId": "b90a7ee4-221a-45f6-d31b-86572129bf91"
      },
      "source": [
        "input_ids = data['input_ids'].to(device)\n",
        "attention_mask = data['attention_mask'].to(device)\n",
        "\n",
        "print(input_ids.shape) # batch size x seq length\n",
        "print(attention_mask.shape) # batch size x seq length"
      ],
      "execution_count": null,
      "outputs": [
        {
          "output_type": "stream",
          "text": [
            "torch.Size([32, 120])\n",
            "torch.Size([32, 120])\n"
          ],
          "name": "stdout"
        }
      ]
    },
    {
      "cell_type": "code",
      "metadata": {
        "id": "cCOruTmaj0EX",
        "colab": {
          "base_uri": "https://localhost:8080/"
        },
        "outputId": "a0cabb0c-8975-49cd-f180-ea0894e35dfb"
      },
      "source": [
        "nn.functional.softmax(model(input_ids, attention_mask), dim=1)"
      ],
      "execution_count": null,
      "outputs": [
        {
          "output_type": "execute_result",
          "data": {
            "text/plain": [
              "tensor([[9.9912e-01, 8.7949e-04],\n",
              "        [9.9546e-01, 4.5443e-03],\n",
              "        [9.3669e-01, 6.3312e-02],\n",
              "        [9.9913e-01, 8.6896e-04],\n",
              "        [2.2781e-02, 9.7722e-01],\n",
              "        [9.8167e-01, 1.8326e-02],\n",
              "        [9.3707e-01, 6.2927e-02],\n",
              "        [1.0036e-02, 9.8996e-01],\n",
              "        [9.9908e-01, 9.2184e-04],\n",
              "        [9.9909e-01, 9.0623e-04],\n",
              "        [8.9593e-01, 1.0407e-01],\n",
              "        [6.1175e-04, 9.9939e-01],\n",
              "        [9.9772e-01, 2.2823e-03],\n",
              "        [6.7165e-04, 9.9933e-01],\n",
              "        [9.9919e-01, 8.0958e-04],\n",
              "        [9.0549e-01, 9.4513e-02],\n",
              "        [9.9901e-01, 9.9281e-04],\n",
              "        [6.7906e-01, 3.2094e-01],\n",
              "        [6.0847e-04, 9.9939e-01],\n",
              "        [9.9919e-01, 8.0708e-04],\n",
              "        [1.2875e-01, 8.7125e-01],\n",
              "        [9.3230e-01, 6.7703e-02],\n",
              "        [9.6832e-03, 9.9032e-01],\n",
              "        [9.9908e-01, 9.2454e-04],\n",
              "        [9.8816e-01, 1.1841e-02],\n",
              "        [3.1802e-03, 9.9682e-01],\n",
              "        [7.6125e-04, 9.9924e-01],\n",
              "        [2.3073e-03, 9.9769e-01],\n",
              "        [9.9900e-01, 9.9637e-04],\n",
              "        [9.9503e-01, 4.9712e-03],\n",
              "        [9.9917e-01, 8.3501e-04],\n",
              "        [2.6811e-03, 9.9732e-01]], device='cuda:0', grad_fn=<SoftmaxBackward>)"
            ]
          },
          "metadata": {
            "tags": []
          },
          "execution_count": 53
        }
      ]
    },
    {
      "cell_type": "code",
      "metadata": {
        "id": "I5pjdEL4k1BI"
      },
      "source": [
        "EPOCHS = 14 #5 #10 #20 #8 #3 #5 #8 #10\n",
        "\n",
        "optimizer = AdamW(model.parameters(), lr=2e-5, correct_bias=False) #change lr from 2e-5 to 5e-5\n",
        "total_steps = len(train_data_loader) * EPOCHS\n",
        "\n",
        "scheduler = get_linear_schedule_with_warmup(\n",
        "  optimizer,\n",
        "  num_warmup_steps=0.1*total_steps,\n",
        "  num_training_steps=total_steps\n",
        ")\n",
        "\n",
        "loss_fn = nn.CrossEntropyLoss().to(device)"
      ],
      "execution_count": null,
      "outputs": []
    },
    {
      "cell_type": "code",
      "metadata": {
        "id": "Gz2BJ6CpJbjs"
      },
      "source": [
        "def get_predictions(model, data_loader):\n",
        "  model = model.eval()\n",
        "  \n",
        "  tweets = []\n",
        "  predictions = []\n",
        "  prediction_probs = []\n",
        "  real_values = []\n",
        "\n",
        "  with torch.no_grad():\n",
        "    for d in data_loader:\n",
        "\n",
        "      texts = d[\"tweets\"]\n",
        "      input_ids = d[\"input_ids\"].to(device)\n",
        "      attention_mask = d[\"attention_mask\"].to(device)\n",
        "      classes = d[\"classes\"].to(device)\n",
        "\n",
        "      outputs = model(\n",
        "        input_ids=input_ids,\n",
        "        attention_mask=attention_mask\n",
        "      )\n",
        "      _, preds = torch.max(outputs, dim=1)\n",
        "\n",
        "      probs = nn.functional.softmax(outputs, dim=1)\n",
        "\n",
        "      tweets.extend(tweets)\n",
        "      predictions.extend(preds)\n",
        "      prediction_probs.extend(probs)\n",
        "      real_values.extend(classes)\n",
        "\n",
        "  predictions = torch.stack(predictions).cpu()\n",
        "  prediction_probs = torch.stack(prediction_probs).cpu()\n",
        "  real_values = torch.stack(real_values).cpu()\n",
        "  return tweets, predictions, prediction_probs, real_values"
      ],
      "execution_count": null,
      "outputs": []
    },
    {
      "cell_type": "code",
      "metadata": {
        "id": "oiy7417HmokP",
        "colab": {
          "base_uri": "https://localhost:8080/"
        },
        "outputId": "3dfc3944-75d0-40f3-85e2-40a817cf1e50"
      },
      "source": [
        "%%time\n",
        "\n",
        "history = defaultdict(list)\n",
        "best_accuracy = 0\n",
        "\n",
        "for epoch in range(EPOCHS):\n",
        "\n",
        "  print(f'Epoch {epoch + 1}/{EPOCHS}')\n",
        "  print('-' * 10)\n",
        "\n",
        "  train_acc, train_loss = train_epoch(\n",
        "    model,\n",
        "    train_data_loader,    \n",
        "    loss_fn, \n",
        "    optimizer, \n",
        "    device, \n",
        "    scheduler, \n",
        "    len(train)\n",
        "  )\n",
        "\n",
        "  print(f'Train loss {train_loss} accuracy {train_acc}')\n",
        "\n",
        "  val_acc, val_loss = eval_model(\n",
        "    model,\n",
        "    dev_data_loader,\n",
        "    loss_fn, \n",
        "    device, \n",
        "    len(dev)\n",
        "  )\n",
        "\n",
        "  print(f'Val   loss {val_loss} accuracy {val_acc}')\n",
        "  #print()\n",
        "\n",
        "  history['train_acc'].append(train_acc)\n",
        "  history['train_loss'].append(train_loss)\n",
        "  history['val_acc'].append(val_acc)\n",
        "  history['val_loss'].append(val_loss)\n",
        "\n",
        "  if val_acc > best_accuracy:\n",
        "    torch.save(model.state_dict(), 'best_model_state.bin')\n",
        "    best_accuracy = val_acc\n",
        "  \n",
        "  y_tweets, y_pred, y_pred_probs, y_test = get_predictions(\n",
        "  model,\n",
        "  dev_data_loader\n",
        "  )\n",
        "  f1_score = precision_recall_fscore_support(y_test, y_pred)[2][1]\n",
        "\n",
        "  print(f'Val    f1-score {f1_score}')\n",
        "  print()\n",
        "  history['f1_score'].append(f1_score) \n"
      ],
      "execution_count": null,
      "outputs": [
        {
          "output_type": "stream",
          "text": [
            "Epoch 1/14\n",
            "----------\n",
            "Train loss 0.40283549143407305 accuracy 0.8814116215393977\n",
            "Val   loss 0.1945483053839484 accuracy 0.9238257483572645\n",
            "Val    f1-score 0.5522174535050072\n",
            "\n",
            "Epoch 2/14\n",
            "----------\n",
            "Train loss 0.1748454860114431 accuracy 0.9329479768786128\n",
            "Val   loss 0.20395527411136746 accuracy 0.929423217327817\n",
            "Val    f1-score 0.5772594752186588\n",
            "\n",
            "Epoch 3/14\n",
            "----------\n",
            "Train loss 0.1168782402342729 accuracy 0.9580772741101308\n",
            "Val   loss 0.24947916728610448 accuracy 0.9262594305183742\n",
            "Val    f1-score 0.6130268199233717\n",
            "\n",
            "Epoch 4/14\n",
            "----------\n",
            "Train loss 0.07387119173258 accuracy 0.9780346820809248\n",
            "Val   loss 0.3261059791611349 accuracy 0.9104404964711609\n",
            "Val    f1-score 0.6109936575052853\n",
            "\n",
            "Epoch 5/14\n",
            "----------\n",
            "Train loss 0.05814564976977558 accuracy 0.9835108001216916\n",
            "Val   loss 0.3339888104797132 accuracy 0.919201752251156\n",
            "Val    f1-score 0.6148491879350347\n",
            "\n",
            "Epoch 6/14\n",
            "----------\n",
            "Train loss 0.03339143646568429 accuracy 0.9912990568907819\n",
            "Val   loss 0.3506170604396034 accuracy 0.9306400584083718\n",
            "Val    f1-score 0.6433041301627034\n",
            "\n",
            "Epoch 7/14\n",
            "----------\n",
            "Train loss 0.02203700918352534 accuracy 0.9944021904472163\n",
            "Val   loss 0.3888107871132733 accuracy 0.9303966901922608\n",
            "Val    f1-score 0.6236842105263157\n",
            "\n",
            "Epoch 8/14\n",
            "----------\n",
            "Train loss 0.015633288291946563 accuracy 0.9964709461515059\n",
            "Val   loss 0.4156296410624483 accuracy 0.9274762715989291\n",
            "Val    f1-score 0.6339066339066339\n",
            "\n",
            "Epoch 9/14\n",
            "----------\n",
            "Train loss 0.011176911622061846 accuracy 0.9976270155156678\n",
            "Val   loss 0.46634561549840575 accuracy 0.9201752251155999\n",
            "Val    f1-score 0.6247139588100686\n",
            "\n",
            "Epoch 10/14\n",
            "----------\n",
            "Train loss 0.008235206133049571 accuracy 0.9982963188317615\n",
            "Val   loss 0.4817837785271559 accuracy 0.9199318568994889\n",
            "Val    f1-score 0.61610268378063\n",
            "\n",
            "Epoch 11/14\n",
            "----------\n",
            "Train loss 0.005716835032726805 accuracy 0.9987222391238211\n",
            "Val   loss 0.4769137765653386 accuracy 0.9233390119250425\n",
            "Val    f1-score 0.6236559139784945\n",
            "\n",
            "Epoch 12/14\n",
            "----------\n",
            "Train loss 0.003073858787434865 accuracy 0.9993306966839063\n",
            "Val   loss 0.4711176724840486 accuracy 0.9301533219761499\n",
            "Val    f1-score 0.6334610472541506\n",
            "\n",
            "Epoch 13/14\n",
            "----------\n",
            "Train loss 0.003067944029022569 accuracy 0.9994523881959233\n",
            "Val   loss 0.4964567258160574 accuracy 0.9265027987344853\n",
            "Val    f1-score 0.6317073170731707\n",
            "\n",
            "Epoch 14/14\n",
            "----------\n",
            "Train loss 0.004425400157321715 accuracy 0.9992090051718893\n",
            "Val   loss 0.4754974496356381 accuracy 0.9301533219761499\n",
            "Val    f1-score 0.6258148631029986\n",
            "\n",
            "CPU times: user 51min, sys: 34min 3s, total: 1h 25min 4s\n",
            "Wall time: 1h 25min 37s\n"
          ],
          "name": "stdout"
        }
      ]
    },
    {
      "cell_type": "code",
      "metadata": {
        "id": "pX0ZB7zSYpdI",
        "colab": {
          "base_uri": "https://localhost:8080/",
          "height": 295
        },
        "outputId": "8d10c512-2dd2-48d9-8356-ac246ff9b78e"
      },
      "source": [
        "plt.plot(history['train_acc'], label='train accuracy')\n",
        "plt.plot(history['val_acc'], label='validation accuracy')\n",
        "plt.grid(axis='both')\n",
        "plt.title('Training history')\n",
        "plt.ylabel('Accuracy')\n",
        "plt.xlabel('Epoch')\n",
        "plt.xticks(ticks=range(20))\n",
        "plt.legend()\n",
        "plt.ylim([0.85, 1]);"
      ],
      "execution_count": null,
      "outputs": [
        {
          "output_type": "display_data",
          "data": {
            "image/png": "[encoded data removed]",
            "text/plain": [
              "<Figure size 432x288 with 1 Axes>"
            ]
          },
          "metadata": {
            "tags": [],
            "needs_background": "light"
          }
        }
      ]
    },
    {
      "cell_type": "code",
      "metadata": {
        "id": "1p3cP2rPInaT",
        "colab": {
          "base_uri": "https://localhost:8080/",
          "height": 313
        },
        "outputId": "1fccb5b3-a613-4336-fb20-5ed8a63ffb7d"
      },
      "source": [
        "plt.plot(history['f1_score'], label='validation f1-score')\n",
        "plt.grid(axis='both')\n",
        "plt.title('Training history')\n",
        "plt.ylabel('f1-score')\n",
        "plt.xlabel('Epoch')\n",
        "plt.xticks(ticks=range(20))\n",
        "plt.legend()\n",
        "plt.ylim([0.4, 0.8])"
      ],
      "execution_count": null,
      "outputs": [
        {
          "output_type": "execute_result",
          "data": {
            "text/plain": [
              "(0.4, 0.8)"
            ]
          },
          "metadata": {
            "tags": []
          },
          "execution_count": 58
        },
        {
          "output_type": "display_data",
          "data": {
            "image/png": "[encoded data removed]",
            "text/plain": [
              "<Figure size 432x288 with 1 Axes>"
            ]
          },
          "metadata": {
            "tags": [],
            "needs_background": "light"
          }
        }
      ]
    },
    {
      "cell_type": "markdown",
      "metadata": {
        "id": "R1vb7Q_Cfchv"
      },
      "source": [
        "# Evaluation on the Dev Set"
      ]
    },
    {
      "cell_type": "code",
      "metadata": {
        "id": "jS3gJ_qBEljD",
        "colab": {
          "base_uri": "https://localhost:8080/"
        },
        "outputId": "3346d9fe-b19e-40a9-8572-3d02604c6687"
      },
      "source": [
        "test_acc, _ = eval_model(\n",
        "  model,\n",
        "  dev_data_loader,\n",
        "  loss_fn,\n",
        "  device,\n",
        "  len(dev)\n",
        ")\n",
        "\n",
        "test_acc.item()"
      ],
      "execution_count": null,
      "outputs": [
        {
          "output_type": "execute_result",
          "data": {
            "text/plain": [
              "0.9301533219761499"
            ]
          },
          "metadata": {
            "tags": []
          },
          "execution_count": 59
        }
      ]
    },
    {
      "cell_type": "code",
      "metadata": {
        "id": "AYzaO4XkJ8-K"
      },
      "source": [
        "y_tweets, y_pred, y_pred_probs, y_test = get_predictions(\n",
        "  model,\n",
        "  dev_data_loader\n",
        ")"
      ],
      "execution_count": null,
      "outputs": []
    },
    {
      "cell_type": "code",
      "metadata": {
        "colab": {
          "base_uri": "https://localhost:8080/"
        },
        "id": "by-cvPMvtuO9",
        "outputId": "cda6d49d-7c26-498e-e779-a2a7e1dc55be"
      },
      "source": [
        "print('precision:', precision_recall_fscore_support(dev['class'], y_pred)[0][1])\n",
        "print('recall:', precision_recall_fscore_support(dev['class'], y_pred)[1][1])\n",
        "print('f1_score:', precision_recall_fscore_support(dev['class'], y_pred)[2][1])"
      ],
      "execution_count": null,
      "outputs": [
        {
          "output_type": "stream",
          "text": [
            "precision: 0.6299212598425197\n",
            "recall: 0.6217616580310881\n",
            "f1_score: 0.6258148631029986\n"
          ],
          "name": "stdout"
        }
      ]
    },
    {
      "cell_type": "code",
      "metadata": {
        "id": "0Qvqbfy9MmyG",
        "colab": {
          "base_uri": "https://localhost:8080/",
          "height": 281
        },
        "outputId": "90d59f0b-f245-450e-9dff-2ceca70a3d05"
      },
      "source": [
        "def show_confusion_matrix(confusion_matrix):\n",
        "  hmap = sns.heatmap(confusion_matrix, annot=True, fmt=\"d\", cmap=\"Blues\")\n",
        "  hmap.yaxis.set_ticklabels(hmap.yaxis.get_ticklabels(), rotation=0, ha='right')\n",
        "  hmap.xaxis.set_ticklabels(hmap.xaxis.get_ticklabels(), rotation=30, ha='right')\n",
        "  plt.ylabel('True lable')\n",
        "  plt.xlabel('Predicted label');\n",
        "\n",
        "cm = confusion_matrix(y_test, y_pred)\n",
        "df_cm = pd.DataFrame(cm)\n",
        "show_confusion_matrix(df_cm)"
      ],
      "execution_count": null,
      "outputs": [
        {
          "output_type": "display_data",
          "data": {
            "image/png": "[encoded data removed]",
            "text/plain": [
              "<Figure size 432x288 with 2 Axes>"
            ]
          },
          "metadata": {
            "tags": [],
            "needs_background": "light"
          }
        }
      ]
    },
    {
      "cell_type": "code",
      "metadata": {
        "id": "TBCszW3Kyg7k",
        "colab": {
          "base_uri": "https://localhost:8080/",
          "height": 306
        },
        "outputId": "137b83d0-aa7e-4f71-c390-9924c1437fc2"
      },
      "source": [
        "group = []\n",
        "for index, row in dev.iterrows():\n",
        "  if row['class'] == 1:\n",
        "    if row['pred'] == 1:\n",
        "      group.append('TP')\n",
        "    else:\n",
        "      group.append('FN')\n",
        "  else:\n",
        "    if row['pred'] == 1:\n",
        "      group.append('FP')\n",
        "    else:\n",
        "      group.append('TN')\n",
        "dev['group'] = group\n",
        "dev.head()"
      ],
      "execution_count": null,
      "outputs": [
        {
          "output_type": "stream",
          "text": [
            "/usr/local/lib/python3.6/dist-packages/ipykernel_launcher.py:13: SettingWithCopyWarning: \n",
            "A value is trying to be set on a copy of a slice from a DataFrame.\n",
            "Try using .loc[row_indexer,col_indexer] = value instead\n",
            "\n",
            "See the caveats in the documentation: https://pandas.pydata.org/pandas-docs/stable/user_guide/indexing.html#returning-a-view-versus-a-copy\n",
            "  del sys.path[0]\n"
          ],
          "name": "stderr"
        },
        {
          "output_type": "execute_result",
          "data": {
            "text/html": [
              "<div>\n",
              "<style scoped>\n",
              "    .dataframe tbody tr th:only-of-type {\n",
              "        vertical-align: middle;\n",
              "    }\n",
              "\n",
              "    .dataframe tbody tr th {\n",
              "        vertical-align: top;\n",
              "    }\n",
              "\n",
              "    .dataframe thead th {\n",
              "        text-align: right;\n",
              "    }\n",
              "</style>\n",
              "<table border=\"1\" class=\"dataframe\">\n",
              "  <thead>\n",
              "    <tr style=\"text-align: right;\">\n",
              "      <th></th>\n",
              "      <th>tweet_id</th>\n",
              "      <th>user_id</th>\n",
              "      <th>class</th>\n",
              "      <th>tweet</th>\n",
              "      <th>clean_tweet</th>\n",
              "      <th>pred</th>\n",
              "      <th>prob</th>\n",
              "      <th>group</th>\n",
              "    </tr>\n",
              "  </thead>\n",
              "  <tbody>\n",
              "    <tr>\n",
              "      <th>6565</th>\n",
              "      <td>430820666170818561</td>\n",
              "      <td>74008439</td>\n",
              "      <td>0</td>\n",
              "      <td>and obama's deal w/big pharma made the much mo...</td>\n",
              "      <td>and obama's deal w/big pharma made the much mo...</td>\n",
              "      <td>0</td>\n",
              "      <td>0.999052</td>\n",
              "      <td>TN</td>\n",
              "    </tr>\n",
              "    <tr>\n",
              "      <th>18909</th>\n",
              "      <td>530914398194266112</td>\n",
              "      <td>2514112999</td>\n",
              "      <td>0</td>\n",
              "      <td>i have to voice one more thing..im left w noon...</td>\n",
              "      <td>i have to voice one more thing..im left w noon...</td>\n",
              "      <td>0</td>\n",
              "      <td>0.998964</td>\n",
              "      <td>TN</td>\n",
              "    </tr>\n",
              "    <tr>\n",
              "      <th>11638</th>\n",
              "      <td>540441759889625088</td>\n",
              "      <td>2808223652</td>\n",
              "      <td>0</td>\n",
              "      <td>name: kaylee hogan. i'm a carpenter and i like...</td>\n",
              "      <td>name: kaylee hogan. i'm a carpenter and i like...</td>\n",
              "      <td>0</td>\n",
              "      <td>0.999088</td>\n",
              "      <td>TN</td>\n",
              "    </tr>\n",
              "    <tr>\n",
              "      <th>13248</th>\n",
              "      <td>483211325284179968</td>\n",
              "      <td>2350639447</td>\n",
              "      <td>0</td>\n",
              "      <td>@doctortranri360 the clinical trial studying p...</td>\n",
              "      <td>the clinical trial studying pts on exubera has...</td>\n",
              "      <td>0</td>\n",
              "      <td>0.998998</td>\n",
              "      <td>TN</td>\n",
              "    </tr>\n",
              "    <tr>\n",
              "      <th>19460</th>\n",
              "      <td>537747355815014400</td>\n",
              "      <td>1288832539</td>\n",
              "      <td>0</td>\n",
              "      <td>yup, just lit up some basswood n pressing a cu...</td>\n",
              "      <td>yup, just lit up some basswood n pressing a cu...</td>\n",
              "      <td>0</td>\n",
              "      <td>0.998866</td>\n",
              "      <td>TN</td>\n",
              "    </tr>\n",
              "  </tbody>\n",
              "</table>\n",
              "</div>"
            ],
            "text/plain": [
              "                 tweet_id     user_id  class  ... pred      prob  group\n",
              "6565   430820666170818561    74008439      0  ...    0  0.999052     TN\n",
              "18909  530914398194266112  2514112999      0  ...    0  0.998964     TN\n",
              "11638  540441759889625088  2808223652      0  ...    0  0.999088     TN\n",
              "13248  483211325284179968  2350639447      0  ...    0  0.998998     TN\n",
              "19460  537747355815014400  1288832539      0  ...    0  0.998866     TN\n",
              "\n",
              "[5 rows x 8 columns]"
            ]
          },
          "metadata": {
            "tags": []
          },
          "execution_count": 73
        }
      ]
    },
    {
      "cell_type": "code",
      "metadata": {
        "id": "H3DenLaelZ0D",
        "colab": {
          "base_uri": "https://localhost:8080/",
          "height": 296
        },
        "outputId": "5fd3ca1a-d8e7-4afc-879f-e24306a498fe"
      },
      "source": [
        "sns.boxplot(x='group', y='prob', data=dev)"
      ],
      "execution_count": null,
      "outputs": [
        {
          "output_type": "execute_result",
          "data": {
            "text/plain": [
              "<matplotlib.axes._subplots.AxesSubplot at 0x7fdf80b17860>"
            ]
          },
          "metadata": {
            "tags": []
          },
          "execution_count": 74
        },
        {
          "output_type": "display_data",
          "data": {
            "image/png": "[encoded data removed]",
            "text/plain": [
              "<Figure size 432x288 with 1 Axes>"
            ]
          },
          "metadata": {
            "tags": [],
            "needs_background": "light"
          }
        }
      ]
    },
    {
      "cell_type": "markdown",
      "metadata": {
        "id": "6wVNuKC1foLZ"
      },
      "source": [
        "# Predict the Test Set"
      ]
    },
    {
      "cell_type": "code",
      "metadata": {
        "id": "rwRT-yODPY8A"
      },
      "source": [
        "test_data_loader = create_data_loader(df_test, tokenizer, MAX_LEN, BATCH_SIZE)"
      ],
      "execution_count": null,
      "outputs": []
    },
    {
      "cell_type": "code",
      "metadata": {
        "id": "p0qYf3eKPdwE"
      },
      "source": [
        "y_tweets, y_pred, y_pred_probs, y_test = get_predictions(\n",
        "  model,\n",
        "  test_data_loader\n",
        ")"
      ],
      "execution_count": null,
      "outputs": []
    },
    {
      "cell_type": "code",
      "metadata": {
        "id": "vqSJEOeJlYdE"
      },
      "source": [
        "df_test['Class'] = y_pred"
      ],
      "execution_count": null,
      "outputs": []
    },
    {
      "cell_type": "markdown",
      "metadata": {
        "id": "rtb2CUtQGfwc"
      },
      "source": [
        "# Create the File for Submission"
      ]
    },
    {
      "cell_type": "code",
      "metadata": {
        "id": "hgEttuApKzf9"
      },
      "source": [
        "df_test.to_csv('/content/prediction_task2_en.tsv',sep='\\t')"
      ],
      "execution_count": null,
      "outputs": []
    }
  ]
}